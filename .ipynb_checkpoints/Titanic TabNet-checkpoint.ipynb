{
 "cells": [
  {
   "cell_type": "markdown",
   "metadata": {},
   "source": [
    "## Vamos tentar processar de uma maneira diferente agora..."
   ]
  },
  {
   "cell_type": "markdown",
   "metadata": {},
   "source": [
    "Por hora, tudo permanece igual"
   ]
  },
  {
   "cell_type": "code",
   "execution_count": 4,
   "metadata": {},
   "outputs": [],
   "source": [
    "import pandas as pd\n",
    "import matplotlib.pyplot as plt\n",
    "import seaborn as sns\n",
    "import numpy as np\n",
    "sns.set()"
   ]
  },
  {
   "cell_type": "code",
   "execution_count": 5,
   "metadata": {},
   "outputs": [
    {
     "name": "stdout",
     "output_type": "stream",
     "text": [
      "(891, 11)\n"
     ]
    },
    {
     "data": {
      "text/html": [
       "<div>\n",
       "<style scoped>\n",
       "    .dataframe tbody tr th:only-of-type {\n",
       "        vertical-align: middle;\n",
       "    }\n",
       "\n",
       "    .dataframe tbody tr th {\n",
       "        vertical-align: top;\n",
       "    }\n",
       "\n",
       "    .dataframe thead th {\n",
       "        text-align: right;\n",
       "    }\n",
       "</style>\n",
       "<table border=\"1\" class=\"dataframe\">\n",
       "  <thead>\n",
       "    <tr style=\"text-align: right;\">\n",
       "      <th></th>\n",
       "      <th>Survived</th>\n",
       "      <th>Pclass</th>\n",
       "      <th>Name</th>\n",
       "      <th>Sex</th>\n",
       "      <th>Age</th>\n",
       "      <th>SibSp</th>\n",
       "      <th>Parch</th>\n",
       "      <th>Ticket</th>\n",
       "      <th>Fare</th>\n",
       "      <th>Cabin</th>\n",
       "      <th>Embarked</th>\n",
       "    </tr>\n",
       "    <tr>\n",
       "      <th>PassengerId</th>\n",
       "      <th></th>\n",
       "      <th></th>\n",
       "      <th></th>\n",
       "      <th></th>\n",
       "      <th></th>\n",
       "      <th></th>\n",
       "      <th></th>\n",
       "      <th></th>\n",
       "      <th></th>\n",
       "      <th></th>\n",
       "      <th></th>\n",
       "    </tr>\n",
       "  </thead>\n",
       "  <tbody>\n",
       "    <tr>\n",
       "      <th>1</th>\n",
       "      <td>0</td>\n",
       "      <td>3</td>\n",
       "      <td>Braund, Mr. Owen Harris</td>\n",
       "      <td>male</td>\n",
       "      <td>22.0</td>\n",
       "      <td>1</td>\n",
       "      <td>0</td>\n",
       "      <td>A/5 21171</td>\n",
       "      <td>7.2500</td>\n",
       "      <td>NaN</td>\n",
       "      <td>S</td>\n",
       "    </tr>\n",
       "    <tr>\n",
       "      <th>2</th>\n",
       "      <td>1</td>\n",
       "      <td>1</td>\n",
       "      <td>Cumings, Mrs. John Bradley (Florence Briggs Th...</td>\n",
       "      <td>female</td>\n",
       "      <td>38.0</td>\n",
       "      <td>1</td>\n",
       "      <td>0</td>\n",
       "      <td>PC 17599</td>\n",
       "      <td>71.2833</td>\n",
       "      <td>C85</td>\n",
       "      <td>C</td>\n",
       "    </tr>\n",
       "    <tr>\n",
       "      <th>3</th>\n",
       "      <td>1</td>\n",
       "      <td>3</td>\n",
       "      <td>Heikkinen, Miss. Laina</td>\n",
       "      <td>female</td>\n",
       "      <td>26.0</td>\n",
       "      <td>0</td>\n",
       "      <td>0</td>\n",
       "      <td>STON/O2. 3101282</td>\n",
       "      <td>7.9250</td>\n",
       "      <td>NaN</td>\n",
       "      <td>S</td>\n",
       "    </tr>\n",
       "    <tr>\n",
       "      <th>4</th>\n",
       "      <td>1</td>\n",
       "      <td>1</td>\n",
       "      <td>Futrelle, Mrs. Jacques Heath (Lily May Peel)</td>\n",
       "      <td>female</td>\n",
       "      <td>35.0</td>\n",
       "      <td>1</td>\n",
       "      <td>0</td>\n",
       "      <td>113803</td>\n",
       "      <td>53.1000</td>\n",
       "      <td>C123</td>\n",
       "      <td>S</td>\n",
       "    </tr>\n",
       "    <tr>\n",
       "      <th>5</th>\n",
       "      <td>0</td>\n",
       "      <td>3</td>\n",
       "      <td>Allen, Mr. William Henry</td>\n",
       "      <td>male</td>\n",
       "      <td>35.0</td>\n",
       "      <td>0</td>\n",
       "      <td>0</td>\n",
       "      <td>373450</td>\n",
       "      <td>8.0500</td>\n",
       "      <td>NaN</td>\n",
       "      <td>S</td>\n",
       "    </tr>\n",
       "  </tbody>\n",
       "</table>\n",
       "</div>"
      ],
      "text/plain": [
       "             Survived  Pclass  \\\n",
       "PassengerId                     \n",
       "1                   0       3   \n",
       "2                   1       1   \n",
       "3                   1       3   \n",
       "4                   1       1   \n",
       "5                   0       3   \n",
       "\n",
       "                                                          Name     Sex   Age  \\\n",
       "PassengerId                                                                    \n",
       "1                                      Braund, Mr. Owen Harris    male  22.0   \n",
       "2            Cumings, Mrs. John Bradley (Florence Briggs Th...  female  38.0   \n",
       "3                                       Heikkinen, Miss. Laina  female  26.0   \n",
       "4                 Futrelle, Mrs. Jacques Heath (Lily May Peel)  female  35.0   \n",
       "5                                     Allen, Mr. William Henry    male  35.0   \n",
       "\n",
       "             SibSp  Parch            Ticket     Fare Cabin Embarked  \n",
       "PassengerId                                                          \n",
       "1                1      0         A/5 21171   7.2500   NaN        S  \n",
       "2                1      0          PC 17599  71.2833   C85        C  \n",
       "3                0      0  STON/O2. 3101282   7.9250   NaN        S  \n",
       "4                1      0            113803  53.1000  C123        S  \n",
       "5                0      0            373450   8.0500   NaN        S  "
      ]
     },
     "execution_count": 5,
     "metadata": {},
     "output_type": "execute_result"
    }
   ],
   "source": [
    "train_data = pd.read_csv('train.csv', index_col='PassengerId')\n",
    "print(train_data.shape)\n",
    "train_data.head()"
   ]
  },
  {
   "cell_type": "code",
   "execution_count": 6,
   "metadata": {},
   "outputs": [
    {
     "name": "stdout",
     "output_type": "stream",
     "text": [
      "(418, 10)\n"
     ]
    },
    {
     "data": {
      "text/html": [
       "<div>\n",
       "<style scoped>\n",
       "    .dataframe tbody tr th:only-of-type {\n",
       "        vertical-align: middle;\n",
       "    }\n",
       "\n",
       "    .dataframe tbody tr th {\n",
       "        vertical-align: top;\n",
       "    }\n",
       "\n",
       "    .dataframe thead th {\n",
       "        text-align: right;\n",
       "    }\n",
       "</style>\n",
       "<table border=\"1\" class=\"dataframe\">\n",
       "  <thead>\n",
       "    <tr style=\"text-align: right;\">\n",
       "      <th></th>\n",
       "      <th>Pclass</th>\n",
       "      <th>Name</th>\n",
       "      <th>Sex</th>\n",
       "      <th>Age</th>\n",
       "      <th>SibSp</th>\n",
       "      <th>Parch</th>\n",
       "      <th>Ticket</th>\n",
       "      <th>Fare</th>\n",
       "      <th>Cabin</th>\n",
       "      <th>Embarked</th>\n",
       "    </tr>\n",
       "    <tr>\n",
       "      <th>PassengerId</th>\n",
       "      <th></th>\n",
       "      <th></th>\n",
       "      <th></th>\n",
       "      <th></th>\n",
       "      <th></th>\n",
       "      <th></th>\n",
       "      <th></th>\n",
       "      <th></th>\n",
       "      <th></th>\n",
       "      <th></th>\n",
       "    </tr>\n",
       "  </thead>\n",
       "  <tbody>\n",
       "    <tr>\n",
       "      <th>892</th>\n",
       "      <td>3</td>\n",
       "      <td>Kelly, Mr. James</td>\n",
       "      <td>male</td>\n",
       "      <td>34.5</td>\n",
       "      <td>0</td>\n",
       "      <td>0</td>\n",
       "      <td>330911</td>\n",
       "      <td>7.8292</td>\n",
       "      <td>NaN</td>\n",
       "      <td>Q</td>\n",
       "    </tr>\n",
       "    <tr>\n",
       "      <th>893</th>\n",
       "      <td>3</td>\n",
       "      <td>Wilkes, Mrs. James (Ellen Needs)</td>\n",
       "      <td>female</td>\n",
       "      <td>47.0</td>\n",
       "      <td>1</td>\n",
       "      <td>0</td>\n",
       "      <td>363272</td>\n",
       "      <td>7.0000</td>\n",
       "      <td>NaN</td>\n",
       "      <td>S</td>\n",
       "    </tr>\n",
       "    <tr>\n",
       "      <th>894</th>\n",
       "      <td>2</td>\n",
       "      <td>Myles, Mr. Thomas Francis</td>\n",
       "      <td>male</td>\n",
       "      <td>62.0</td>\n",
       "      <td>0</td>\n",
       "      <td>0</td>\n",
       "      <td>240276</td>\n",
       "      <td>9.6875</td>\n",
       "      <td>NaN</td>\n",
       "      <td>Q</td>\n",
       "    </tr>\n",
       "    <tr>\n",
       "      <th>895</th>\n",
       "      <td>3</td>\n",
       "      <td>Wirz, Mr. Albert</td>\n",
       "      <td>male</td>\n",
       "      <td>27.0</td>\n",
       "      <td>0</td>\n",
       "      <td>0</td>\n",
       "      <td>315154</td>\n",
       "      <td>8.6625</td>\n",
       "      <td>NaN</td>\n",
       "      <td>S</td>\n",
       "    </tr>\n",
       "    <tr>\n",
       "      <th>896</th>\n",
       "      <td>3</td>\n",
       "      <td>Hirvonen, Mrs. Alexander (Helga E Lindqvist)</td>\n",
       "      <td>female</td>\n",
       "      <td>22.0</td>\n",
       "      <td>1</td>\n",
       "      <td>1</td>\n",
       "      <td>3101298</td>\n",
       "      <td>12.2875</td>\n",
       "      <td>NaN</td>\n",
       "      <td>S</td>\n",
       "    </tr>\n",
       "  </tbody>\n",
       "</table>\n",
       "</div>"
      ],
      "text/plain": [
       "             Pclass                                          Name     Sex  \\\n",
       "PassengerId                                                                 \n",
       "892               3                              Kelly, Mr. James    male   \n",
       "893               3              Wilkes, Mrs. James (Ellen Needs)  female   \n",
       "894               2                     Myles, Mr. Thomas Francis    male   \n",
       "895               3                              Wirz, Mr. Albert    male   \n",
       "896               3  Hirvonen, Mrs. Alexander (Helga E Lindqvist)  female   \n",
       "\n",
       "              Age  SibSp  Parch   Ticket     Fare Cabin Embarked  \n",
       "PassengerId                                                       \n",
       "892          34.5      0      0   330911   7.8292   NaN        Q  \n",
       "893          47.0      1      0   363272   7.0000   NaN        S  \n",
       "894          62.0      0      0   240276   9.6875   NaN        Q  \n",
       "895          27.0      0      0   315154   8.6625   NaN        S  \n",
       "896          22.0      1      1  3101298  12.2875   NaN        S  "
      ]
     },
     "execution_count": 6,
     "metadata": {},
     "output_type": "execute_result"
    }
   ],
   "source": [
    "test_data = pd.read_csv('test.csv', index_col='PassengerId')\n",
    "print(test_data.shape)\n",
    "test_data.head()"
   ]
  },
  {
   "cell_type": "markdown",
   "metadata": {},
   "source": [
    "### First things first..."
   ]
  },
  {
   "cell_type": "markdown",
   "metadata": {},
   "source": [
    "Filtramos por test_data para não pegarmos a coluna de 'Survived'"
   ]
  },
  {
   "cell_type": "code",
   "execution_count": 7,
   "metadata": {},
   "outputs": [
    {
     "data": {
      "text/plain": [
       "(['Pclass', 'Age', 'SibSp', 'Parch', 'Fare'],\n",
       " ['Name', 'Sex', 'Ticket', 'Cabin', 'Embarked'])"
      ]
     },
     "execution_count": 7,
     "metadata": {},
     "output_type": "execute_result"
    }
   ],
   "source": [
    "numerics_columns = list(test_data.select_dtypes(include=['float', 'float32', 'float64', 'int64', 'bool']).columns)\n",
    "categoric_columns = list(test_data.select_dtypes(include=['object']).columns)\n",
    "\n",
    "numerics_columns, categoric_columns"
   ]
  },
  {
   "cell_type": "markdown",
   "metadata": {},
   "source": [
    "Pclass faz mais sentido que seja categórico, mesmo tendo valores numéricos. Vamos corrigir isso."
   ]
  },
  {
   "cell_type": "code",
   "execution_count": 8,
   "metadata": {},
   "outputs": [
    {
     "data": {
      "text/plain": [
       "(['Age', 'SibSp', 'Parch', 'Fare'],\n",
       " ['Pclass', 'Name', 'Sex', 'Ticket', 'Cabin', 'Embarked'])"
      ]
     },
     "execution_count": 8,
     "metadata": {},
     "output_type": "execute_result"
    }
   ],
   "source": [
    "train_data['Pclass'] = train_data['Pclass'].astype('object')\n",
    "test_data['Pclass'] = test_data['Pclass'].astype('object')\n",
    "numerics_columns = list(test_data.select_dtypes(include=['float', 'float32', 'float64', 'int64', 'bool']).columns)\n",
    "categoric_columns = list(test_data.select_dtypes(include=['object']).columns)\n",
    "\n",
    "numerics_columns, categoric_columns"
   ]
  },
  {
   "cell_type": "markdown",
   "metadata": {},
   "source": [
    "Perfeito!"
   ]
  },
  {
   "cell_type": "markdown",
   "metadata": {},
   "source": [
    "# Corrigindo NANs"
   ]
  },
  {
   "cell_type": "markdown",
   "metadata": {},
   "source": [
    "## NANs: categóricos"
   ]
  },
  {
   "cell_type": "markdown",
   "metadata": {},
   "source": [
    "### 'Cabin'"
   ]
  },
  {
   "cell_type": "code",
   "execution_count": 9,
   "metadata": {},
   "outputs": [
    {
     "data": {
      "text/plain": [
       "(Pclass        0\n",
       " Name          0\n",
       " Sex           0\n",
       " Ticket        0\n",
       " Cabin       687\n",
       " Embarked      2\n",
       " dtype: int64,\n",
       " Pclass        0\n",
       " Name          0\n",
       " Sex           0\n",
       " Ticket        0\n",
       " Cabin       327\n",
       " Embarked      0\n",
       " dtype: int64)"
      ]
     },
     "execution_count": 9,
     "metadata": {},
     "output_type": "execute_result"
    }
   ],
   "source": [
    "train_data[categoric_columns].isna().sum(), test_data[categoric_columns].isna().sum()"
   ]
  },
  {
   "cell_type": "code",
   "execution_count": 10,
   "metadata": {},
   "outputs": [
    {
     "data": {
      "text/plain": [
       "(Pclass       0.000000\n",
       " Name         0.000000\n",
       " Sex          0.000000\n",
       " Ticket       0.000000\n",
       " Cabin       77.104377\n",
       " Embarked     0.224467\n",
       " dtype: float64,\n",
       " Pclass       0.000000\n",
       " Name         0.000000\n",
       " Sex          0.000000\n",
       " Ticket       0.000000\n",
       " Cabin       78.229665\n",
       " Embarked     0.000000\n",
       " dtype: float64)"
      ]
     },
     "execution_count": 10,
     "metadata": {},
     "output_type": "execute_result"
    }
   ],
   "source": [
    "train_data[categoric_columns].isna().sum() / train_data[categoric_columns].isna().count() * 100, test_data[categoric_columns].isna().sum() / test_data[categoric_columns].isna().count() * 100"
   ]
  },
  {
   "cell_type": "markdown",
   "metadata": {},
   "source": [
    "Aqui temos um problema mais sério. Se Pegarmos a coluna 'Cabin', vemos que mais de $75\\%$ dela está faltando. Isso é um buraco tão grande que é melhor simplesmente remover essa coluna inteira."
   ]
  },
  {
   "cell_type": "markdown",
   "metadata": {},
   "source": [
    "Lembre que devemos fazer isso também para o X_test"
   ]
  },
  {
   "cell_type": "code",
   "execution_count": 11,
   "metadata": {},
   "outputs": [],
   "source": [
    "train_data = train_data.drop('Cabin', axis=1)\n",
    "test_data = test_data.drop('Cabin', axis=1)\n",
    "categoric_columns.remove('Cabin')"
   ]
  },
  {
   "cell_type": "markdown",
   "metadata": {},
   "source": [
    "Feito!"
   ]
  },
  {
   "cell_type": "markdown",
   "metadata": {},
   "source": [
    "### 'Embarked'"
   ]
  },
  {
   "cell_type": "code",
   "execution_count": 12,
   "metadata": {},
   "outputs": [
    {
     "data": {
      "text/plain": [
       "(Pclass      0\n",
       " Name        0\n",
       " Sex         0\n",
       " Ticket      0\n",
       " Embarked    2\n",
       " dtype: int64,\n",
       " Pclass      0\n",
       " Name        0\n",
       " Sex         0\n",
       " Ticket      0\n",
       " Embarked    0\n",
       " dtype: int64)"
      ]
     },
     "execution_count": 12,
     "metadata": {},
     "output_type": "execute_result"
    }
   ],
   "source": [
    "train_data[categoric_columns].isna().sum(), test_data[categoric_columns].isna().sum()"
   ]
  },
  {
   "cell_type": "markdown",
   "metadata": {},
   "source": [
    "Só está faltando no arquivo de treinamento"
   ]
  },
  {
   "cell_type": "code",
   "execution_count": 13,
   "metadata": {},
   "outputs": [
    {
     "data": {
      "image/png": "[encoded data removed]",
      "text/plain": [
       "<Figure size 1584x432 with 4 Axes>"
      ]
     },
     "metadata": {},
     "output_type": "display_data"
    }
   ],
   "source": [
    "fig, axes = plt.subplots(1, 4, figsize=(22,6))\n",
    "sns.countplot(x=train_data['Embarked'], hue=train_data['Survived'].map({0: \"Died\", 1: \"Survived\"}), ax=axes[0])\n",
    "sns.countplot(x=train_data['Embarked'], hue=train_data['Pclass'], ax=axes[1])\n",
    "sns.countplot(x=train_data['Embarked'], hue=train_data['Sex'], ax=axes[2])\n",
    "sns.countplot(x=train_data['Sex'], hue=train_data['Survived'].map({0: \"Died\", 1: \"Survived\"}), ax=axes[3])\n",
    "for i in range(4):\n",
    "    axes[i].set_xlabel('')\n",
    "plt.show()"
   ]
  },
  {
   "cell_type": "markdown",
   "metadata": {},
   "source": [
    "Com essa informação, olhamos agora quais foram esses dois passageiros que estão com NaN em 'Embarked'."
   ]
  },
  {
   "cell_type": "code",
   "execution_count": 14,
   "metadata": {},
   "outputs": [
    {
     "data": {
      "text/plain": [
       "PassengerId\n",
       "62     NaN\n",
       "830    NaN\n",
       "Name: Embarked, dtype: object"
      ]
     },
     "execution_count": 14,
     "metadata": {},
     "output_type": "execute_result"
    }
   ],
   "source": [
    "train_data['Embarked'][train_data['Embarked'].isna()]"
   ]
  },
  {
   "cell_type": "markdown",
   "metadata": {},
   "source": [
    "Arrá, passageiros 62 e 830"
   ]
  },
  {
   "cell_type": "code",
   "execution_count": 15,
   "metadata": {},
   "outputs": [
    {
     "data": {
      "text/html": [
       "<div>\n",
       "<style scoped>\n",
       "    .dataframe tbody tr th:only-of-type {\n",
       "        vertical-align: middle;\n",
       "    }\n",
       "\n",
       "    .dataframe tbody tr th {\n",
       "        vertical-align: top;\n",
       "    }\n",
       "\n",
       "    .dataframe thead th {\n",
       "        text-align: right;\n",
       "    }\n",
       "</style>\n",
       "<table border=\"1\" class=\"dataframe\">\n",
       "  <thead>\n",
       "    <tr style=\"text-align: right;\">\n",
       "      <th></th>\n",
       "      <th>Survived</th>\n",
       "      <th>Pclass</th>\n",
       "      <th>Name</th>\n",
       "      <th>Sex</th>\n",
       "      <th>Age</th>\n",
       "      <th>SibSp</th>\n",
       "      <th>Parch</th>\n",
       "      <th>Ticket</th>\n",
       "      <th>Fare</th>\n",
       "      <th>Embarked</th>\n",
       "    </tr>\n",
       "    <tr>\n",
       "      <th>PassengerId</th>\n",
       "      <th></th>\n",
       "      <th></th>\n",
       "      <th></th>\n",
       "      <th></th>\n",
       "      <th></th>\n",
       "      <th></th>\n",
       "      <th></th>\n",
       "      <th></th>\n",
       "      <th></th>\n",
       "      <th></th>\n",
       "    </tr>\n",
       "  </thead>\n",
       "  <tbody>\n",
       "    <tr>\n",
       "      <th>62</th>\n",
       "      <td>1</td>\n",
       "      <td>1</td>\n",
       "      <td>Icard, Miss. Amelie</td>\n",
       "      <td>female</td>\n",
       "      <td>38.0</td>\n",
       "      <td>0</td>\n",
       "      <td>0</td>\n",
       "      <td>113572</td>\n",
       "      <td>80.0</td>\n",
       "      <td>NaN</td>\n",
       "    </tr>\n",
       "    <tr>\n",
       "      <th>830</th>\n",
       "      <td>1</td>\n",
       "      <td>1</td>\n",
       "      <td>Stone, Mrs. George Nelson (Martha Evelyn)</td>\n",
       "      <td>female</td>\n",
       "      <td>62.0</td>\n",
       "      <td>0</td>\n",
       "      <td>0</td>\n",
       "      <td>113572</td>\n",
       "      <td>80.0</td>\n",
       "      <td>NaN</td>\n",
       "    </tr>\n",
       "  </tbody>\n",
       "</table>\n",
       "</div>"
      ],
      "text/plain": [
       "             Survived Pclass                                       Name  \\\n",
       "PassengerId                                                               \n",
       "62                  1      1                        Icard, Miss. Amelie   \n",
       "830                 1      1  Stone, Mrs. George Nelson (Martha Evelyn)   \n",
       "\n",
       "                Sex   Age  SibSp  Parch  Ticket  Fare Embarked  \n",
       "PassengerId                                                     \n",
       "62           female  38.0      0      0  113572  80.0      NaN  \n",
       "830          female  62.0      0      0  113572  80.0      NaN  "
      ]
     },
     "execution_count": 15,
     "metadata": {},
     "output_type": "execute_result"
    }
   ],
   "source": [
    "train_data.loc[[62,830]]"
   ]
  },
  {
   "cell_type": "markdown",
   "metadata": {},
   "source": [
    "Ambas as passageiras sobreviveram! Sabemos que ambas eram da classe 1, logo, é bem provável que subiram ou em 'S' ou em 'C'."
   ]
  },
  {
   "cell_type": "markdown",
   "metadata": {},
   "source": [
    "Não causará impactos enormes caso sejam erroneamente alocadas. Dito isto, ambas serão colocadas em 'S'"
   ]
  },
  {
   "cell_type": "code",
   "execution_count": 16,
   "metadata": {},
   "outputs": [],
   "source": [
    "train_data.loc[62, 'Embarked'] = 'S'\n",
    "train_data.loc[830, 'Embarked'] = 'S'"
   ]
  },
  {
   "cell_type": "code",
   "execution_count": 17,
   "metadata": {},
   "outputs": [
    {
     "data": {
      "text/plain": [
       "(Pclass      0\n",
       " Name        0\n",
       " Sex         0\n",
       " Ticket      0\n",
       " Embarked    0\n",
       " dtype: int64,\n",
       " Pclass      0\n",
       " Name        0\n",
       " Sex         0\n",
       " Ticket      0\n",
       " Embarked    0\n",
       " dtype: int64)"
      ]
     },
     "execution_count": 17,
     "metadata": {},
     "output_type": "execute_result"
    }
   ],
   "source": [
    "train_data[categoric_columns].isna().sum(), test_data[categoric_columns].isna().sum()"
   ]
  },
  {
   "cell_type": "markdown",
   "metadata": {},
   "source": [
    "Resolvido!"
   ]
  },
  {
   "cell_type": "markdown",
   "metadata": {},
   "source": [
    "## NANs: numéricos"
   ]
  },
  {
   "cell_type": "markdown",
   "metadata": {},
   "source": [
    "### 'Age'"
   ]
  },
  {
   "cell_type": "code",
   "execution_count": 18,
   "metadata": {},
   "outputs": [
    {
     "data": {
      "text/plain": [
       "(Age      177\n",
       " SibSp      0\n",
       " Parch      0\n",
       " Fare       0\n",
       " dtype: int64,\n",
       " Age      86\n",
       " SibSp     0\n",
       " Parch     0\n",
       " Fare      1\n",
       " dtype: int64)"
      ]
     },
     "execution_count": 18,
     "metadata": {},
     "output_type": "execute_result"
    }
   ],
   "source": [
    "train_data[numerics_columns].isna().sum(), test_data[numerics_columns].isna().sum()"
   ]
  },
  {
   "cell_type": "markdown",
   "metadata": {},
   "source": [
    "Existem NaNs na coluna Age nos 2 arquivos e na coluna Fare apenas no arquivo de teste."
   ]
  },
  {
   "cell_type": "markdown",
   "metadata": {},
   "source": [
    "----------------------------------\n",
    "Aqui vamos mudar uma coisa. Da última vez, substituimos a idade pela média geral. Mas como podemos ver pelo gráfico abaixo, a sobrevivência de jovens é bem diferente da do geral. Vamos trabalhar com isso."
   ]
  },
  {
   "cell_type": "code",
   "execution_count": 19,
   "metadata": {},
   "outputs": [
    {
     "data": {
      "image/png": "[encoded data removed]",
      "text/plain": [
       "<Figure size 864x504 with 1 Axes>"
      ]
     },
     "metadata": {},
     "output_type": "display_data"
    }
   ],
   "source": [
    "fig, ax = plt.subplots(1, 1, figsize=(12,7))\n",
    "sns.distplot(train_data['Age'][train_data['Survived'] == 1], label='Survived', ax=ax)\n",
    "sns.distplot(train_data['Age'][train_data['Survived'] == 0], label='Died', ax=ax)\n",
    "ax.set_xticks(np.arange(-10,100,10))\n",
    "plt.legend()\n",
    "plt.show()"
   ]
  },
  {
   "cell_type": "code",
   "execution_count": 20,
   "metadata": {},
   "outputs": [
    {
     "data": {
      "image/png": "[encoded data removed]",
      "text/plain": [
       "<Figure size 864x504 with 1 Axes>"
      ]
     },
     "metadata": {},
     "output_type": "display_data"
    }
   ],
   "source": [
    "aux_train_data = train_data.copy()\n",
    "aux_test_data = test_data.copy()\n",
    "\n",
    "# aux_train_data['Name'] contém agora apenas o nome da família do passageiro, e não mais seu nome completo.\n",
    "aux_train_data['Name'] = train_data['Name'].apply(lambda x: x.split()[1])\n",
    "aux_test_data['Name'] = test_data['Name'].apply(lambda x: x.split()[1])\n",
    "\n",
    "fig, ax = plt.subplots(1, 1, figsize=(12,7))\n",
    "sns.distplot(aux_train_data['Age'][aux_train_data['Name'] == 'Master.'], label='Master.', kde=False, ax=ax)\n",
    "sns.distplot(aux_train_data['Age'][aux_train_data['Name'] == 'Miss.'], label='Miss.', kde=False, ax=ax)\n",
    "ax.set_xticks(np.arange(-10,100,10))\n",
    "plt.legend()\n",
    "plt.show()"
   ]
  },
  {
   "cell_type": "markdown",
   "metadata": {},
   "source": [
    "Jovens tendem a sobreviver mais, especialmente crianças de 0 a 5 anos."
   ]
  },
  {
   "cell_type": "code",
   "execution_count": 21,
   "metadata": {},
   "outputs": [],
   "source": [
    "refer_names = aux_train_data.groupby(by='Name').size().sort_values(ascending=False)\n",
    "r_refer_names = list(refer_names.index[refer_names > 10])"
   ]
  },
  {
   "cell_type": "markdown",
   "metadata": {},
   "source": [
    "Dessa vez, vamos checar o nome do indivíduo e atribuir a média de acordo com a designação de seu nome. Vamos usar as 4 designações mais frequentes."
   ]
  },
  {
   "cell_type": "markdown",
   "metadata": {},
   "source": [
    "Lembrar de fazer isso para o teste e para o treinamento."
   ]
  },
  {
   "cell_type": "code",
   "execution_count": 22,
   "metadata": {},
   "outputs": [
    {
     "name": "stdout",
     "output_type": "stream",
     "text": [
      "NANs antes treino:  177\n",
      "NANs antes teste:  86\n",
      "\n",
      "NANs antes treino:  3\n",
      "NANs antes teste:  2\n",
      "\n",
      "NANs antes treino:  0\n",
      "NANs antes teste:  0\n"
     ]
    },
    {
     "name": "stderr",
     "output_type": "stream",
     "text": [
      "C:\\Users\\chris\\Anaconda3\\envs\\PytorchML\\lib\\site-packages\\ipykernel_launcher.py:6: SettingWithCopyWarning: \n",
      "A value is trying to be set on a copy of a slice from a DataFrame\n",
      "\n",
      "See the caveats in the documentation: https://pandas.pydata.org/pandas-docs/stable/user_guide/indexing.html#returning-a-view-versus-a-copy\n",
      "  \n",
      "C:\\Users\\chris\\Anaconda3\\envs\\PytorchML\\lib\\site-packages\\ipykernel_launcher.py:9: SettingWithCopyWarning: \n",
      "A value is trying to be set on a copy of a slice from a DataFrame\n",
      "\n",
      "See the caveats in the documentation: https://pandas.pydata.org/pandas-docs/stable/user_guide/indexing.html#returning-a-view-versus-a-copy\n",
      "  if __name__ == '__main__':\n"
     ]
    }
   ],
   "source": [
    "print(\"NANs antes treino: \", train_data['Age'].isna().sum())\n",
    "print(\"NANs antes teste: \", test_data['Age'].isna().sum())\n",
    "\n",
    "for name in r_refer_names:\n",
    "    mean = train_data['Age'][aux_train_data['Name'] == name].mean()\n",
    "    train_data['Age'][aux_train_data['Name'] == name] = train_data['Age'][aux_train_data['Name'] == name].apply(lambda x: mean if str(x)[0] == 'n' else x)\n",
    "    \n",
    "    mean = test_data['Age'][aux_test_data['Name'] == name].mean()\n",
    "    test_data['Age'][aux_test_data['Name'] == name] = test_data['Age'][aux_test_data['Name'] == name].apply(lambda x: mean if str(x)[0] == 'n' else x)\n",
    "\n",
    "print(\"\\nNANs antes treino: \", train_data['Age'].isna().sum())\n",
    "print(\"NANs antes teste: \", test_data['Age'].isna().sum())\n",
    "\n",
    "train_data['Age'] = train_data['Age'].fillna(value=train_data['Age'].mean())\n",
    "test_data['Age'] = test_data['Age'].fillna(value=test_data['Age'].mean())\n",
    "\n",
    "print(\"\\nNANs antes treino: \", train_data['Age'].isna().sum())\n",
    "print(\"NANs antes teste: \", test_data['Age'].isna().sum())"
   ]
  },
  {
   "cell_type": "code",
   "execution_count": 23,
   "metadata": {},
   "outputs": [
    {
     "data": {
      "text/plain": [
       "(Age      0\n",
       " SibSp    0\n",
       " Parch    0\n",
       " Fare     0\n",
       " dtype: int64,\n",
       " Age      0\n",
       " SibSp    0\n",
       " Parch    0\n",
       " Fare     1\n",
       " dtype: int64)"
      ]
     },
     "execution_count": 23,
     "metadata": {},
     "output_type": "execute_result"
    }
   ],
   "source": [
    "train_data[numerics_columns].isna().sum(), test_data[numerics_columns].isna().sum()"
   ]
  },
  {
   "cell_type": "markdown",
   "metadata": {},
   "source": [
    "Done!!"
   ]
  },
  {
   "cell_type": "markdown",
   "metadata": {},
   "source": [
    "### 'Fare'"
   ]
  },
  {
   "cell_type": "code",
   "execution_count": 24,
   "metadata": {},
   "outputs": [
    {
     "data": {
      "text/plain": [
       "PassengerId\n",
       "1044   NaN\n",
       "Name: Fare, dtype: float64"
      ]
     },
     "execution_count": 24,
     "metadata": {},
     "output_type": "execute_result"
    }
   ],
   "source": [
    "test_data['Fare'][test_data['Fare'].isna()]"
   ]
  },
  {
   "cell_type": "markdown",
   "metadata": {},
   "source": [
    "Hmm, passageiro 1044. Vejamos"
   ]
  },
  {
   "cell_type": "code",
   "execution_count": 25,
   "metadata": {},
   "outputs": [
    {
     "data": {
      "text/html": [
       "<div>\n",
       "<style scoped>\n",
       "    .dataframe tbody tr th:only-of-type {\n",
       "        vertical-align: middle;\n",
       "    }\n",
       "\n",
       "    .dataframe tbody tr th {\n",
       "        vertical-align: top;\n",
       "    }\n",
       "\n",
       "    .dataframe thead th {\n",
       "        text-align: right;\n",
       "    }\n",
       "</style>\n",
       "<table border=\"1\" class=\"dataframe\">\n",
       "  <thead>\n",
       "    <tr style=\"text-align: right;\">\n",
       "      <th></th>\n",
       "      <th>Pclass</th>\n",
       "      <th>Name</th>\n",
       "      <th>Sex</th>\n",
       "      <th>Age</th>\n",
       "      <th>SibSp</th>\n",
       "      <th>Parch</th>\n",
       "      <th>Ticket</th>\n",
       "      <th>Fare</th>\n",
       "      <th>Embarked</th>\n",
       "    </tr>\n",
       "    <tr>\n",
       "      <th>PassengerId</th>\n",
       "      <th></th>\n",
       "      <th></th>\n",
       "      <th></th>\n",
       "      <th></th>\n",
       "      <th></th>\n",
       "      <th></th>\n",
       "      <th></th>\n",
       "      <th></th>\n",
       "      <th></th>\n",
       "    </tr>\n",
       "  </thead>\n",
       "  <tbody>\n",
       "    <tr>\n",
       "      <th>1044</th>\n",
       "      <td>3</td>\n",
       "      <td>Storey, Mr. Thomas</td>\n",
       "      <td>male</td>\n",
       "      <td>60.5</td>\n",
       "      <td>0</td>\n",
       "      <td>0</td>\n",
       "      <td>3701</td>\n",
       "      <td>NaN</td>\n",
       "      <td>S</td>\n",
       "    </tr>\n",
       "  </tbody>\n",
       "</table>\n",
       "</div>"
      ],
      "text/plain": [
       "            Pclass                Name   Sex   Age  SibSp  Parch Ticket  Fare  \\\n",
       "PassengerId                                                                     \n",
       "1044             3  Storey, Mr. Thomas  male  60.5      0      0   3701   NaN   \n",
       "\n",
       "            Embarked  \n",
       "PassengerId           \n",
       "1044               S  "
      ]
     },
     "execution_count": 25,
     "metadata": {},
     "output_type": "execute_result"
    }
   ],
   "source": [
    "test_data.loc[[1044]]"
   ]
  },
  {
   "cell_type": "markdown",
   "metadata": {},
   "source": [
    "Bom, temos informações a respeito de sua classe, seu sexo, sua idade e onde ele embarcou. Vamos ver os dados e tentar achar a melhos solução para seu Fare."
   ]
  },
  {
   "cell_type": "code",
   "execution_count": 26,
   "metadata": {},
   "outputs": [
    {
     "data": {
      "image/png": "[encoded data removed]",
      "text/plain": [
       "<Figure size 864x504 with 1 Axes>"
      ]
     },
     "metadata": {},
     "output_type": "display_data"
    }
   ],
   "source": [
    "fig, ax = plt.subplots(1, 1, figsize=(12,7))\n",
    "sns.kdeplot(test_data['Fare'][(test_data['Sex'] == 'male') & (test_data['Pclass'] == 3)], label='Male / Class 3 / Age > 30', shade=True, ax=ax)\n",
    "ax.set_xticks(np.arange(-40,100,10))\n",
    "ax.set_xlim(-40,100)\n",
    "plt.legend()\n",
    "plt.show()"
   ]
  },
  {
   "cell_type": "code",
   "execution_count": 27,
   "metadata": {},
   "outputs": [
    {
     "data": {
      "text/html": [
       "<div>\n",
       "<style scoped>\n",
       "    .dataframe tbody tr th:only-of-type {\n",
       "        vertical-align: middle;\n",
       "    }\n",
       "\n",
       "    .dataframe tbody tr th {\n",
       "        vertical-align: top;\n",
       "    }\n",
       "\n",
       "    .dataframe thead th {\n",
       "        text-align: right;\n",
       "    }\n",
       "</style>\n",
       "<table border=\"1\" class=\"dataframe\">\n",
       "  <thead>\n",
       "    <tr style=\"text-align: right;\">\n",
       "      <th></th>\n",
       "      <th>Pclass</th>\n",
       "      <th>Name</th>\n",
       "      <th>Sex</th>\n",
       "      <th>Age</th>\n",
       "      <th>SibSp</th>\n",
       "      <th>Parch</th>\n",
       "      <th>Ticket</th>\n",
       "      <th>Fare</th>\n",
       "      <th>Embarked</th>\n",
       "    </tr>\n",
       "    <tr>\n",
       "      <th>PassengerId</th>\n",
       "      <th></th>\n",
       "      <th></th>\n",
       "      <th></th>\n",
       "      <th></th>\n",
       "      <th></th>\n",
       "      <th></th>\n",
       "      <th></th>\n",
       "      <th></th>\n",
       "      <th></th>\n",
       "    </tr>\n",
       "  </thead>\n",
       "  <tbody>\n",
       "    <tr>\n",
       "      <th>917</th>\n",
       "      <td>3</td>\n",
       "      <td>Robins, Mr. Alexander A</td>\n",
       "      <td>male</td>\n",
       "      <td>50.0</td>\n",
       "      <td>1</td>\n",
       "      <td>0</td>\n",
       "      <td>A/5. 3337</td>\n",
       "      <td>14.5000</td>\n",
       "      <td>S</td>\n",
       "    </tr>\n",
       "    <tr>\n",
       "      <th>932</th>\n",
       "      <td>3</td>\n",
       "      <td>Karun, Mr. Franz</td>\n",
       "      <td>male</td>\n",
       "      <td>39.0</td>\n",
       "      <td>0</td>\n",
       "      <td>1</td>\n",
       "      <td>349256</td>\n",
       "      <td>13.4167</td>\n",
       "      <td>C</td>\n",
       "    </tr>\n",
       "    <tr>\n",
       "      <th>934</th>\n",
       "      <td>3</td>\n",
       "      <td>Goldsmith, Mr. Nathan</td>\n",
       "      <td>male</td>\n",
       "      <td>41.0</td>\n",
       "      <td>0</td>\n",
       "      <td>0</td>\n",
       "      <td>SOTON/O.Q. 3101263</td>\n",
       "      <td>7.8500</td>\n",
       "      <td>S</td>\n",
       "    </tr>\n",
       "    <tr>\n",
       "      <th>1026</th>\n",
       "      <td>3</td>\n",
       "      <td>Dintcheff, Mr. Valtcho</td>\n",
       "      <td>male</td>\n",
       "      <td>43.0</td>\n",
       "      <td>0</td>\n",
       "      <td>0</td>\n",
       "      <td>349226</td>\n",
       "      <td>7.8958</td>\n",
       "      <td>S</td>\n",
       "    </tr>\n",
       "    <tr>\n",
       "      <th>1031</th>\n",
       "      <td>3</td>\n",
       "      <td>Goodwin, Mr. Charles Frederick</td>\n",
       "      <td>male</td>\n",
       "      <td>40.0</td>\n",
       "      <td>1</td>\n",
       "      <td>6</td>\n",
       "      <td>CA 2144</td>\n",
       "      <td>46.9000</td>\n",
       "      <td>S</td>\n",
       "    </tr>\n",
       "    <tr>\n",
       "      <th>1044</th>\n",
       "      <td>3</td>\n",
       "      <td>Storey, Mr. Thomas</td>\n",
       "      <td>male</td>\n",
       "      <td>60.5</td>\n",
       "      <td>0</td>\n",
       "      <td>0</td>\n",
       "      <td>3701</td>\n",
       "      <td>NaN</td>\n",
       "      <td>S</td>\n",
       "    </tr>\n",
       "    <tr>\n",
       "      <th>1066</th>\n",
       "      <td>3</td>\n",
       "      <td>Asplund, Mr. Carl Oscar Vilhelm Gustafsson</td>\n",
       "      <td>male</td>\n",
       "      <td>40.0</td>\n",
       "      <td>1</td>\n",
       "      <td>5</td>\n",
       "      <td>347077</td>\n",
       "      <td>31.3875</td>\n",
       "      <td>S</td>\n",
       "    </tr>\n",
       "    <tr>\n",
       "      <th>1120</th>\n",
       "      <td>3</td>\n",
       "      <td>Everett, Mr. Thomas James</td>\n",
       "      <td>male</td>\n",
       "      <td>40.5</td>\n",
       "      <td>0</td>\n",
       "      <td>0</td>\n",
       "      <td>C.A. 6212</td>\n",
       "      <td>15.1000</td>\n",
       "      <td>S</td>\n",
       "    </tr>\n",
       "    <tr>\n",
       "      <th>1152</th>\n",
       "      <td>3</td>\n",
       "      <td>de Messemaeker, Mr. Guillaume Joseph</td>\n",
       "      <td>male</td>\n",
       "      <td>36.5</td>\n",
       "      <td>1</td>\n",
       "      <td>0</td>\n",
       "      <td>345572</td>\n",
       "      <td>17.4000</td>\n",
       "      <td>S</td>\n",
       "    </tr>\n",
       "    <tr>\n",
       "      <th>1177</th>\n",
       "      <td>3</td>\n",
       "      <td>Dennis, Mr. William</td>\n",
       "      <td>male</td>\n",
       "      <td>36.0</td>\n",
       "      <td>0</td>\n",
       "      <td>0</td>\n",
       "      <td>A/5 21175</td>\n",
       "      <td>7.2500</td>\n",
       "      <td>S</td>\n",
       "    </tr>\n",
       "    <tr>\n",
       "      <th>1186</th>\n",
       "      <td>3</td>\n",
       "      <td>Wittevrongel, Mr. Camille</td>\n",
       "      <td>male</td>\n",
       "      <td>36.0</td>\n",
       "      <td>0</td>\n",
       "      <td>0</td>\n",
       "      <td>345771</td>\n",
       "      <td>9.5000</td>\n",
       "      <td>S</td>\n",
       "    </tr>\n",
       "    <tr>\n",
       "      <th>1229</th>\n",
       "      <td>3</td>\n",
       "      <td>Elias, Mr. Joseph</td>\n",
       "      <td>male</td>\n",
       "      <td>39.0</td>\n",
       "      <td>0</td>\n",
       "      <td>2</td>\n",
       "      <td>2675</td>\n",
       "      <td>7.2292</td>\n",
       "      <td>C</td>\n",
       "    </tr>\n",
       "    <tr>\n",
       "      <th>1307</th>\n",
       "      <td>3</td>\n",
       "      <td>Saether, Mr. Simon Sivertsen</td>\n",
       "      <td>male</td>\n",
       "      <td>38.5</td>\n",
       "      <td>0</td>\n",
       "      <td>0</td>\n",
       "      <td>SOTON/O.Q. 3101262</td>\n",
       "      <td>7.2500</td>\n",
       "      <td>S</td>\n",
       "    </tr>\n",
       "  </tbody>\n",
       "</table>\n",
       "</div>"
      ],
      "text/plain": [
       "            Pclass                                        Name   Sex   Age  \\\n",
       "PassengerId                                                                  \n",
       "917              3                     Robins, Mr. Alexander A  male  50.0   \n",
       "932              3                            Karun, Mr. Franz  male  39.0   \n",
       "934              3                       Goldsmith, Mr. Nathan  male  41.0   \n",
       "1026             3                      Dintcheff, Mr. Valtcho  male  43.0   \n",
       "1031             3              Goodwin, Mr. Charles Frederick  male  40.0   \n",
       "1044             3                          Storey, Mr. Thomas  male  60.5   \n",
       "1066             3  Asplund, Mr. Carl Oscar Vilhelm Gustafsson  male  40.0   \n",
       "1120             3                   Everett, Mr. Thomas James  male  40.5   \n",
       "1152             3        de Messemaeker, Mr. Guillaume Joseph  male  36.5   \n",
       "1177             3                         Dennis, Mr. William  male  36.0   \n",
       "1186             3                   Wittevrongel, Mr. Camille  male  36.0   \n",
       "1229             3                           Elias, Mr. Joseph  male  39.0   \n",
       "1307             3                Saether, Mr. Simon Sivertsen  male  38.5   \n",
       "\n",
       "             SibSp  Parch              Ticket     Fare Embarked  \n",
       "PassengerId                                                      \n",
       "917              1      0           A/5. 3337  14.5000        S  \n",
       "932              0      1              349256  13.4167        C  \n",
       "934              0      0  SOTON/O.Q. 3101263   7.8500        S  \n",
       "1026             0      0              349226   7.8958        S  \n",
       "1031             1      6             CA 2144  46.9000        S  \n",
       "1044             0      0                3701      NaN        S  \n",
       "1066             1      5              347077  31.3875        S  \n",
       "1120             0      0           C.A. 6212  15.1000        S  \n",
       "1152             1      0              345572  17.4000        S  \n",
       "1177             0      0           A/5 21175   7.2500        S  \n",
       "1186             0      0              345771   9.5000        S  \n",
       "1229             0      2                2675   7.2292        C  \n",
       "1307             0      0  SOTON/O.Q. 3101262   7.2500        S  "
      ]
     },
     "execution_count": 27,
     "metadata": {},
     "output_type": "execute_result"
    }
   ],
   "source": [
    "test_data[(test_data['Sex'] == 'male') & (test_data['Pclass'] == 3) & (test_data['Age'] > 35)]"
   ]
  },
  {
   "cell_type": "markdown",
   "metadata": {},
   "source": [
    "Obsevamos que o preço da passagem para 1 única pessoa da classe 3 sem levar parentes ou irmãos / cônjugues é em torno de 7.85.\n",
    "Logo, vamos atribuir este valor a ele e seguir a vida."
   ]
  },
  {
   "cell_type": "code",
   "execution_count": 28,
   "metadata": {},
   "outputs": [],
   "source": [
    "test_data.loc[1044, 'Fare'] = 7.8500"
   ]
  },
  {
   "cell_type": "code",
   "execution_count": 29,
   "metadata": {},
   "outputs": [
    {
     "data": {
      "text/plain": [
       "Age      0\n",
       "SibSp    0\n",
       "Parch    0\n",
       "Fare     0\n",
       "dtype: int64"
      ]
     },
     "execution_count": 29,
     "metadata": {},
     "output_type": "execute_result"
    }
   ],
   "source": [
    "test_data[numerics_columns].isna().sum()"
   ]
  },
  {
   "cell_type": "markdown",
   "metadata": {},
   "source": [
    "Resolvido!"
   ]
  },
  {
   "cell_type": "markdown",
   "metadata": {},
   "source": [
    "# Encoding Categorical Data"
   ]
  },
  {
   "cell_type": "code",
   "execution_count": 30,
   "metadata": {},
   "outputs": [
    {
     "data": {
      "text/plain": [
       "(Pclass        3\n",
       " Name        891\n",
       " Sex           2\n",
       " Ticket      681\n",
       " Embarked      3\n",
       " dtype: int64,\n",
       " Pclass        3\n",
       " Name        418\n",
       " Sex           2\n",
       " Ticket      363\n",
       " Embarked      3\n",
       " dtype: int64)"
      ]
     },
     "execution_count": 30,
     "metadata": {},
     "output_type": "execute_result"
    }
   ],
   "source": [
    "train_data[categoric_columns].nunique(), test_data[categoric_columns].nunique()"
   ]
  },
  {
   "cell_type": "markdown",
   "metadata": {},
   "source": [
    "Claramente só precisamos ajustar a coluna 'Name' e a coluna 'Ticket' para categóricos. O interessante aqui é que podemos achar relações entre o número dos tickets e quem ali era relacionado a quem."
   ]
  },
  {
   "cell_type": "markdown",
   "metadata": {},
   "source": [
    "Primeiro vamos ver se todos os Tickets são de fato únicos para cada passageiro. Isso é importante para saber se vamos apenas contar por nomes ou contar apenas os valores únicos por nome."
   ]
  },
  {
   "cell_type": "markdown",
   "metadata": {},
   "source": [
    "Aqui é importante usar todo o train_data, haja vista que a separação pode ter separado nossos membros familiares. O tratamento disso depois deverá corretamente ser feito por separação."
   ]
  },
  {
   "cell_type": "code",
   "execution_count": 31,
   "metadata": {},
   "outputs": [
    {
     "data": {
      "text/plain": [
       "(681, (891,), 363, (418,))"
      ]
     },
     "execution_count": 31,
     "metadata": {},
     "output_type": "execute_result"
    }
   ],
   "source": [
    "train_data['Ticket'].nunique(), train_data['Ticket'].shape, test_data['Ticket'].nunique(), test_data['Ticket'].shape"
   ]
  },
  {
   "cell_type": "markdown",
   "metadata": {},
   "source": [
    "Os shapes diferentes indicam que não, ou seja, existem Tickets iguais para passageiros diferentes. Vamo agrupar por ticket então."
   ]
  },
  {
   "cell_type": "code",
   "execution_count": 32,
   "metadata": {},
   "outputs": [
    {
     "data": {
      "text/plain": [
       "(Ticket\n",
       " CA. 2343    7\n",
       " 1601        7\n",
       " 347082      7\n",
       " 347088      6\n",
       " CA 2144     6\n",
       "            ..\n",
       " PC 17601    1\n",
       " 349239      1\n",
       " 349240      1\n",
       " 349241      1\n",
       " 347464      1\n",
       " Length: 681, dtype: int64,\n",
       " Ticket\n",
       " PC 17608    5\n",
       " 113503      4\n",
       " CA. 2343    4\n",
       " 347077      3\n",
       " 16966       3\n",
       "            ..\n",
       " 367227      1\n",
       " 368364      1\n",
       " 368402      1\n",
       " 368573      1\n",
       " 110469      1\n",
       " Length: 363, dtype: int64)"
      ]
     },
     "execution_count": 32,
     "metadata": {},
     "output_type": "execute_result"
    }
   ],
   "source": [
    "tickets_mton_train = train_data.groupby(['Ticket']).size()\n",
    "tickets_mton_train = tickets_mton_train.sort_values(ascending=False)\n",
    "\n",
    "tickets_mton_test = test_data.groupby(['Ticket']).size()\n",
    "tickets_mton_test = tickets_mton_test.sort_values(ascending=False)\n",
    "\n",
    "tickets_mton_train, tickets_mton_test"
   ]
  },
  {
   "cell_type": "markdown",
   "metadata": {},
   "source": [
    "Observamos que existe mais de uma pessoa para um mesmo Ticket, e isso acontece várias vezes.\n",
    "Vamos checar para os 3 primeiros Tickets 'CA. 2343', '1601' e '347082' e os 2 primeiros tickets 'PC 17608' e '113503' do teste."
   ]
  },
  {
   "cell_type": "code",
   "execution_count": 33,
   "metadata": {},
   "outputs": [
    {
     "data": {
      "text/html": [
       "<div>\n",
       "<style scoped>\n",
       "    .dataframe tbody tr th:only-of-type {\n",
       "        vertical-align: middle;\n",
       "    }\n",
       "\n",
       "    .dataframe tbody tr th {\n",
       "        vertical-align: top;\n",
       "    }\n",
       "\n",
       "    .dataframe thead th {\n",
       "        text-align: right;\n",
       "    }\n",
       "</style>\n",
       "<table border=\"1\" class=\"dataframe\">\n",
       "  <thead>\n",
       "    <tr style=\"text-align: right;\">\n",
       "      <th></th>\n",
       "      <th>Survived</th>\n",
       "      <th>Pclass</th>\n",
       "      <th>Name</th>\n",
       "      <th>Sex</th>\n",
       "      <th>Age</th>\n",
       "      <th>SibSp</th>\n",
       "      <th>Parch</th>\n",
       "      <th>Ticket</th>\n",
       "      <th>Fare</th>\n",
       "      <th>Embarked</th>\n",
       "    </tr>\n",
       "    <tr>\n",
       "      <th>PassengerId</th>\n",
       "      <th></th>\n",
       "      <th></th>\n",
       "      <th></th>\n",
       "      <th></th>\n",
       "      <th></th>\n",
       "      <th></th>\n",
       "      <th></th>\n",
       "      <th></th>\n",
       "      <th></th>\n",
       "      <th></th>\n",
       "    </tr>\n",
       "  </thead>\n",
       "  <tbody>\n",
       "    <tr>\n",
       "      <th>160</th>\n",
       "      <td>0</td>\n",
       "      <td>3</td>\n",
       "      <td>Sage, Master. Thomas Henry</td>\n",
       "      <td>male</td>\n",
       "      <td>4.574167</td>\n",
       "      <td>8</td>\n",
       "      <td>2</td>\n",
       "      <td>CA. 2343</td>\n",
       "      <td>69.55</td>\n",
       "      <td>S</td>\n",
       "    </tr>\n",
       "    <tr>\n",
       "      <th>181</th>\n",
       "      <td>0</td>\n",
       "      <td>3</td>\n",
       "      <td>Sage, Miss. Constance Gladys</td>\n",
       "      <td>female</td>\n",
       "      <td>21.846154</td>\n",
       "      <td>8</td>\n",
       "      <td>2</td>\n",
       "      <td>CA. 2343</td>\n",
       "      <td>69.55</td>\n",
       "      <td>S</td>\n",
       "    </tr>\n",
       "    <tr>\n",
       "      <th>202</th>\n",
       "      <td>0</td>\n",
       "      <td>3</td>\n",
       "      <td>Sage, Mr. Frederick</td>\n",
       "      <td>male</td>\n",
       "      <td>32.389610</td>\n",
       "      <td>8</td>\n",
       "      <td>2</td>\n",
       "      <td>CA. 2343</td>\n",
       "      <td>69.55</td>\n",
       "      <td>S</td>\n",
       "    </tr>\n",
       "    <tr>\n",
       "      <th>325</th>\n",
       "      <td>0</td>\n",
       "      <td>3</td>\n",
       "      <td>Sage, Mr. George John Jr</td>\n",
       "      <td>male</td>\n",
       "      <td>32.389610</td>\n",
       "      <td>8</td>\n",
       "      <td>2</td>\n",
       "      <td>CA. 2343</td>\n",
       "      <td>69.55</td>\n",
       "      <td>S</td>\n",
       "    </tr>\n",
       "    <tr>\n",
       "      <th>793</th>\n",
       "      <td>0</td>\n",
       "      <td>3</td>\n",
       "      <td>Sage, Miss. Stella Anna</td>\n",
       "      <td>female</td>\n",
       "      <td>21.846154</td>\n",
       "      <td>8</td>\n",
       "      <td>2</td>\n",
       "      <td>CA. 2343</td>\n",
       "      <td>69.55</td>\n",
       "      <td>S</td>\n",
       "    </tr>\n",
       "    <tr>\n",
       "      <th>847</th>\n",
       "      <td>0</td>\n",
       "      <td>3</td>\n",
       "      <td>Sage, Mr. Douglas Bullen</td>\n",
       "      <td>male</td>\n",
       "      <td>32.389610</td>\n",
       "      <td>8</td>\n",
       "      <td>2</td>\n",
       "      <td>CA. 2343</td>\n",
       "      <td>69.55</td>\n",
       "      <td>S</td>\n",
       "    </tr>\n",
       "    <tr>\n",
       "      <th>864</th>\n",
       "      <td>0</td>\n",
       "      <td>3</td>\n",
       "      <td>Sage, Miss. Dorothy Edith \"Dolly\"</td>\n",
       "      <td>female</td>\n",
       "      <td>21.846154</td>\n",
       "      <td>8</td>\n",
       "      <td>2</td>\n",
       "      <td>CA. 2343</td>\n",
       "      <td>69.55</td>\n",
       "      <td>S</td>\n",
       "    </tr>\n",
       "  </tbody>\n",
       "</table>\n",
       "</div>"
      ],
      "text/plain": [
       "             Survived Pclass                               Name     Sex  \\\n",
       "PassengerId                                                               \n",
       "160                 0      3         Sage, Master. Thomas Henry    male   \n",
       "181                 0      3       Sage, Miss. Constance Gladys  female   \n",
       "202                 0      3                Sage, Mr. Frederick    male   \n",
       "325                 0      3           Sage, Mr. George John Jr    male   \n",
       "793                 0      3            Sage, Miss. Stella Anna  female   \n",
       "847                 0      3           Sage, Mr. Douglas Bullen    male   \n",
       "864                 0      3  Sage, Miss. Dorothy Edith \"Dolly\"  female   \n",
       "\n",
       "                   Age  SibSp  Parch    Ticket   Fare Embarked  \n",
       "PassengerId                                                     \n",
       "160           4.574167      8      2  CA. 2343  69.55        S  \n",
       "181          21.846154      8      2  CA. 2343  69.55        S  \n",
       "202          32.389610      8      2  CA. 2343  69.55        S  \n",
       "325          32.389610      8      2  CA. 2343  69.55        S  \n",
       "793          21.846154      8      2  CA. 2343  69.55        S  \n",
       "847          32.389610      8      2  CA. 2343  69.55        S  \n",
       "864          21.846154      8      2  CA. 2343  69.55        S  "
      ]
     },
     "execution_count": 33,
     "metadata": {},
     "output_type": "execute_result"
    }
   ],
   "source": [
    "train_data[train_data['Ticket'] == tickets_mton_train.index[0]]"
   ]
  },
  {
   "cell_type": "code",
   "execution_count": 34,
   "metadata": {},
   "outputs": [
    {
     "data": {
      "text/html": [
       "<div>\n",
       "<style scoped>\n",
       "    .dataframe tbody tr th:only-of-type {\n",
       "        vertical-align: middle;\n",
       "    }\n",
       "\n",
       "    .dataframe tbody tr th {\n",
       "        vertical-align: top;\n",
       "    }\n",
       "\n",
       "    .dataframe thead th {\n",
       "        text-align: right;\n",
       "    }\n",
       "</style>\n",
       "<table border=\"1\" class=\"dataframe\">\n",
       "  <thead>\n",
       "    <tr style=\"text-align: right;\">\n",
       "      <th></th>\n",
       "      <th>Survived</th>\n",
       "      <th>Pclass</th>\n",
       "      <th>Name</th>\n",
       "      <th>Sex</th>\n",
       "      <th>Age</th>\n",
       "      <th>SibSp</th>\n",
       "      <th>Parch</th>\n",
       "      <th>Ticket</th>\n",
       "      <th>Fare</th>\n",
       "      <th>Embarked</th>\n",
       "    </tr>\n",
       "    <tr>\n",
       "      <th>PassengerId</th>\n",
       "      <th></th>\n",
       "      <th></th>\n",
       "      <th></th>\n",
       "      <th></th>\n",
       "      <th></th>\n",
       "      <th></th>\n",
       "      <th></th>\n",
       "      <th></th>\n",
       "      <th></th>\n",
       "      <th></th>\n",
       "    </tr>\n",
       "  </thead>\n",
       "  <tbody>\n",
       "    <tr>\n",
       "      <th>75</th>\n",
       "      <td>1</td>\n",
       "      <td>3</td>\n",
       "      <td>Bing, Mr. Lee</td>\n",
       "      <td>male</td>\n",
       "      <td>32.00000</td>\n",
       "      <td>0</td>\n",
       "      <td>0</td>\n",
       "      <td>1601</td>\n",
       "      <td>56.4958</td>\n",
       "      <td>S</td>\n",
       "    </tr>\n",
       "    <tr>\n",
       "      <th>170</th>\n",
       "      <td>0</td>\n",
       "      <td>3</td>\n",
       "      <td>Ling, Mr. Lee</td>\n",
       "      <td>male</td>\n",
       "      <td>28.00000</td>\n",
       "      <td>0</td>\n",
       "      <td>0</td>\n",
       "      <td>1601</td>\n",
       "      <td>56.4958</td>\n",
       "      <td>S</td>\n",
       "    </tr>\n",
       "    <tr>\n",
       "      <th>510</th>\n",
       "      <td>1</td>\n",
       "      <td>3</td>\n",
       "      <td>Lang, Mr. Fang</td>\n",
       "      <td>male</td>\n",
       "      <td>26.00000</td>\n",
       "      <td>0</td>\n",
       "      <td>0</td>\n",
       "      <td>1601</td>\n",
       "      <td>56.4958</td>\n",
       "      <td>S</td>\n",
       "    </tr>\n",
       "    <tr>\n",
       "      <th>644</th>\n",
       "      <td>1</td>\n",
       "      <td>3</td>\n",
       "      <td>Foo, Mr. Choong</td>\n",
       "      <td>male</td>\n",
       "      <td>32.38961</td>\n",
       "      <td>0</td>\n",
       "      <td>0</td>\n",
       "      <td>1601</td>\n",
       "      <td>56.4958</td>\n",
       "      <td>S</td>\n",
       "    </tr>\n",
       "    <tr>\n",
       "      <th>693</th>\n",
       "      <td>1</td>\n",
       "      <td>3</td>\n",
       "      <td>Lam, Mr. Ali</td>\n",
       "      <td>male</td>\n",
       "      <td>32.38961</td>\n",
       "      <td>0</td>\n",
       "      <td>0</td>\n",
       "      <td>1601</td>\n",
       "      <td>56.4958</td>\n",
       "      <td>S</td>\n",
       "    </tr>\n",
       "    <tr>\n",
       "      <th>827</th>\n",
       "      <td>0</td>\n",
       "      <td>3</td>\n",
       "      <td>Lam, Mr. Len</td>\n",
       "      <td>male</td>\n",
       "      <td>32.38961</td>\n",
       "      <td>0</td>\n",
       "      <td>0</td>\n",
       "      <td>1601</td>\n",
       "      <td>56.4958</td>\n",
       "      <td>S</td>\n",
       "    </tr>\n",
       "    <tr>\n",
       "      <th>839</th>\n",
       "      <td>1</td>\n",
       "      <td>3</td>\n",
       "      <td>Chip, Mr. Chang</td>\n",
       "      <td>male</td>\n",
       "      <td>32.00000</td>\n",
       "      <td>0</td>\n",
       "      <td>0</td>\n",
       "      <td>1601</td>\n",
       "      <td>56.4958</td>\n",
       "      <td>S</td>\n",
       "    </tr>\n",
       "  </tbody>\n",
       "</table>\n",
       "</div>"
      ],
      "text/plain": [
       "             Survived Pclass             Name   Sex       Age  SibSp  Parch  \\\n",
       "PassengerId                                                                   \n",
       "75                  1      3    Bing, Mr. Lee  male  32.00000      0      0   \n",
       "170                 0      3    Ling, Mr. Lee  male  28.00000      0      0   \n",
       "510                 1      3   Lang, Mr. Fang  male  26.00000      0      0   \n",
       "644                 1      3  Foo, Mr. Choong  male  32.38961      0      0   \n",
       "693                 1      3     Lam, Mr. Ali  male  32.38961      0      0   \n",
       "827                 0      3     Lam, Mr. Len  male  32.38961      0      0   \n",
       "839                 1      3  Chip, Mr. Chang  male  32.00000      0      0   \n",
       "\n",
       "            Ticket     Fare Embarked  \n",
       "PassengerId                           \n",
       "75            1601  56.4958        S  \n",
       "170           1601  56.4958        S  \n",
       "510           1601  56.4958        S  \n",
       "644           1601  56.4958        S  \n",
       "693           1601  56.4958        S  \n",
       "827           1601  56.4958        S  \n",
       "839           1601  56.4958        S  "
      ]
     },
     "execution_count": 34,
     "metadata": {},
     "output_type": "execute_result"
    }
   ],
   "source": [
    "train_data[train_data['Ticket'] == tickets_mton_train.index[1]]"
   ]
  },
  {
   "cell_type": "code",
   "execution_count": 35,
   "metadata": {},
   "outputs": [
    {
     "data": {
      "text/html": [
       "<div>\n",
       "<style scoped>\n",
       "    .dataframe tbody tr th:only-of-type {\n",
       "        vertical-align: middle;\n",
       "    }\n",
       "\n",
       "    .dataframe tbody tr th {\n",
       "        vertical-align: top;\n",
       "    }\n",
       "\n",
       "    .dataframe thead th {\n",
       "        text-align: right;\n",
       "    }\n",
       "</style>\n",
       "<table border=\"1\" class=\"dataframe\">\n",
       "  <thead>\n",
       "    <tr style=\"text-align: right;\">\n",
       "      <th></th>\n",
       "      <th>Survived</th>\n",
       "      <th>Pclass</th>\n",
       "      <th>Name</th>\n",
       "      <th>Sex</th>\n",
       "      <th>Age</th>\n",
       "      <th>SibSp</th>\n",
       "      <th>Parch</th>\n",
       "      <th>Ticket</th>\n",
       "      <th>Fare</th>\n",
       "      <th>Embarked</th>\n",
       "    </tr>\n",
       "    <tr>\n",
       "      <th>PassengerId</th>\n",
       "      <th></th>\n",
       "      <th></th>\n",
       "      <th></th>\n",
       "      <th></th>\n",
       "      <th></th>\n",
       "      <th></th>\n",
       "      <th></th>\n",
       "      <th></th>\n",
       "      <th></th>\n",
       "      <th></th>\n",
       "    </tr>\n",
       "  </thead>\n",
       "  <tbody>\n",
       "    <tr>\n",
       "      <th>14</th>\n",
       "      <td>0</td>\n",
       "      <td>3</td>\n",
       "      <td>Andersson, Mr. Anders Johan</td>\n",
       "      <td>male</td>\n",
       "      <td>39.0</td>\n",
       "      <td>1</td>\n",
       "      <td>5</td>\n",
       "      <td>347082</td>\n",
       "      <td>31.275</td>\n",
       "      <td>S</td>\n",
       "    </tr>\n",
       "    <tr>\n",
       "      <th>120</th>\n",
       "      <td>0</td>\n",
       "      <td>3</td>\n",
       "      <td>Andersson, Miss. Ellis Anna Maria</td>\n",
       "      <td>female</td>\n",
       "      <td>2.0</td>\n",
       "      <td>4</td>\n",
       "      <td>2</td>\n",
       "      <td>347082</td>\n",
       "      <td>31.275</td>\n",
       "      <td>S</td>\n",
       "    </tr>\n",
       "    <tr>\n",
       "      <th>542</th>\n",
       "      <td>0</td>\n",
       "      <td>3</td>\n",
       "      <td>Andersson, Miss. Ingeborg Constanzia</td>\n",
       "      <td>female</td>\n",
       "      <td>9.0</td>\n",
       "      <td>4</td>\n",
       "      <td>2</td>\n",
       "      <td>347082</td>\n",
       "      <td>31.275</td>\n",
       "      <td>S</td>\n",
       "    </tr>\n",
       "    <tr>\n",
       "      <th>543</th>\n",
       "      <td>0</td>\n",
       "      <td>3</td>\n",
       "      <td>Andersson, Miss. Sigrid Elisabeth</td>\n",
       "      <td>female</td>\n",
       "      <td>11.0</td>\n",
       "      <td>4</td>\n",
       "      <td>2</td>\n",
       "      <td>347082</td>\n",
       "      <td>31.275</td>\n",
       "      <td>S</td>\n",
       "    </tr>\n",
       "    <tr>\n",
       "      <th>611</th>\n",
       "      <td>0</td>\n",
       "      <td>3</td>\n",
       "      <td>Andersson, Mrs. Anders Johan (Alfrida Konstant...</td>\n",
       "      <td>female</td>\n",
       "      <td>39.0</td>\n",
       "      <td>1</td>\n",
       "      <td>5</td>\n",
       "      <td>347082</td>\n",
       "      <td>31.275</td>\n",
       "      <td>S</td>\n",
       "    </tr>\n",
       "    <tr>\n",
       "      <th>814</th>\n",
       "      <td>0</td>\n",
       "      <td>3</td>\n",
       "      <td>Andersson, Miss. Ebba Iris Alfrida</td>\n",
       "      <td>female</td>\n",
       "      <td>6.0</td>\n",
       "      <td>4</td>\n",
       "      <td>2</td>\n",
       "      <td>347082</td>\n",
       "      <td>31.275</td>\n",
       "      <td>S</td>\n",
       "    </tr>\n",
       "    <tr>\n",
       "      <th>851</th>\n",
       "      <td>0</td>\n",
       "      <td>3</td>\n",
       "      <td>Andersson, Master. Sigvard Harald Elias</td>\n",
       "      <td>male</td>\n",
       "      <td>4.0</td>\n",
       "      <td>4</td>\n",
       "      <td>2</td>\n",
       "      <td>347082</td>\n",
       "      <td>31.275</td>\n",
       "      <td>S</td>\n",
       "    </tr>\n",
       "  </tbody>\n",
       "</table>\n",
       "</div>"
      ],
      "text/plain": [
       "             Survived Pclass  \\\n",
       "PassengerId                    \n",
       "14                  0      3   \n",
       "120                 0      3   \n",
       "542                 0      3   \n",
       "543                 0      3   \n",
       "611                 0      3   \n",
       "814                 0      3   \n",
       "851                 0      3   \n",
       "\n",
       "                                                          Name     Sex   Age  \\\n",
       "PassengerId                                                                    \n",
       "14                                 Andersson, Mr. Anders Johan    male  39.0   \n",
       "120                          Andersson, Miss. Ellis Anna Maria  female   2.0   \n",
       "542                       Andersson, Miss. Ingeborg Constanzia  female   9.0   \n",
       "543                          Andersson, Miss. Sigrid Elisabeth  female  11.0   \n",
       "611          Andersson, Mrs. Anders Johan (Alfrida Konstant...  female  39.0   \n",
       "814                         Andersson, Miss. Ebba Iris Alfrida  female   6.0   \n",
       "851                    Andersson, Master. Sigvard Harald Elias    male   4.0   \n",
       "\n",
       "             SibSp  Parch  Ticket    Fare Embarked  \n",
       "PassengerId                                         \n",
       "14               1      5  347082  31.275        S  \n",
       "120              4      2  347082  31.275        S  \n",
       "542              4      2  347082  31.275        S  \n",
       "543              4      2  347082  31.275        S  \n",
       "611              1      5  347082  31.275        S  \n",
       "814              4      2  347082  31.275        S  \n",
       "851              4      2  347082  31.275        S  "
      ]
     },
     "execution_count": 35,
     "metadata": {},
     "output_type": "execute_result"
    }
   ],
   "source": [
    "train_data[train_data['Ticket'] == tickets_mton_train.index[2]]"
   ]
  },
  {
   "cell_type": "code",
   "execution_count": 36,
   "metadata": {},
   "outputs": [
    {
     "data": {
      "text/html": [
       "<div>\n",
       "<style scoped>\n",
       "    .dataframe tbody tr th:only-of-type {\n",
       "        vertical-align: middle;\n",
       "    }\n",
       "\n",
       "    .dataframe tbody tr th {\n",
       "        vertical-align: top;\n",
       "    }\n",
       "\n",
       "    .dataframe thead th {\n",
       "        text-align: right;\n",
       "    }\n",
       "</style>\n",
       "<table border=\"1\" class=\"dataframe\">\n",
       "  <thead>\n",
       "    <tr style=\"text-align: right;\">\n",
       "      <th></th>\n",
       "      <th>Pclass</th>\n",
       "      <th>Name</th>\n",
       "      <th>Sex</th>\n",
       "      <th>Age</th>\n",
       "      <th>SibSp</th>\n",
       "      <th>Parch</th>\n",
       "      <th>Ticket</th>\n",
       "      <th>Fare</th>\n",
       "      <th>Embarked</th>\n",
       "    </tr>\n",
       "    <tr>\n",
       "      <th>PassengerId</th>\n",
       "      <th></th>\n",
       "      <th></th>\n",
       "      <th></th>\n",
       "      <th></th>\n",
       "      <th></th>\n",
       "      <th></th>\n",
       "      <th></th>\n",
       "      <th></th>\n",
       "      <th></th>\n",
       "    </tr>\n",
       "  </thead>\n",
       "  <tbody>\n",
       "    <tr>\n",
       "      <th>916</th>\n",
       "      <td>1</td>\n",
       "      <td>Ryerson, Mrs. Arthur Larned (Emily Maria Borie)</td>\n",
       "      <td>female</td>\n",
       "      <td>48.0</td>\n",
       "      <td>1</td>\n",
       "      <td>3</td>\n",
       "      <td>PC 17608</td>\n",
       "      <td>262.375</td>\n",
       "      <td>C</td>\n",
       "    </tr>\n",
       "    <tr>\n",
       "      <th>951</th>\n",
       "      <td>1</td>\n",
       "      <td>Chaudanson, Miss. Victorine</td>\n",
       "      <td>female</td>\n",
       "      <td>36.0</td>\n",
       "      <td>0</td>\n",
       "      <td>0</td>\n",
       "      <td>PC 17608</td>\n",
       "      <td>262.375</td>\n",
       "      <td>C</td>\n",
       "    </tr>\n",
       "    <tr>\n",
       "      <th>956</th>\n",
       "      <td>1</td>\n",
       "      <td>Ryerson, Master. John Borie</td>\n",
       "      <td>male</td>\n",
       "      <td>13.0</td>\n",
       "      <td>2</td>\n",
       "      <td>2</td>\n",
       "      <td>PC 17608</td>\n",
       "      <td>262.375</td>\n",
       "      <td>C</td>\n",
       "    </tr>\n",
       "    <tr>\n",
       "      <th>1034</th>\n",
       "      <td>1</td>\n",
       "      <td>Ryerson, Mr. Arthur Larned</td>\n",
       "      <td>male</td>\n",
       "      <td>61.0</td>\n",
       "      <td>1</td>\n",
       "      <td>3</td>\n",
       "      <td>PC 17608</td>\n",
       "      <td>262.375</td>\n",
       "      <td>C</td>\n",
       "    </tr>\n",
       "    <tr>\n",
       "      <th>1267</th>\n",
       "      <td>1</td>\n",
       "      <td>Bowen, Miss. Grace Scott</td>\n",
       "      <td>female</td>\n",
       "      <td>45.0</td>\n",
       "      <td>0</td>\n",
       "      <td>0</td>\n",
       "      <td>PC 17608</td>\n",
       "      <td>262.375</td>\n",
       "      <td>C</td>\n",
       "    </tr>\n",
       "  </tbody>\n",
       "</table>\n",
       "</div>"
      ],
      "text/plain": [
       "            Pclass                                             Name     Sex  \\\n",
       "PassengerId                                                                   \n",
       "916              1  Ryerson, Mrs. Arthur Larned (Emily Maria Borie)  female   \n",
       "951              1                      Chaudanson, Miss. Victorine  female   \n",
       "956              1                      Ryerson, Master. John Borie    male   \n",
       "1034             1                       Ryerson, Mr. Arthur Larned    male   \n",
       "1267             1                         Bowen, Miss. Grace Scott  female   \n",
       "\n",
       "              Age  SibSp  Parch    Ticket     Fare Embarked  \n",
       "PassengerId                                                  \n",
       "916          48.0      1      3  PC 17608  262.375        C  \n",
       "951          36.0      0      0  PC 17608  262.375        C  \n",
       "956          13.0      2      2  PC 17608  262.375        C  \n",
       "1034         61.0      1      3  PC 17608  262.375        C  \n",
       "1267         45.0      0      0  PC 17608  262.375        C  "
      ]
     },
     "execution_count": 36,
     "metadata": {},
     "output_type": "execute_result"
    }
   ],
   "source": [
    "test_data[test_data['Ticket'] == tickets_mton_test.index[0]]"
   ]
  },
  {
   "cell_type": "code",
   "execution_count": 37,
   "metadata": {},
   "outputs": [
    {
     "data": {
      "text/html": [
       "<div>\n",
       "<style scoped>\n",
       "    .dataframe tbody tr th:only-of-type {\n",
       "        vertical-align: middle;\n",
       "    }\n",
       "\n",
       "    .dataframe tbody tr th {\n",
       "        vertical-align: top;\n",
       "    }\n",
       "\n",
       "    .dataframe thead th {\n",
       "        text-align: right;\n",
       "    }\n",
       "</style>\n",
       "<table border=\"1\" class=\"dataframe\">\n",
       "  <thead>\n",
       "    <tr style=\"text-align: right;\">\n",
       "      <th></th>\n",
       "      <th>Pclass</th>\n",
       "      <th>Name</th>\n",
       "      <th>Sex</th>\n",
       "      <th>Age</th>\n",
       "      <th>SibSp</th>\n",
       "      <th>Parch</th>\n",
       "      <th>Ticket</th>\n",
       "      <th>Fare</th>\n",
       "      <th>Embarked</th>\n",
       "    </tr>\n",
       "    <tr>\n",
       "      <th>PassengerId</th>\n",
       "      <th></th>\n",
       "      <th></th>\n",
       "      <th></th>\n",
       "      <th></th>\n",
       "      <th></th>\n",
       "      <th></th>\n",
       "      <th></th>\n",
       "      <th></th>\n",
       "      <th></th>\n",
       "    </tr>\n",
       "  </thead>\n",
       "  <tbody>\n",
       "    <tr>\n",
       "      <th>966</th>\n",
       "      <td>1</td>\n",
       "      <td>Geiger, Miss. Amalie</td>\n",
       "      <td>female</td>\n",
       "      <td>35.0</td>\n",
       "      <td>0</td>\n",
       "      <td>0</td>\n",
       "      <td>113503</td>\n",
       "      <td>211.5</td>\n",
       "      <td>C</td>\n",
       "    </tr>\n",
       "    <tr>\n",
       "      <th>967</th>\n",
       "      <td>1</td>\n",
       "      <td>Keeping, Mr. Edwin</td>\n",
       "      <td>male</td>\n",
       "      <td>32.5</td>\n",
       "      <td>0</td>\n",
       "      <td>0</td>\n",
       "      <td>113503</td>\n",
       "      <td>211.5</td>\n",
       "      <td>C</td>\n",
       "    </tr>\n",
       "    <tr>\n",
       "      <th>1110</th>\n",
       "      <td>1</td>\n",
       "      <td>Widener, Mrs. George Dunton (Eleanor Elkins)</td>\n",
       "      <td>female</td>\n",
       "      <td>50.0</td>\n",
       "      <td>1</td>\n",
       "      <td>1</td>\n",
       "      <td>113503</td>\n",
       "      <td>211.5</td>\n",
       "      <td>C</td>\n",
       "    </tr>\n",
       "    <tr>\n",
       "      <th>1299</th>\n",
       "      <td>1</td>\n",
       "      <td>Widener, Mr. George Dunton</td>\n",
       "      <td>male</td>\n",
       "      <td>50.0</td>\n",
       "      <td>1</td>\n",
       "      <td>1</td>\n",
       "      <td>113503</td>\n",
       "      <td>211.5</td>\n",
       "      <td>C</td>\n",
       "    </tr>\n",
       "  </tbody>\n",
       "</table>\n",
       "</div>"
      ],
      "text/plain": [
       "            Pclass                                          Name     Sex  \\\n",
       "PassengerId                                                                \n",
       "966              1                          Geiger, Miss. Amalie  female   \n",
       "967              1                            Keeping, Mr. Edwin    male   \n",
       "1110             1  Widener, Mrs. George Dunton (Eleanor Elkins)  female   \n",
       "1299             1                    Widener, Mr. George Dunton    male   \n",
       "\n",
       "              Age  SibSp  Parch  Ticket   Fare Embarked  \n",
       "PassengerId                                              \n",
       "966          35.0      0      0  113503  211.5        C  \n",
       "967          32.5      0      0  113503  211.5        C  \n",
       "1110         50.0      1      1  113503  211.5        C  \n",
       "1299         50.0      1      1  113503  211.5        C  "
      ]
     },
     "execution_count": 37,
     "metadata": {},
     "output_type": "execute_result"
    }
   ],
   "source": [
    "test_data[test_data['Ticket'] == tickets_mton_test.index[1]]"
   ]
  },
  {
   "cell_type": "markdown",
   "metadata": {},
   "source": [
    "Até agora está claro que as pessoas com o mesmo Ticket não necessariamente compartilham o mesmo nome... Isso indica que grupos que viajaram juntos podem ou não ser da mesma família."
   ]
  },
  {
   "cell_type": "markdown",
   "metadata": {},
   "source": [
    "---\n",
    "Aqui faremos diferente. Ao invés de apenas marcar se a pessoa estava em grupo ou não, colocaremos o valor de 1 a 7 referente ao tamanho do grupo. Consideraremos isso como um dado categórico."
   ]
  },
  {
   "cell_type": "code",
   "execution_count": 38,
   "metadata": {},
   "outputs": [
    {
     "data": {
      "text/plain": [
       "dict_items([('CA. 2343', 7), ('1601', 7), ('347082', 7), ('347088', 6), ('CA 2144', 6), ('3101295', 6), ('S.O.C. 14879', 5), ('382652', 5), ('2666', 4), ('19950', 4), ('PC 17757', 4), ('17421', 4), ('347077', 4), ('349909', 4), ('113760', 4), ('LINE', 4), ('W./C. 6608', 4), ('113781', 4), ('4133', 4), ('248727', 3), ('SC/Paris 2123', 3), ('C.A. 31921', 3), ('29106', 3), ('PC 17760', 3), ('F.C.C. 13529', 3), ('PC 17582', 3), ('PC 17755', 3), ('363291', 3), ('345773', 3), ('371110', 3), ('PC 17572', 3), ('347742', 3), ('239853', 3), ('35273', 3), ('24160', 3), ('110152', 3), ('C.A. 34651', 3), ('13502', 3), ('110413', 3), ('230080', 3), ('11668', 2), ('36928', 2), ('113803', 2), ('113806', 2), ('367230', 2), ('367226', 2), ('364849', 2), ('364516', 2), ('35281', 2), ('358585', 2), ('36973', 2), ('11751', 2), ('11767', 2), ('349237', 2), ('11967', 2), ('12749', 2), ('36947', 2), ('370365', 2), ('370129', 2), ('A/4 48871', 2), ('C.A. 33112', 2), ('110465', 2), ('111361', 2), ('C.A. 2673', 2), ('C.A. 2315', 2), ('113505', 2), ('A/5. 3336', 2), ('113572', 2), ('13507', 2), ('7534', 2), ('54636', 2), ('113776', 2), ('392096', 2), ('113789', 2), ('376564', 2), ('113798', 2), ('347080', 2), ('231919', 2), ('237736', 2), ('250644', 2), ('2653', 2), ('2651', 2), ('26360', 2), ('2627', 2), ('250655', 2), ('250649', 2), ('250647', 2), ('220845', 2), ('2661', 2), ('248738', 2), ('244367', 2), ('244252', 2), ('243847', 2), ('230136', 2), ('239865', 2), ('230433', 2), ('2659', 2), ('2665', 2), ('16966', 2), ('19928', 2), ('345764', 2), ('31027', 2), ('17453', 2), ('17474', 2), ('19877', 2), ('3101278', 2), ('29750', 2), ('19943', 2), ('C.A. 37671', 2), ('2908', 2), ('28403', 2), ('2699', 2), ('2691', 2), ('2678', 2), ('2668', 2), ('19996', 2), ('347054', 2), ('WE/P 5735', 2), ('PC 17761', 2), ('STON/O2. 3101279', 2), ('PC 17608', 2), ('P/PP 3381', 2), ('PC 17569', 2), ('PP 9549', 2), ('PC 17593', 2), ('PC 17477', 2), ('PC 17604', 2), ('PC 17758', 2), ('PC 17611', 2), ('W./C. 6607', 2), ('S.C./PARIS 2079', 2), ('PC 17485', 2), ('S.O./P.P. 3', 2), ('PC 17558', 2)])"
      ]
     },
     "execution_count": 38,
     "metadata": {},
     "output_type": "execute_result"
    }
   ],
   "source": [
    "in_group_tickets_train = dict(tickets_mton_train[tickets_mton_train > 1])\n",
    "in_group_tickets_test = dict(tickets_mton_test[tickets_mton_test > 1])\n",
    "\n",
    "in_group_tickets_train.items()"
   ]
  },
  {
   "cell_type": "code",
   "execution_count": 39,
   "metadata": {},
   "outputs": [
    {
     "data": {
      "text/html": [
       "<div>\n",
       "<style scoped>\n",
       "    .dataframe tbody tr th:only-of-type {\n",
       "        vertical-align: middle;\n",
       "    }\n",
       "\n",
       "    .dataframe tbody tr th {\n",
       "        vertical-align: top;\n",
       "    }\n",
       "\n",
       "    .dataframe thead th {\n",
       "        text-align: right;\n",
       "    }\n",
       "</style>\n",
       "<table border=\"1\" class=\"dataframe\">\n",
       "  <thead>\n",
       "    <tr style=\"text-align: right;\">\n",
       "      <th></th>\n",
       "      <th>Survived</th>\n",
       "      <th>Pclass</th>\n",
       "      <th>Name</th>\n",
       "      <th>Sex</th>\n",
       "      <th>Age</th>\n",
       "      <th>SibSp</th>\n",
       "      <th>Parch</th>\n",
       "      <th>Ticket</th>\n",
       "      <th>Fare</th>\n",
       "      <th>Embarked</th>\n",
       "      <th>Traveled in Group</th>\n",
       "    </tr>\n",
       "    <tr>\n",
       "      <th>PassengerId</th>\n",
       "      <th></th>\n",
       "      <th></th>\n",
       "      <th></th>\n",
       "      <th></th>\n",
       "      <th></th>\n",
       "      <th></th>\n",
       "      <th></th>\n",
       "      <th></th>\n",
       "      <th></th>\n",
       "      <th></th>\n",
       "      <th></th>\n",
       "    </tr>\n",
       "  </thead>\n",
       "  <tbody>\n",
       "    <tr>\n",
       "      <th>1</th>\n",
       "      <td>0</td>\n",
       "      <td>3</td>\n",
       "      <td>Braund, Mr. Owen Harris</td>\n",
       "      <td>male</td>\n",
       "      <td>22.00000</td>\n",
       "      <td>1</td>\n",
       "      <td>0</td>\n",
       "      <td>A/5 21171</td>\n",
       "      <td>7.2500</td>\n",
       "      <td>S</td>\n",
       "      <td>1</td>\n",
       "    </tr>\n",
       "    <tr>\n",
       "      <th>2</th>\n",
       "      <td>1</td>\n",
       "      <td>1</td>\n",
       "      <td>Cumings, Mrs. John Bradley (Florence Briggs Th...</td>\n",
       "      <td>female</td>\n",
       "      <td>38.00000</td>\n",
       "      <td>1</td>\n",
       "      <td>0</td>\n",
       "      <td>PC 17599</td>\n",
       "      <td>71.2833</td>\n",
       "      <td>C</td>\n",
       "      <td>1</td>\n",
       "    </tr>\n",
       "    <tr>\n",
       "      <th>3</th>\n",
       "      <td>1</td>\n",
       "      <td>3</td>\n",
       "      <td>Heikkinen, Miss. Laina</td>\n",
       "      <td>female</td>\n",
       "      <td>26.00000</td>\n",
       "      <td>0</td>\n",
       "      <td>0</td>\n",
       "      <td>STON/O2. 3101282</td>\n",
       "      <td>7.9250</td>\n",
       "      <td>S</td>\n",
       "      <td>1</td>\n",
       "    </tr>\n",
       "    <tr>\n",
       "      <th>4</th>\n",
       "      <td>1</td>\n",
       "      <td>1</td>\n",
       "      <td>Futrelle, Mrs. Jacques Heath (Lily May Peel)</td>\n",
       "      <td>female</td>\n",
       "      <td>35.00000</td>\n",
       "      <td>1</td>\n",
       "      <td>0</td>\n",
       "      <td>113803</td>\n",
       "      <td>53.1000</td>\n",
       "      <td>S</td>\n",
       "      <td>2</td>\n",
       "    </tr>\n",
       "    <tr>\n",
       "      <th>5</th>\n",
       "      <td>0</td>\n",
       "      <td>3</td>\n",
       "      <td>Allen, Mr. William Henry</td>\n",
       "      <td>male</td>\n",
       "      <td>35.00000</td>\n",
       "      <td>0</td>\n",
       "      <td>0</td>\n",
       "      <td>373450</td>\n",
       "      <td>8.0500</td>\n",
       "      <td>S</td>\n",
       "      <td>1</td>\n",
       "    </tr>\n",
       "    <tr>\n",
       "      <th>6</th>\n",
       "      <td>0</td>\n",
       "      <td>3</td>\n",
       "      <td>Moran, Mr. James</td>\n",
       "      <td>male</td>\n",
       "      <td>32.38961</td>\n",
       "      <td>0</td>\n",
       "      <td>0</td>\n",
       "      <td>330877</td>\n",
       "      <td>8.4583</td>\n",
       "      <td>Q</td>\n",
       "      <td>1</td>\n",
       "    </tr>\n",
       "    <tr>\n",
       "      <th>7</th>\n",
       "      <td>0</td>\n",
       "      <td>1</td>\n",
       "      <td>McCarthy, Mr. Timothy J</td>\n",
       "      <td>male</td>\n",
       "      <td>54.00000</td>\n",
       "      <td>0</td>\n",
       "      <td>0</td>\n",
       "      <td>17463</td>\n",
       "      <td>51.8625</td>\n",
       "      <td>S</td>\n",
       "      <td>1</td>\n",
       "    </tr>\n",
       "    <tr>\n",
       "      <th>8</th>\n",
       "      <td>0</td>\n",
       "      <td>3</td>\n",
       "      <td>Palsson, Master. Gosta Leonard</td>\n",
       "      <td>male</td>\n",
       "      <td>2.00000</td>\n",
       "      <td>3</td>\n",
       "      <td>1</td>\n",
       "      <td>349909</td>\n",
       "      <td>21.0750</td>\n",
       "      <td>S</td>\n",
       "      <td>4</td>\n",
       "    </tr>\n",
       "    <tr>\n",
       "      <th>9</th>\n",
       "      <td>1</td>\n",
       "      <td>3</td>\n",
       "      <td>Johnson, Mrs. Oscar W (Elisabeth Vilhelmina Berg)</td>\n",
       "      <td>female</td>\n",
       "      <td>27.00000</td>\n",
       "      <td>0</td>\n",
       "      <td>2</td>\n",
       "      <td>347742</td>\n",
       "      <td>11.1333</td>\n",
       "      <td>S</td>\n",
       "      <td>3</td>\n",
       "    </tr>\n",
       "    <tr>\n",
       "      <th>10</th>\n",
       "      <td>1</td>\n",
       "      <td>2</td>\n",
       "      <td>Nasser, Mrs. Nicholas (Adele Achem)</td>\n",
       "      <td>female</td>\n",
       "      <td>14.00000</td>\n",
       "      <td>1</td>\n",
       "      <td>0</td>\n",
       "      <td>237736</td>\n",
       "      <td>30.0708</td>\n",
       "      <td>C</td>\n",
       "      <td>2</td>\n",
       "    </tr>\n",
       "  </tbody>\n",
       "</table>\n",
       "</div>"
      ],
      "text/plain": [
       "             Survived Pclass  \\\n",
       "PassengerId                    \n",
       "1                   0      3   \n",
       "2                   1      1   \n",
       "3                   1      3   \n",
       "4                   1      1   \n",
       "5                   0      3   \n",
       "6                   0      3   \n",
       "7                   0      1   \n",
       "8                   0      3   \n",
       "9                   1      3   \n",
       "10                  1      2   \n",
       "\n",
       "                                                          Name     Sex  \\\n",
       "PassengerId                                                              \n",
       "1                                      Braund, Mr. Owen Harris    male   \n",
       "2            Cumings, Mrs. John Bradley (Florence Briggs Th...  female   \n",
       "3                                       Heikkinen, Miss. Laina  female   \n",
       "4                 Futrelle, Mrs. Jacques Heath (Lily May Peel)  female   \n",
       "5                                     Allen, Mr. William Henry    male   \n",
       "6                                             Moran, Mr. James    male   \n",
       "7                                      McCarthy, Mr. Timothy J    male   \n",
       "8                               Palsson, Master. Gosta Leonard    male   \n",
       "9            Johnson, Mrs. Oscar W (Elisabeth Vilhelmina Berg)  female   \n",
       "10                         Nasser, Mrs. Nicholas (Adele Achem)  female   \n",
       "\n",
       "                  Age  SibSp  Parch            Ticket     Fare Embarked  \\\n",
       "PassengerId                                                               \n",
       "1            22.00000      1      0         A/5 21171   7.2500        S   \n",
       "2            38.00000      1      0          PC 17599  71.2833        C   \n",
       "3            26.00000      0      0  STON/O2. 3101282   7.9250        S   \n",
       "4            35.00000      1      0            113803  53.1000        S   \n",
       "5            35.00000      0      0            373450   8.0500        S   \n",
       "6            32.38961      0      0            330877   8.4583        Q   \n",
       "7            54.00000      0      0             17463  51.8625        S   \n",
       "8             2.00000      3      1            349909  21.0750        S   \n",
       "9            27.00000      0      2            347742  11.1333        S   \n",
       "10           14.00000      1      0            237736  30.0708        C   \n",
       "\n",
       "            Traveled in Group  \n",
       "PassengerId                    \n",
       "1                           1  \n",
       "2                           1  \n",
       "3                           1  \n",
       "4                           2  \n",
       "5                           1  \n",
       "6                           1  \n",
       "7                           1  \n",
       "8                           4  \n",
       "9                           3  \n",
       "10                          2  "
      ]
     },
     "execution_count": 39,
     "metadata": {},
     "output_type": "execute_result"
    }
   ],
   "source": [
    "train_data['Traveled in Group'] = train_data['Ticket'].apply(lambda x: in_group_tickets_train[x] if x in in_group_tickets_train else 1).astype('object')\n",
    "test_data['Traveled in Group'] = test_data['Ticket'].apply(lambda x: in_group_tickets_test[x] if x in in_group_tickets_test else 1).astype('object')\n",
    "\n",
    "train_data.head(10)"
   ]
  },
  {
   "cell_type": "markdown",
   "metadata": {},
   "source": [
    "Vamos agora checar as famílias."
   ]
  },
  {
   "cell_type": "code",
   "execution_count": 40,
   "metadata": {},
   "outputs": [
    {
     "data": {
      "text/plain": [
       "(Name\n",
       " Andersson    9\n",
       " Sage         7\n",
       " Johnson      6\n",
       " Panula       6\n",
       " Skoog        6\n",
       "             ..\n",
       " Moss         1\n",
       " Morrow       1\n",
       " Moraweck     1\n",
       " Moore        1\n",
       " Abbing       1\n",
       " Length: 660, dtype: int64,\n",
       " Name\n",
       " Asplund      4\n",
       " Sage         4\n",
       " Ware         4\n",
       " Davies       4\n",
       " Thomas       4\n",
       "             ..\n",
       " Lyntakoff    1\n",
       " MacKay       1\n",
       " Maguire      1\n",
       " Tenglin      1\n",
       " Abbott       1\n",
       " Length: 351, dtype: int64)"
      ]
     },
     "execution_count": 40,
     "metadata": {},
     "output_type": "execute_result"
    }
   ],
   "source": [
    "aux_train_data = train_data.copy()\n",
    "aux_test_data = test_data.copy()\n",
    "\n",
    "# aux_train_data['Name'] contém agora apenas o nome da família do passageiro, e não mais seu nome completo.\n",
    "aux_train_data['Name'] = train_data['Name'].apply(lambda x: x.split()[0][:-1])\n",
    "aux_test_data['Name'] = test_data['Name'].apply(lambda x: x.split()[0][:-1])\n",
    "\n",
    "# Agrupa esses nomes e conta quantas ocorrências tem de cada um desses nomes\n",
    "fnames_size_train = aux_train_data.groupby(by=['Name']).size().sort_values(ascending=False)\n",
    "fnames_size_test = aux_test_data.groupby(by=['Name']).size().sort_values(ascending=False)\n",
    "\n",
    "fnames_size_train, fnames_size_test"
   ]
  },
  {
   "cell_type": "markdown",
   "metadata": {},
   "source": [
    "Vamos aplicar a mesma lógica do Ticket e criar uma feature \"Traveled in Family\""
   ]
  },
  {
   "cell_type": "code",
   "execution_count": 41,
   "metadata": {},
   "outputs": [
    {
     "data": {
      "text/plain": [
       "dict_items([('Andersson', 9), ('Sage', 7), ('Johnson', 6), ('Panula', 6), ('Skoog', 6), ('Carter', 6), ('Goodwin', 6), ('Rice', 5), ('Vande', 5), ('Ford', 4), ('Brown', 4), ('Asplund', 4), ('Fortune', 4), ('Williams', 4), ('Gustafsson', 4), ('Va', 4), ('Harper', 4), ('Harris', 4), ('Hart', 4), ('Lefebre', 4), ('Smith', 4), ('Kelly', 4), ('Baclini', 4), ('Palsson', 4), ('Olsen', 3), ('Bourke', 3), ('Collyer', 3), ('Boulos', 3), ('Richards', 3), ('Davies', 3), ('Elias', 3), ('Graham', 3), ('Johansson', 3), ('Jensen', 3), ('Laroche', 3), ('Hoyt', 3), ('Hickman', 3), ('Hansen', 3), ('Goldsmith', 3), (\"O'Brien\", 3), ('Meyer', 3), ('Moran', 3), ('Thayer', 3), ('Navratil', 3), ('Newell', 3), ('Flynn', 3), ('Taussig', 3), ('Jussila', 3), ('Allison', 3), ('d', 3), ('West', 3), ('Olsson', 2), ('Pears', 2), ('Dick', 2), ('Doling', 2), ('Arnold-Franchi', 2), ('Oreskovic', 2), ('Webber', 2), ('Duf', 2), ('Penasc', 2), ('Andrews', 2), ('Nicola-Yarred', 2), ('White', 2), ('Nasser', 2), ('Nakid', 2), ('Dean', 2), ('Peter', 2), ('Murphy', 2), ('Danbom', 2), ('Petroff', 2), ('Daly', 2), ('Crosby', 2), ('Quick', 2), ('Coutts', 2), ('Renouf', 2), ('Coleff', 2), ('Rosblom', 2), ('Chapman', 2), ('Ryerson', 2), ('Saad', 2), ('Chambers', 2), ('Attalah', 2), ('Wick', 2), ('Frauenthal', 2), ('Carlsson', 2), ('Moubarek', 2), ('Kantor', 2), ('Johnston', 2), ('Keane', 2), ('Abbott', 2), ('Zabour', 2), ('Abelson', 2), ('Jacobsohn', 2), ('Lam', 2), ('Larsson', 2), ('Holverson', 2), ('Hocking', 2), ('Hippach', 2), ('Herman', 2), ('Lobb', 2), ('Hays', 2), ('Yasbeck', 2), ('Mallet', 2), ('Hamalainen', 2), ('Hakkarainen', 2), ('Hagland', 2), ('Ali', 2), ('McCoy', 2), ('Allen', 2), ('Goldenberg', 2), ('Mellinger', 2), ('Minahan', 2), ('Moor', 2), ('Morley', 2), ('Futrelle', 2), ('Sandstrom', 2), ('va', 2), ('Baxter', 2), ('Calic', 2), ('Vand', 2), ('Silvey', 2), ('Thorneycroft', 2), ('Cacic', 2), ('Beane', 2), ('Strom', 2), ('Taylor', 2), ('Turpin', 2), ('Braund', 2), ('Caldwell', 2), ('Beckwith', 2), ('Backstrom', 2), ('Becker', 2), ('Svensson', 2), ('Bishop', 2), ('Stanley', 2), ('Barbara', 2)])"
      ]
     },
     "execution_count": 41,
     "metadata": {},
     "output_type": "execute_result"
    }
   ],
   "source": [
    "in_family_train = dict(fnames_size_train[fnames_size_train > 1])\n",
    "in_family_test = dict(fnames_size_test[fnames_size_test > 1])\n",
    "\n",
    "in_family_train.items()"
   ]
  },
  {
   "cell_type": "code",
   "execution_count": 42,
   "metadata": {},
   "outputs": [
    {
     "data": {
      "text/html": [
       "<div>\n",
       "<style scoped>\n",
       "    .dataframe tbody tr th:only-of-type {\n",
       "        vertical-align: middle;\n",
       "    }\n",
       "\n",
       "    .dataframe tbody tr th {\n",
       "        vertical-align: top;\n",
       "    }\n",
       "\n",
       "    .dataframe thead th {\n",
       "        text-align: right;\n",
       "    }\n",
       "</style>\n",
       "<table border=\"1\" class=\"dataframe\">\n",
       "  <thead>\n",
       "    <tr style=\"text-align: right;\">\n",
       "      <th></th>\n",
       "      <th>Survived</th>\n",
       "      <th>Pclass</th>\n",
       "      <th>Name</th>\n",
       "      <th>Sex</th>\n",
       "      <th>Age</th>\n",
       "      <th>SibSp</th>\n",
       "      <th>Parch</th>\n",
       "      <th>Ticket</th>\n",
       "      <th>Fare</th>\n",
       "      <th>Embarked</th>\n",
       "      <th>Traveled in Group</th>\n",
       "      <th>Traveled in Family</th>\n",
       "    </tr>\n",
       "    <tr>\n",
       "      <th>PassengerId</th>\n",
       "      <th></th>\n",
       "      <th></th>\n",
       "      <th></th>\n",
       "      <th></th>\n",
       "      <th></th>\n",
       "      <th></th>\n",
       "      <th></th>\n",
       "      <th></th>\n",
       "      <th></th>\n",
       "      <th></th>\n",
       "      <th></th>\n",
       "      <th></th>\n",
       "    </tr>\n",
       "  </thead>\n",
       "  <tbody>\n",
       "    <tr>\n",
       "      <th>1</th>\n",
       "      <td>0</td>\n",
       "      <td>3</td>\n",
       "      <td>Braund, Mr. Owen Harris</td>\n",
       "      <td>male</td>\n",
       "      <td>22.00000</td>\n",
       "      <td>1</td>\n",
       "      <td>0</td>\n",
       "      <td>A/5 21171</td>\n",
       "      <td>7.2500</td>\n",
       "      <td>S</td>\n",
       "      <td>1</td>\n",
       "      <td>2</td>\n",
       "    </tr>\n",
       "    <tr>\n",
       "      <th>2</th>\n",
       "      <td>1</td>\n",
       "      <td>1</td>\n",
       "      <td>Cumings, Mrs. John Bradley (Florence Briggs Th...</td>\n",
       "      <td>female</td>\n",
       "      <td>38.00000</td>\n",
       "      <td>1</td>\n",
       "      <td>0</td>\n",
       "      <td>PC 17599</td>\n",
       "      <td>71.2833</td>\n",
       "      <td>C</td>\n",
       "      <td>1</td>\n",
       "      <td>1</td>\n",
       "    </tr>\n",
       "    <tr>\n",
       "      <th>3</th>\n",
       "      <td>1</td>\n",
       "      <td>3</td>\n",
       "      <td>Heikkinen, Miss. Laina</td>\n",
       "      <td>female</td>\n",
       "      <td>26.00000</td>\n",
       "      <td>0</td>\n",
       "      <td>0</td>\n",
       "      <td>STON/O2. 3101282</td>\n",
       "      <td>7.9250</td>\n",
       "      <td>S</td>\n",
       "      <td>1</td>\n",
       "      <td>1</td>\n",
       "    </tr>\n",
       "    <tr>\n",
       "      <th>4</th>\n",
       "      <td>1</td>\n",
       "      <td>1</td>\n",
       "      <td>Futrelle, Mrs. Jacques Heath (Lily May Peel)</td>\n",
       "      <td>female</td>\n",
       "      <td>35.00000</td>\n",
       "      <td>1</td>\n",
       "      <td>0</td>\n",
       "      <td>113803</td>\n",
       "      <td>53.1000</td>\n",
       "      <td>S</td>\n",
       "      <td>2</td>\n",
       "      <td>2</td>\n",
       "    </tr>\n",
       "    <tr>\n",
       "      <th>5</th>\n",
       "      <td>0</td>\n",
       "      <td>3</td>\n",
       "      <td>Allen, Mr. William Henry</td>\n",
       "      <td>male</td>\n",
       "      <td>35.00000</td>\n",
       "      <td>0</td>\n",
       "      <td>0</td>\n",
       "      <td>373450</td>\n",
       "      <td>8.0500</td>\n",
       "      <td>S</td>\n",
       "      <td>1</td>\n",
       "      <td>2</td>\n",
       "    </tr>\n",
       "    <tr>\n",
       "      <th>6</th>\n",
       "      <td>0</td>\n",
       "      <td>3</td>\n",
       "      <td>Moran, Mr. James</td>\n",
       "      <td>male</td>\n",
       "      <td>32.38961</td>\n",
       "      <td>0</td>\n",
       "      <td>0</td>\n",
       "      <td>330877</td>\n",
       "      <td>8.4583</td>\n",
       "      <td>Q</td>\n",
       "      <td>1</td>\n",
       "      <td>3</td>\n",
       "    </tr>\n",
       "    <tr>\n",
       "      <th>7</th>\n",
       "      <td>0</td>\n",
       "      <td>1</td>\n",
       "      <td>McCarthy, Mr. Timothy J</td>\n",
       "      <td>male</td>\n",
       "      <td>54.00000</td>\n",
       "      <td>0</td>\n",
       "      <td>0</td>\n",
       "      <td>17463</td>\n",
       "      <td>51.8625</td>\n",
       "      <td>S</td>\n",
       "      <td>1</td>\n",
       "      <td>1</td>\n",
       "    </tr>\n",
       "    <tr>\n",
       "      <th>8</th>\n",
       "      <td>0</td>\n",
       "      <td>3</td>\n",
       "      <td>Palsson, Master. Gosta Leonard</td>\n",
       "      <td>male</td>\n",
       "      <td>2.00000</td>\n",
       "      <td>3</td>\n",
       "      <td>1</td>\n",
       "      <td>349909</td>\n",
       "      <td>21.0750</td>\n",
       "      <td>S</td>\n",
       "      <td>4</td>\n",
       "      <td>4</td>\n",
       "    </tr>\n",
       "    <tr>\n",
       "      <th>9</th>\n",
       "      <td>1</td>\n",
       "      <td>3</td>\n",
       "      <td>Johnson, Mrs. Oscar W (Elisabeth Vilhelmina Berg)</td>\n",
       "      <td>female</td>\n",
       "      <td>27.00000</td>\n",
       "      <td>0</td>\n",
       "      <td>2</td>\n",
       "      <td>347742</td>\n",
       "      <td>11.1333</td>\n",
       "      <td>S</td>\n",
       "      <td>3</td>\n",
       "      <td>6</td>\n",
       "    </tr>\n",
       "    <tr>\n",
       "      <th>10</th>\n",
       "      <td>1</td>\n",
       "      <td>2</td>\n",
       "      <td>Nasser, Mrs. Nicholas (Adele Achem)</td>\n",
       "      <td>female</td>\n",
       "      <td>14.00000</td>\n",
       "      <td>1</td>\n",
       "      <td>0</td>\n",
       "      <td>237736</td>\n",
       "      <td>30.0708</td>\n",
       "      <td>C</td>\n",
       "      <td>2</td>\n",
       "      <td>2</td>\n",
       "    </tr>\n",
       "  </tbody>\n",
       "</table>\n",
       "</div>"
      ],
      "text/plain": [
       "             Survived Pclass  \\\n",
       "PassengerId                    \n",
       "1                   0      3   \n",
       "2                   1      1   \n",
       "3                   1      3   \n",
       "4                   1      1   \n",
       "5                   0      3   \n",
       "6                   0      3   \n",
       "7                   0      1   \n",
       "8                   0      3   \n",
       "9                   1      3   \n",
       "10                  1      2   \n",
       "\n",
       "                                                          Name     Sex  \\\n",
       "PassengerId                                                              \n",
       "1                                      Braund, Mr. Owen Harris    male   \n",
       "2            Cumings, Mrs. John Bradley (Florence Briggs Th...  female   \n",
       "3                                       Heikkinen, Miss. Laina  female   \n",
       "4                 Futrelle, Mrs. Jacques Heath (Lily May Peel)  female   \n",
       "5                                     Allen, Mr. William Henry    male   \n",
       "6                                             Moran, Mr. James    male   \n",
       "7                                      McCarthy, Mr. Timothy J    male   \n",
       "8                               Palsson, Master. Gosta Leonard    male   \n",
       "9            Johnson, Mrs. Oscar W (Elisabeth Vilhelmina Berg)  female   \n",
       "10                         Nasser, Mrs. Nicholas (Adele Achem)  female   \n",
       "\n",
       "                  Age  SibSp  Parch            Ticket     Fare Embarked  \\\n",
       "PassengerId                                                               \n",
       "1            22.00000      1      0         A/5 21171   7.2500        S   \n",
       "2            38.00000      1      0          PC 17599  71.2833        C   \n",
       "3            26.00000      0      0  STON/O2. 3101282   7.9250        S   \n",
       "4            35.00000      1      0            113803  53.1000        S   \n",
       "5            35.00000      0      0            373450   8.0500        S   \n",
       "6            32.38961      0      0            330877   8.4583        Q   \n",
       "7            54.00000      0      0             17463  51.8625        S   \n",
       "8             2.00000      3      1            349909  21.0750        S   \n",
       "9            27.00000      0      2            347742  11.1333        S   \n",
       "10           14.00000      1      0            237736  30.0708        C   \n",
       "\n",
       "            Traveled in Group Traveled in Family  \n",
       "PassengerId                                       \n",
       "1                           1                  2  \n",
       "2                           1                  1  \n",
       "3                           1                  1  \n",
       "4                           2                  2  \n",
       "5                           1                  2  \n",
       "6                           1                  3  \n",
       "7                           1                  1  \n",
       "8                           4                  4  \n",
       "9                           3                  6  \n",
       "10                          2                  2  "
      ]
     },
     "execution_count": 42,
     "metadata": {},
     "output_type": "execute_result"
    }
   ],
   "source": [
    "train_data['Traveled in Family'] = aux_train_data['Name'].apply(lambda x: in_family_train[x] if x in in_family_train else 1).astype('object')\n",
    "test_data['Traveled in Family'] = aux_test_data['Name'].apply(lambda x: in_family_test[x] if x in in_family_test else 1).astype('object')\n",
    "\n",
    "train_data.head(10)"
   ]
  },
  {
   "cell_type": "code",
   "execution_count": 43,
   "metadata": {},
   "outputs": [
    {
     "data": {
      "text/html": [
       "<div>\n",
       "<style scoped>\n",
       "    .dataframe tbody tr th:only-of-type {\n",
       "        vertical-align: middle;\n",
       "    }\n",
       "\n",
       "    .dataframe tbody tr th {\n",
       "        vertical-align: top;\n",
       "    }\n",
       "\n",
       "    .dataframe thead th {\n",
       "        text-align: right;\n",
       "    }\n",
       "</style>\n",
       "<table border=\"1\" class=\"dataframe\">\n",
       "  <thead>\n",
       "    <tr style=\"text-align: right;\">\n",
       "      <th></th>\n",
       "      <th>Pclass</th>\n",
       "      <th>Name</th>\n",
       "      <th>Sex</th>\n",
       "      <th>Age</th>\n",
       "      <th>SibSp</th>\n",
       "      <th>Parch</th>\n",
       "      <th>Ticket</th>\n",
       "      <th>Fare</th>\n",
       "      <th>Embarked</th>\n",
       "      <th>Traveled in Group</th>\n",
       "      <th>Traveled in Family</th>\n",
       "    </tr>\n",
       "    <tr>\n",
       "      <th>PassengerId</th>\n",
       "      <th></th>\n",
       "      <th></th>\n",
       "      <th></th>\n",
       "      <th></th>\n",
       "      <th></th>\n",
       "      <th></th>\n",
       "      <th></th>\n",
       "      <th></th>\n",
       "      <th></th>\n",
       "      <th></th>\n",
       "      <th></th>\n",
       "    </tr>\n",
       "  </thead>\n",
       "  <tbody>\n",
       "    <tr>\n",
       "      <th>892</th>\n",
       "      <td>3</td>\n",
       "      <td>Kelly, Mr. James</td>\n",
       "      <td>male</td>\n",
       "      <td>34.5</td>\n",
       "      <td>0</td>\n",
       "      <td>0</td>\n",
       "      <td>330911</td>\n",
       "      <td>7.8292</td>\n",
       "      <td>Q</td>\n",
       "      <td>1</td>\n",
       "      <td>1</td>\n",
       "    </tr>\n",
       "    <tr>\n",
       "      <th>893</th>\n",
       "      <td>3</td>\n",
       "      <td>Wilkes, Mrs. James (Ellen Needs)</td>\n",
       "      <td>female</td>\n",
       "      <td>47.0</td>\n",
       "      <td>1</td>\n",
       "      <td>0</td>\n",
       "      <td>363272</td>\n",
       "      <td>7.0000</td>\n",
       "      <td>S</td>\n",
       "      <td>1</td>\n",
       "      <td>1</td>\n",
       "    </tr>\n",
       "    <tr>\n",
       "      <th>894</th>\n",
       "      <td>2</td>\n",
       "      <td>Myles, Mr. Thomas Francis</td>\n",
       "      <td>male</td>\n",
       "      <td>62.0</td>\n",
       "      <td>0</td>\n",
       "      <td>0</td>\n",
       "      <td>240276</td>\n",
       "      <td>9.6875</td>\n",
       "      <td>Q</td>\n",
       "      <td>1</td>\n",
       "      <td>1</td>\n",
       "    </tr>\n",
       "    <tr>\n",
       "      <th>895</th>\n",
       "      <td>3</td>\n",
       "      <td>Wirz, Mr. Albert</td>\n",
       "      <td>male</td>\n",
       "      <td>27.0</td>\n",
       "      <td>0</td>\n",
       "      <td>0</td>\n",
       "      <td>315154</td>\n",
       "      <td>8.6625</td>\n",
       "      <td>S</td>\n",
       "      <td>1</td>\n",
       "      <td>1</td>\n",
       "    </tr>\n",
       "    <tr>\n",
       "      <th>896</th>\n",
       "      <td>3</td>\n",
       "      <td>Hirvonen, Mrs. Alexander (Helga E Lindqvist)</td>\n",
       "      <td>female</td>\n",
       "      <td>22.0</td>\n",
       "      <td>1</td>\n",
       "      <td>1</td>\n",
       "      <td>3101298</td>\n",
       "      <td>12.2875</td>\n",
       "      <td>S</td>\n",
       "      <td>1</td>\n",
       "      <td>1</td>\n",
       "    </tr>\n",
       "  </tbody>\n",
       "</table>\n",
       "</div>"
      ],
      "text/plain": [
       "            Pclass                                          Name     Sex  \\\n",
       "PassengerId                                                                \n",
       "892              3                              Kelly, Mr. James    male   \n",
       "893              3              Wilkes, Mrs. James (Ellen Needs)  female   \n",
       "894              2                     Myles, Mr. Thomas Francis    male   \n",
       "895              3                              Wirz, Mr. Albert    male   \n",
       "896              3  Hirvonen, Mrs. Alexander (Helga E Lindqvist)  female   \n",
       "\n",
       "              Age  SibSp  Parch   Ticket     Fare Embarked Traveled in Group  \\\n",
       "PassengerId                                                                    \n",
       "892          34.5      0      0   330911   7.8292        Q                 1   \n",
       "893          47.0      1      0   363272   7.0000        S                 1   \n",
       "894          62.0      0      0   240276   9.6875        Q                 1   \n",
       "895          27.0      0      0   315154   8.6625        S                 1   \n",
       "896          22.0      1      1  3101298  12.2875        S                 1   \n",
       "\n",
       "            Traveled in Family  \n",
       "PassengerId                     \n",
       "892                          1  \n",
       "893                          1  \n",
       "894                          1  \n",
       "895                          1  \n",
       "896                          1  "
      ]
     },
     "execution_count": 43,
     "metadata": {},
     "output_type": "execute_result"
    }
   ],
   "source": [
    "test_data.head()"
   ]
  },
  {
   "cell_type": "markdown",
   "metadata": {},
   "source": [
    "Já foram ótimos avançaos, vamos trabalhar com esse novo modelo.\n",
    "\n",
    "Dropamos as colunas 'Name' e 'Ticket' do nosso dataset."
   ]
  },
  {
   "cell_type": "code",
   "execution_count": 44,
   "metadata": {},
   "outputs": [
    {
     "data": {
      "text/html": [
       "<div>\n",
       "<style scoped>\n",
       "    .dataframe tbody tr th:only-of-type {\n",
       "        vertical-align: middle;\n",
       "    }\n",
       "\n",
       "    .dataframe tbody tr th {\n",
       "        vertical-align: top;\n",
       "    }\n",
       "\n",
       "    .dataframe thead th {\n",
       "        text-align: right;\n",
       "    }\n",
       "</style>\n",
       "<table border=\"1\" class=\"dataframe\">\n",
       "  <thead>\n",
       "    <tr style=\"text-align: right;\">\n",
       "      <th></th>\n",
       "      <th>Survived</th>\n",
       "      <th>Pclass</th>\n",
       "      <th>Sex</th>\n",
       "      <th>Age</th>\n",
       "      <th>SibSp</th>\n",
       "      <th>Parch</th>\n",
       "      <th>Fare</th>\n",
       "      <th>Embarked</th>\n",
       "      <th>Traveled in Group</th>\n",
       "      <th>Traveled in Family</th>\n",
       "    </tr>\n",
       "    <tr>\n",
       "      <th>PassengerId</th>\n",
       "      <th></th>\n",
       "      <th></th>\n",
       "      <th></th>\n",
       "      <th></th>\n",
       "      <th></th>\n",
       "      <th></th>\n",
       "      <th></th>\n",
       "      <th></th>\n",
       "      <th></th>\n",
       "      <th></th>\n",
       "    </tr>\n",
       "  </thead>\n",
       "  <tbody>\n",
       "    <tr>\n",
       "      <th>1</th>\n",
       "      <td>0</td>\n",
       "      <td>3</td>\n",
       "      <td>male</td>\n",
       "      <td>22.0</td>\n",
       "      <td>1</td>\n",
       "      <td>0</td>\n",
       "      <td>7.2500</td>\n",
       "      <td>S</td>\n",
       "      <td>1</td>\n",
       "      <td>2</td>\n",
       "    </tr>\n",
       "    <tr>\n",
       "      <th>2</th>\n",
       "      <td>1</td>\n",
       "      <td>1</td>\n",
       "      <td>female</td>\n",
       "      <td>38.0</td>\n",
       "      <td>1</td>\n",
       "      <td>0</td>\n",
       "      <td>71.2833</td>\n",
       "      <td>C</td>\n",
       "      <td>1</td>\n",
       "      <td>1</td>\n",
       "    </tr>\n",
       "    <tr>\n",
       "      <th>3</th>\n",
       "      <td>1</td>\n",
       "      <td>3</td>\n",
       "      <td>female</td>\n",
       "      <td>26.0</td>\n",
       "      <td>0</td>\n",
       "      <td>0</td>\n",
       "      <td>7.9250</td>\n",
       "      <td>S</td>\n",
       "      <td>1</td>\n",
       "      <td>1</td>\n",
       "    </tr>\n",
       "    <tr>\n",
       "      <th>4</th>\n",
       "      <td>1</td>\n",
       "      <td>1</td>\n",
       "      <td>female</td>\n",
       "      <td>35.0</td>\n",
       "      <td>1</td>\n",
       "      <td>0</td>\n",
       "      <td>53.1000</td>\n",
       "      <td>S</td>\n",
       "      <td>2</td>\n",
       "      <td>2</td>\n",
       "    </tr>\n",
       "    <tr>\n",
       "      <th>5</th>\n",
       "      <td>0</td>\n",
       "      <td>3</td>\n",
       "      <td>male</td>\n",
       "      <td>35.0</td>\n",
       "      <td>0</td>\n",
       "      <td>0</td>\n",
       "      <td>8.0500</td>\n",
       "      <td>S</td>\n",
       "      <td>1</td>\n",
       "      <td>2</td>\n",
       "    </tr>\n",
       "  </tbody>\n",
       "</table>\n",
       "</div>"
      ],
      "text/plain": [
       "             Survived Pclass     Sex   Age  SibSp  Parch     Fare Embarked  \\\n",
       "PassengerId                                                                  \n",
       "1                   0      3    male  22.0      1      0   7.2500        S   \n",
       "2                   1      1  female  38.0      1      0  71.2833        C   \n",
       "3                   1      3  female  26.0      0      0   7.9250        S   \n",
       "4                   1      1  female  35.0      1      0  53.1000        S   \n",
       "5                   0      3    male  35.0      0      0   8.0500        S   \n",
       "\n",
       "            Traveled in Group Traveled in Family  \n",
       "PassengerId                                       \n",
       "1                           1                  2  \n",
       "2                           1                  1  \n",
       "3                           1                  1  \n",
       "4                           2                  2  \n",
       "5                           1                  2  "
      ]
     },
     "execution_count": 44,
     "metadata": {},
     "output_type": "execute_result"
    }
   ],
   "source": [
    "train_data = train_data.drop(['Name','Ticket'], axis=1)\n",
    "test_data = test_data.drop(['Name','Ticket'], axis=1)\n",
    "\n",
    "train_data.head()"
   ]
  },
  {
   "cell_type": "code",
   "execution_count": 45,
   "metadata": {},
   "outputs": [
    {
     "data": {
      "text/html": [
       "<div>\n",
       "<style scoped>\n",
       "    .dataframe tbody tr th:only-of-type {\n",
       "        vertical-align: middle;\n",
       "    }\n",
       "\n",
       "    .dataframe tbody tr th {\n",
       "        vertical-align: top;\n",
       "    }\n",
       "\n",
       "    .dataframe thead th {\n",
       "        text-align: right;\n",
       "    }\n",
       "</style>\n",
       "<table border=\"1\" class=\"dataframe\">\n",
       "  <thead>\n",
       "    <tr style=\"text-align: right;\">\n",
       "      <th></th>\n",
       "      <th>Pclass</th>\n",
       "      <th>Sex</th>\n",
       "      <th>Age</th>\n",
       "      <th>SibSp</th>\n",
       "      <th>Parch</th>\n",
       "      <th>Fare</th>\n",
       "      <th>Embarked</th>\n",
       "      <th>Traveled in Group</th>\n",
       "      <th>Traveled in Family</th>\n",
       "    </tr>\n",
       "    <tr>\n",
       "      <th>PassengerId</th>\n",
       "      <th></th>\n",
       "      <th></th>\n",
       "      <th></th>\n",
       "      <th></th>\n",
       "      <th></th>\n",
       "      <th></th>\n",
       "      <th></th>\n",
       "      <th></th>\n",
       "      <th></th>\n",
       "    </tr>\n",
       "  </thead>\n",
       "  <tbody>\n",
       "    <tr>\n",
       "      <th>892</th>\n",
       "      <td>3</td>\n",
       "      <td>male</td>\n",
       "      <td>34.5</td>\n",
       "      <td>0</td>\n",
       "      <td>0</td>\n",
       "      <td>7.8292</td>\n",
       "      <td>Q</td>\n",
       "      <td>1</td>\n",
       "      <td>1</td>\n",
       "    </tr>\n",
       "    <tr>\n",
       "      <th>893</th>\n",
       "      <td>3</td>\n",
       "      <td>female</td>\n",
       "      <td>47.0</td>\n",
       "      <td>1</td>\n",
       "      <td>0</td>\n",
       "      <td>7.0000</td>\n",
       "      <td>S</td>\n",
       "      <td>1</td>\n",
       "      <td>1</td>\n",
       "    </tr>\n",
       "    <tr>\n",
       "      <th>894</th>\n",
       "      <td>2</td>\n",
       "      <td>male</td>\n",
       "      <td>62.0</td>\n",
       "      <td>0</td>\n",
       "      <td>0</td>\n",
       "      <td>9.6875</td>\n",
       "      <td>Q</td>\n",
       "      <td>1</td>\n",
       "      <td>1</td>\n",
       "    </tr>\n",
       "    <tr>\n",
       "      <th>895</th>\n",
       "      <td>3</td>\n",
       "      <td>male</td>\n",
       "      <td>27.0</td>\n",
       "      <td>0</td>\n",
       "      <td>0</td>\n",
       "      <td>8.6625</td>\n",
       "      <td>S</td>\n",
       "      <td>1</td>\n",
       "      <td>1</td>\n",
       "    </tr>\n",
       "    <tr>\n",
       "      <th>896</th>\n",
       "      <td>3</td>\n",
       "      <td>female</td>\n",
       "      <td>22.0</td>\n",
       "      <td>1</td>\n",
       "      <td>1</td>\n",
       "      <td>12.2875</td>\n",
       "      <td>S</td>\n",
       "      <td>1</td>\n",
       "      <td>1</td>\n",
       "    </tr>\n",
       "  </tbody>\n",
       "</table>\n",
       "</div>"
      ],
      "text/plain": [
       "            Pclass     Sex   Age  SibSp  Parch     Fare Embarked  \\\n",
       "PassengerId                                                        \n",
       "892              3    male  34.5      0      0   7.8292        Q   \n",
       "893              3  female  47.0      1      0   7.0000        S   \n",
       "894              2    male  62.0      0      0   9.6875        Q   \n",
       "895              3    male  27.0      0      0   8.6625        S   \n",
       "896              3  female  22.0      1      1  12.2875        S   \n",
       "\n",
       "            Traveled in Group Traveled in Family  \n",
       "PassengerId                                       \n",
       "892                         1                  1  \n",
       "893                         1                  1  \n",
       "894                         1                  1  \n",
       "895                         1                  1  \n",
       "896                         1                  1  "
      ]
     },
     "execution_count": 45,
     "metadata": {},
     "output_type": "execute_result"
    }
   ],
   "source": [
    "test_data.head()"
   ]
  },
  {
   "cell_type": "code",
   "execution_count": 208,
   "metadata": {},
   "outputs": [],
   "source": [
    "train_data['Pclass'] = train_data['Pclass'].astype('int64')\n",
    "test_data['Pclass'] = test_data['Pclass'].astype('int64')"
   ]
  },
  {
   "cell_type": "markdown",
   "metadata": {},
   "source": [
    "Verificamos agora se os dtypes estão corretos por coluna antes de aplicarmos o get_dummies:"
   ]
  },
  {
   "cell_type": "code",
   "execution_count": 209,
   "metadata": {},
   "outputs": [
    {
     "data": {
      "text/plain": [
       "(Survived                int64\n",
       " Pclass                  int64\n",
       " Sex                    object\n",
       " Age                   float64\n",
       " SibSp                   int64\n",
       " Parch                   int64\n",
       " Fare                  float64\n",
       " Embarked               object\n",
       " Traveled in Group      object\n",
       " Traveled in Family     object\n",
       " dtype: object,\n",
       " Pclass                  int64\n",
       " Sex                    object\n",
       " Age                   float64\n",
       " SibSp                   int64\n",
       " Parch                   int64\n",
       " Fare                  float64\n",
       " Embarked               object\n",
       " Traveled in Group      object\n",
       " Traveled in Family     object\n",
       " dtype: object)"
      ]
     },
     "execution_count": 209,
     "metadata": {},
     "output_type": "execute_result"
    }
   ],
   "source": [
    "train_data.dtypes, test_data.dtypes"
   ]
  },
  {
   "cell_type": "markdown",
   "metadata": {},
   "source": [
    "Tudo correto. Como existem valores variados em quantidade no grupo de viagem e tamnho da família, vamos primeiro unir os datasets. Aqui vamos mudar que iremos selecionar manualmente a coluna que será derrubada posteriormente."
   ]
  },
  {
   "cell_type": "code",
   "execution_count": 211,
   "metadata": {},
   "outputs": [],
   "source": [
    "from fastai.tabular import *"
   ]
  },
  {
   "cell_type": "code",
   "execution_count": 339,
   "metadata": {},
   "outputs": [],
   "source": [
    "cat_cols = ['Sex', 'Traveled in Group', 'Traveled in Family', 'Embarked']\n",
    "num_cols = ['Pclass', 'Age', 'SibSp', 'Parch', 'Fare']\n",
    "dep_var = 'Survived'\n",
    "\n",
    "procs = [Categorify, Normalize]\n",
    "\n",
    "pctg = 0.25\n",
    "valid_idx = range(len(train_data)-int(pctg*len(train_data)), len(train_data))\n",
    "\n",
    "data = TabularDataBunch.from_df('.', train_data, dep_var, valid_idx=valid_idx, procs=procs, cat_names=cat_cols)"
   ]
  },
  {
   "cell_type": "code",
   "execution_count": 169,
   "metadata": {},
   "outputs": [
    {
     "data": {
      "text/plain": [
       "{'Sex': 10, 'Traveled in Group': 10, 'Traveled in Family': 10, 'Embarked': 10}"
      ]
     },
     "execution_count": 169,
     "metadata": {},
     "output_type": "execute_result"
    }
   ],
   "source": [
    "dict(zip(cat_cols, [10]*len(cat_cols)))"
   ]
  },
  {
   "cell_type": "code",
   "execution_count": 173,
   "metadata": {},
   "outputs": [],
   "source": [
    "emb_size = dict(zip(cat_cols, [10]*len(cat_cols)))\n",
    "\n",
    "learn = tabular_learner(data, layers=[100,30], emb_szs=emb_size, metrics=accuracy)"
   ]
  },
  {
   "cell_type": "code",
   "execution_count": 175,
   "metadata": {},
   "outputs": [
    {
     "name": "stdout",
     "output_type": "stream",
     "text": [
      "epoch     train_loss  valid_loss  accuracy  time    \n",
      "0         0.495753    0.432988    0.846847  00:23     \n",
      "1         0.480695    0.384059    0.815315  00:23     \n",
      "2         0.458293    0.409427    0.846847  00:23     \n",
      "3         0.443171    0.398294    0.846847  00:25     \n"
     ]
    }
   ],
   "source": [
    "learn.fit_one_cycle(4, 0.5e-2)"
   ]
  },
  {
   "cell_type": "code",
   "execution_count": 186,
   "metadata": {},
   "outputs": [],
   "source": [
    "preds = []\n",
    "\n",
    "for i, row in test_data.iterrows():\n",
    "    preds.append(learn.predict(row)[1].item())"
   ]
  },
  {
   "cell_type": "code",
   "execution_count": 190,
   "metadata": {},
   "outputs": [],
   "source": [
    "final_preds = pd.DataFrame({'PassengerId': test_data.index, 'Survived': preds})"
   ]
  },
  {
   "cell_type": "code",
   "execution_count": 191,
   "metadata": {},
   "outputs": [],
   "source": [
    "final_preds.to_csv('./Submissions/sub11_fastai.csv', index=False)"
   ]
  },
  {
   "cell_type": "markdown",
   "metadata": {},
   "source": [
    "---"
   ]
  },
  {
   "cell_type": "code",
   "execution_count": 374,
   "metadata": {},
   "outputs": [],
   "source": [
    "from sklearn.preprocessing import StandardScaler\n",
    "std_scaler = StandardScaler()\n",
    "\n",
    "train_data_wd = pd.get_dummies(train_data, columns=cat_cols, drop_first=True)\n",
    "\n",
    "X = train_data_wd.drop('Survived', axis=1)\n",
    "X[num_cols] = std_scaler.fit_transform(X[num_cols])\n",
    "\n",
    "y = train_data_wd['Survived']\n",
    "\n",
    "X_test = pd.get_dummies(test_data, columns=cat_cols, drop_first=True)\n",
    "X_test[num_cols] = std_scaler.fit_transform(X_test[num_cols])\n",
    "\n",
    "for col in X.columns:\n",
    "    if col not in X_test.columns:\n",
    "        X_test[col] = 0\n",
    "        \n",
    "X_test = X_test[X.columns]"
   ]
  },
  {
   "cell_type": "code",
   "execution_count": 348,
   "metadata": {},
   "outputs": [],
   "source": [
    "from xgboost import XGBClassifier\n",
    "from sklearn.model_selection import StratifiedKFold\n",
    "\n",
    "skf = StratifiedKFold(n_splits=5, shuffle=True)"
   ]
  },
  {
   "cell_type": "code",
   "execution_count": 350,
   "metadata": {},
   "outputs": [
    {
     "name": "stdout",
     "output_type": "stream",
     "text": [
      "Acurácia média\t\tDesvio Padrão\t\tMax Depth\t\tEstimators\t\tResultados\n",
      "----------------------------------------------------------------------------------------------------------------------------------\n",
      " 83.05%\t\t\t 2.22%\t\t\t3\t\t\t10\t\t\t[0.8156, 0.8652, 0.809, 0.8483, 0.8146]\n",
      " 82.27%\t\t\t 1.65%\t\t\t3\t\t\t15\t\t\t[0.7933, 0.8427, 0.8315, 0.8202, 0.8258]\n",
      " 81.93%\t\t\t 1.80%\t\t\t3\t\t\t20\t\t\t[0.8324, 0.7865, 0.8258, 0.8371, 0.8146]\n",
      " 81.71%\t\t\t 2.17%\t\t\t3\t\t\t25\t\t\t[0.8101, 0.8202, 0.8146, 0.8539, 0.7865]\n",
      " 81.71%\t\t\t 4.20%\t\t\t3\t\t\t30\t\t\t[0.7877, 0.8258, 0.8315, 0.882, 0.7584]\n",
      " 82.04%\t\t\t 1.70%\t\t\t3\t\t\t35\t\t\t[0.8492, 0.8202, 0.8034, 0.8034, 0.8258]\n",
      " 82.26%\t\t\t 2.34%\t\t\t3\t\t\t40\t\t\t[0.8603, 0.8202, 0.8258, 0.7865, 0.8202]\n",
      " 82.94%\t\t\t 1.58%\t\t\t3\t\t\t45\t\t\t[0.8045, 0.8258, 0.8539, 0.8315, 0.8315]\n",
      " 81.59%\t\t\t 1.90%\t\t\t4\t\t\t10\t\t\t[0.8212, 0.7809, 0.8146, 0.8371, 0.8258]\n",
      " 80.92%\t\t\t 2.58%\t\t\t4\t\t\t15\t\t\t[0.838, 0.7697, 0.7978, 0.8034, 0.8371]\n",
      " 82.16%\t\t\t 0.88%\t\t\t4\t\t\t20\t\t\t[0.8156, 0.8315, 0.8202, 0.8315, 0.809]\n",
      " 81.04%\t\t\t 1.96%\t\t\t4\t\t\t25\t\t\t[0.7821, 0.8258, 0.809, 0.7978, 0.8371]\n",
      " 82.83%\t\t\t 3.16%\t\t\t4\t\t\t30\t\t\t[0.8101, 0.7978, 0.8146, 0.8876, 0.8315]\n",
      " 82.38%\t\t\t 2.59%\t\t\t4\t\t\t35\t\t\t[0.838, 0.8371, 0.7809, 0.8539, 0.809]\n",
      " 82.26%\t\t\t 1.63%\t\t\t4\t\t\t40\t\t\t[0.8436, 0.7978, 0.8371, 0.8146, 0.8202]\n",
      " 82.49%\t\t\t 2.24%\t\t\t4\t\t\t45\t\t\t[0.8324, 0.7978, 0.8315, 0.8034, 0.8596]\n",
      " 83.50%\t\t\t 1.89%\t\t\t5\t\t\t10\t\t\t[0.8268, 0.8427, 0.8034, 0.8427, 0.8596]\n",
      " 81.71%\t\t\t 2.93%\t\t\t5\t\t\t15\t\t\t[0.7989, 0.8596, 0.8034, 0.8427, 0.7809]\n",
      " 81.93%\t\t\t 1.28%\t\t\t5\t\t\t20\t\t\t[0.8101, 0.8371, 0.8034, 0.8315, 0.8146]\n",
      " 82.49%\t\t\t 2.06%\t\t\t5\t\t\t25\t\t\t[0.838, 0.8202, 0.8539, 0.7921, 0.8202]\n",
      " 81.26%\t\t\t 3.80%\t\t\t5\t\t\t30\t\t\t[0.7877, 0.8427, 0.8652, 0.7584, 0.809]\n",
      " 82.16%\t\t\t 4.00%\t\t\t5\t\t\t35\t\t\t[0.7598, 0.8315, 0.8034, 0.8315, 0.882]\n",
      " 81.70%\t\t\t 1.92%\t\t\t5\t\t\t40\t\t\t[0.838, 0.8371, 0.8146, 0.7865, 0.809]\n",
      " 81.71%\t\t\t 2.72%\t\t\t5\t\t\t45\t\t\t[0.8212, 0.7697, 0.8483, 0.809, 0.8371]\n",
      " 81.82%\t\t\t 1.89%\t\t\t6\t\t\t10\t\t\t[0.8101, 0.809, 0.8371, 0.7921, 0.8427]\n",
      " 82.38%\t\t\t 3.59%\t\t\t6\t\t\t15\t\t\t[0.8156, 0.8708, 0.8483, 0.8202, 0.764]\n",
      " 82.49%\t\t\t 3.61%\t\t\t6\t\t\t20\t\t\t[0.8156, 0.7584, 0.8539, 0.8427, 0.8539]\n",
      " 81.60%\t\t\t 3.27%\t\t\t6\t\t\t25\t\t\t[0.7765, 0.7865, 0.809, 0.8539, 0.8539]\n",
      " 82.83%\t\t\t 3.18%\t\t\t6\t\t\t30\t\t\t[0.8156, 0.809, 0.7865, 0.8708, 0.8596]\n",
      " 82.38%\t\t\t 0.96%\t\t\t6\t\t\t35\t\t\t[0.8156, 0.809, 0.8315, 0.8315, 0.8315]\n",
      " 81.37%\t\t\t 2.10%\t\t\t6\t\t\t40\t\t\t[0.7989, 0.8483, 0.7865, 0.8202, 0.8146]\n",
      " 81.82%\t\t\t 2.62%\t\t\t6\t\t\t45\t\t\t[0.7821, 0.8371, 0.7921, 0.8315, 0.8483]\n",
      " 82.16%\t\t\t 2.25%\t\t\t7\t\t\t10\t\t\t[0.8101, 0.7865, 0.8427, 0.8483, 0.8202]\n",
      " 81.37%\t\t\t 2.66%\t\t\t7\t\t\t15\t\t\t[0.7821, 0.7978, 0.8483, 0.8427, 0.7978]\n",
      " 81.14%\t\t\t 1.15%\t\t\t7\t\t\t20\t\t\t[0.8101, 0.7978, 0.8315, 0.8146, 0.8034]\n",
      " 82.27%\t\t\t 1.41%\t\t\t7\t\t\t25\t\t\t[0.8268, 0.8146, 0.8146, 0.8483, 0.809]\n",
      " 82.04%\t\t\t 1.17%\t\t\t7\t\t\t30\t\t\t[0.8156, 0.8146, 0.809, 0.8202, 0.8427]\n",
      " 82.16%\t\t\t 2.15%\t\t\t7\t\t\t35\t\t\t[0.7989, 0.8371, 0.8371, 0.7921, 0.8427]\n",
      " 81.60%\t\t\t 1.41%\t\t\t7\t\t\t40\t\t\t[0.7989, 0.8371, 0.8146, 0.8258, 0.8034]\n",
      " 82.15%\t\t\t 3.38%\t\t\t7\t\t\t45\t\t\t[0.8268, 0.8146, 0.882, 0.7809, 0.8034]\n",
      " 82.04%\t\t\t 0.83%\t\t\t8\t\t\t10\t\t\t[0.8045, 0.8258, 0.8258, 0.8202, 0.8258]\n",
      " 80.92%\t\t\t 1.62%\t\t\t8\t\t\t15\t\t\t[0.8045, 0.7865, 0.809, 0.809, 0.8371]\n",
      " 82.16%\t\t\t 3.01%\t\t\t8\t\t\t20\t\t\t[0.7765, 0.8371, 0.8258, 0.8034, 0.8652]\n",
      " 80.25%\t\t\t 2.17%\t\t\t8\t\t\t25\t\t\t[0.7989, 0.7921, 0.7697, 0.8202, 0.8315]\n",
      " 80.92%\t\t\t 1.30%\t\t\t8\t\t\t30\t\t\t[0.8212, 0.7921, 0.8258, 0.7978, 0.809]\n",
      " 81.82%\t\t\t 0.97%\t\t\t8\t\t\t35\t\t\t[0.8156, 0.809, 0.8146, 0.8371, 0.8146]\n",
      " 82.60%\t\t\t 0.81%\t\t\t8\t\t\t40\t\t\t[0.8324, 0.8371, 0.8202, 0.8146, 0.8258]\n",
      " 81.93%\t\t\t 1.09%\t\t\t8\t\t\t45\t\t\t[0.8212, 0.8371, 0.8202, 0.8034, 0.8146]\n"
     ]
    }
   ],
   "source": [
    "print(f\"Acurácia média\\t\\tDesvio Padrão\\t\\tMax Depth\\t\\tEstimators\\t\\tResultados\")\n",
    "print('-'*130)\n",
    "for max_depth in range(3, 9):\n",
    "    for n_estimators in range(10, 50, 5):\n",
    "        accs = []\n",
    "        xgb_clf = XGBClassifier(max_depth=max_depth, n_estimators=n_estimators)\n",
    "\n",
    "        for train_index, test_index in skf.split(X, y):\n",
    "            X_train, X_test = X.iloc[train_index], X.iloc[test_index]\n",
    "            y_train, y_test = y.iloc[train_index], y.iloc[test_index]\n",
    "\n",
    "            xgb_clf.fit(X_train, y_train)\n",
    "            accs.append(xgb_clf.score(X_test, y_test))\n",
    "\n",
    "        accs = np.array(accs)\n",
    "\n",
    "        print(f\"{accs.mean() * 100: .2f}%\\t\\t\\t{accs.std() * 100: .2f}%\\t\\t\\t{max_depth}\\t\\t\\t{n_estimators}\\t\\t\\t{list(accs.round(4))}\")"
   ]
  },
  {
   "cell_type": "code",
   "execution_count": 363,
   "metadata": {},
   "outputs": [
    {
     "data": {
      "text/plain": [
       "0.8866442199775533"
      ]
     },
     "execution_count": 363,
     "metadata": {},
     "output_type": "execute_result"
    }
   ],
   "source": [
    "accs = []\n",
    "xgb_clf = XGBClassifier(max_depth=5, n_estimators=10)\n",
    "\n",
    "#X_train, X_valid, y_train, y_valid = train_test_split(X, y, test_size=0.25, random_state=42)\n",
    "\n",
    "xgb_clf.fit(X, y)\n",
    "xgb_clf.score(X, y)"
   ]
  },
  {
   "cell_type": "code",
   "execution_count": 364,
   "metadata": {},
   "outputs": [],
   "source": [
    "preds = xgb_clf.predict(X_test)"
   ]
  },
  {
   "cell_type": "code",
   "execution_count": 366,
   "metadata": {},
   "outputs": [
    {
     "data": {
      "text/html": [
       "<div>\n",
       "<style scoped>\n",
       "    .dataframe tbody tr th:only-of-type {\n",
       "        vertical-align: middle;\n",
       "    }\n",
       "\n",
       "    .dataframe tbody tr th {\n",
       "        vertical-align: top;\n",
       "    }\n",
       "\n",
       "    .dataframe thead th {\n",
       "        text-align: right;\n",
       "    }\n",
       "</style>\n",
       "<table border=\"1\" class=\"dataframe\">\n",
       "  <thead>\n",
       "    <tr style=\"text-align: right;\">\n",
       "      <th></th>\n",
       "      <th>PassengerId</th>\n",
       "      <th>Survived</th>\n",
       "    </tr>\n",
       "  </thead>\n",
       "  <tbody>\n",
       "    <tr>\n",
       "      <th>0</th>\n",
       "      <td>892</td>\n",
       "      <td>0</td>\n",
       "    </tr>\n",
       "    <tr>\n",
       "      <th>1</th>\n",
       "      <td>893</td>\n",
       "      <td>0</td>\n",
       "    </tr>\n",
       "    <tr>\n",
       "      <th>2</th>\n",
       "      <td>894</td>\n",
       "      <td>0</td>\n",
       "    </tr>\n",
       "    <tr>\n",
       "      <th>3</th>\n",
       "      <td>895</td>\n",
       "      <td>0</td>\n",
       "    </tr>\n",
       "    <tr>\n",
       "      <th>4</th>\n",
       "      <td>896</td>\n",
       "      <td>0</td>\n",
       "    </tr>\n",
       "    <tr>\n",
       "      <th>...</th>\n",
       "      <td>...</td>\n",
       "      <td>...</td>\n",
       "    </tr>\n",
       "    <tr>\n",
       "      <th>413</th>\n",
       "      <td>1305</td>\n",
       "      <td>0</td>\n",
       "    </tr>\n",
       "    <tr>\n",
       "      <th>414</th>\n",
       "      <td>1306</td>\n",
       "      <td>1</td>\n",
       "    </tr>\n",
       "    <tr>\n",
       "      <th>415</th>\n",
       "      <td>1307</td>\n",
       "      <td>0</td>\n",
       "    </tr>\n",
       "    <tr>\n",
       "      <th>416</th>\n",
       "      <td>1308</td>\n",
       "      <td>0</td>\n",
       "    </tr>\n",
       "    <tr>\n",
       "      <th>417</th>\n",
       "      <td>1309</td>\n",
       "      <td>1</td>\n",
       "    </tr>\n",
       "  </tbody>\n",
       "</table>\n",
       "<p>418 rows × 2 columns</p>\n",
       "</div>"
      ],
      "text/plain": [
       "     PassengerId  Survived\n",
       "0            892         0\n",
       "1            893         0\n",
       "2            894         0\n",
       "3            895         0\n",
       "4            896         0\n",
       "..           ...       ...\n",
       "413         1305         0\n",
       "414         1306         1\n",
       "415         1307         0\n",
       "416         1308         0\n",
       "417         1309         1\n",
       "\n",
       "[418 rows x 2 columns]"
      ]
     },
     "execution_count": 366,
     "metadata": {},
     "output_type": "execute_result"
    }
   ],
   "source": [
    "final_preds = pd.DataFrame({'PassengerId': test_data.index, 'Survived': preds})\n",
    "final_preds"
   ]
  },
  {
   "cell_type": "code",
   "execution_count": 367,
   "metadata": {},
   "outputs": [],
   "source": [
    "final_preds.to_csv('./Submissions/sub14_XGB.csv', index=False)"
   ]
  },
  {
   "cell_type": "code",
   "execution_count": 368,
   "metadata": {},
   "outputs": [
    {
     "data": {
      "image/png": "[encoded data removed]",
      "text/plain": [
       "<Figure size 1080x648 with 1 Axes>"
      ]
     },
     "metadata": {},
     "output_type": "display_data"
    }
   ],
   "source": [
    "plt.figure(figsize=(15,9))\n",
    "plt.bar(X_train.columns[range(len(xgb_clf.feature_importances_))].tolist(), xgb_clf.feature_importances_)\n",
    "plt.xticks(rotation=45)\n",
    "plt.show()"
   ]
  },
  {
   "cell_type": "code",
   "execution_count": 375,
   "metadata": {},
   "outputs": [],
   "source": [
    "crap_cols = ['Traveled in Group_4', \n",
    "             'Traveled in Group_5', \n",
    "             'Traveled in Group_6', \n",
    "             'Traveled in Family_4', \n",
    "             'Traveled in Family_5', \n",
    "             'Traveled in Family_6', \n",
    "             'Traveled in Family_7', \n",
    "             'Traveled in Family_9']\n",
    "\n",
    "X = X.drop(crap_cols, axis=1)\n",
    "X_test = X_test.drop(crap_cols, axis=1)"
   ]
  },
  {
   "cell_type": "code",
   "execution_count": 370,
   "metadata": {},
   "outputs": [
    {
     "name": "stdout",
     "output_type": "stream",
     "text": [
      "Acurácia média\t\tDesvio Padrão\t\tMax Depth\t\tEstimators\t\tResultados\n",
      "----------------------------------------------------------------------------------------------------------------------------------\n",
      " 82.15%\t\t\t 2.94%\t\t\t3\t\t\t10\t\t\t[0.8715, 0.8202, 0.8258, 0.7809, 0.809]\n",
      " 82.83%\t\t\t 0.86%\t\t\t3\t\t\t15\t\t\t[0.838, 0.8258, 0.8146, 0.8371, 0.8258]\n",
      " 80.81%\t\t\t 1.73%\t\t\t3\t\t\t20\t\t\t[0.7877, 0.7978, 0.8315, 0.7978, 0.8258]\n",
      " 82.16%\t\t\t 0.71%\t\t\t3\t\t\t25\t\t\t[0.8101, 0.8315, 0.8202, 0.8202, 0.8258]\n",
      " 81.26%\t\t\t 2.06%\t\t\t3\t\t\t30\t\t\t[0.7877, 0.8427, 0.8146, 0.7921, 0.8258]\n",
      " 82.83%\t\t\t 2.14%\t\t\t3\t\t\t35\t\t\t[0.8212, 0.8034, 0.8652, 0.8146, 0.8371]\n",
      " 82.15%\t\t\t 1.88%\t\t\t3\t\t\t40\t\t\t[0.8436, 0.8258, 0.809, 0.7921, 0.8371]\n",
      " 82.60%\t\t\t 3.32%\t\t\t3\t\t\t45\t\t\t[0.8324, 0.7921, 0.8315, 0.882, 0.7921]\n",
      " 81.82%\t\t\t 2.93%\t\t\t4\t\t\t10\t\t\t[0.8268, 0.8034, 0.8539, 0.7697, 0.8371]\n",
      " 82.60%\t\t\t 2.38%\t\t\t4\t\t\t15\t\t\t[0.8715, 0.8034, 0.8258, 0.8146, 0.8146]\n",
      " 81.93%\t\t\t 2.15%\t\t\t4\t\t\t20\t\t\t[0.7989, 0.8596, 0.8202, 0.8146, 0.8034]\n",
      " 81.93%\t\t\t 2.20%\t\t\t4\t\t\t25\t\t\t[0.8212, 0.809, 0.7865, 0.8258, 0.8539]\n",
      " 80.70%\t\t\t 2.71%\t\t\t4\t\t\t30\t\t\t[0.7765, 0.8483, 0.8258, 0.8034, 0.7809]\n",
      " 82.27%\t\t\t 1.80%\t\t\t4\t\t\t35\t\t\t[0.8268, 0.7921, 0.8371, 0.8146, 0.8427]\n",
      " 82.04%\t\t\t 1.44%\t\t\t4\t\t\t40\t\t\t[0.8324, 0.8371, 0.8258, 0.8034, 0.8034]\n",
      " 82.61%\t\t\t 2.94%\t\t\t4\t\t\t45\t\t\t[0.7877, 0.8202, 0.8034, 0.8539, 0.8652]\n",
      " 81.82%\t\t\t 1.82%\t\t\t5\t\t\t10\t\t\t[0.8101, 0.8539, 0.8034, 0.8146, 0.809]\n",
      " 82.04%\t\t\t 1.83%\t\t\t5\t\t\t15\t\t\t[0.8436, 0.8146, 0.7921, 0.8146, 0.8371]\n",
      " 81.93%\t\t\t 0.66%\t\t\t5\t\t\t20\t\t\t[0.8212, 0.8146, 0.8146, 0.8146, 0.8315]\n",
      " 82.04%\t\t\t 2.26%\t\t\t5\t\t\t25\t\t\t[0.838, 0.8371, 0.7809, 0.8371, 0.809]\n",
      " 82.27%\t\t\t 3.02%\t\t\t5\t\t\t30\t\t\t[0.838, 0.8539, 0.7809, 0.8483, 0.7921]\n",
      " 83.95%\t\t\t 0.73%\t\t\t5\t\t\t35\t\t\t[0.8268, 0.8371, 0.8483, 0.8427, 0.8427]\n",
      " 81.49%\t\t\t 2.78%\t\t\t5\t\t\t40\t\t\t[0.7709, 0.8483, 0.8202, 0.8371, 0.7978]\n",
      " 81.14%\t\t\t 2.86%\t\t\t5\t\t\t45\t\t\t[0.8212, 0.8427, 0.7697, 0.8371, 0.7865]\n",
      " 83.06%\t\t\t 4.30%\t\t\t6\t\t\t10\t\t\t[0.7598, 0.8539, 0.8596, 0.8034, 0.8764]\n",
      " 82.15%\t\t\t 2.44%\t\t\t6\t\t\t15\t\t\t[0.8436, 0.8371, 0.8202, 0.7753, 0.8315]\n",
      " 82.04%\t\t\t 1.97%\t\t\t6\t\t\t20\t\t\t[0.8156, 0.809, 0.809, 0.8596, 0.809]\n",
      " 82.38%\t\t\t 2.79%\t\t\t6\t\t\t25\t\t\t[0.7989, 0.8258, 0.8034, 0.8764, 0.8146]\n",
      " 82.15%\t\t\t 1.42%\t\t\t6\t\t\t30\t\t\t[0.838, 0.8146, 0.7978, 0.8315, 0.8258]\n",
      " 83.05%\t\t\t 1.79%\t\t\t6\t\t\t35\t\t\t[0.8324, 0.8258, 0.8596, 0.8315, 0.8034]\n",
      " 81.26%\t\t\t 1.28%\t\t\t6\t\t\t40\t\t\t[0.8268, 0.7921, 0.809, 0.8258, 0.809]\n",
      " 80.69%\t\t\t 2.64%\t\t\t6\t\t\t45\t\t\t[0.8268, 0.7865, 0.7697, 0.8427, 0.809]\n",
      " 83.39%\t\t\t 0.77%\t\t\t7\t\t\t10\t\t\t[0.838, 0.8371, 0.8315, 0.8202, 0.8427]\n",
      " 81.93%\t\t\t 1.00%\t\t\t7\t\t\t15\t\t\t[0.838, 0.809, 0.8202, 0.8146, 0.8146]\n",
      " 81.15%\t\t\t 1.79%\t\t\t7\t\t\t20\t\t\t[0.7821, 0.8202, 0.809, 0.8371, 0.809]\n",
      " 82.72%\t\t\t 1.65%\t\t\t7\t\t\t25\t\t\t[0.8324, 0.8258, 0.8315, 0.8483, 0.7978]\n",
      " 82.94%\t\t\t 2.61%\t\t\t7\t\t\t30\t\t\t[0.8436, 0.7865, 0.8652, 0.8315, 0.8202]\n",
      " 81.70%\t\t\t 2.68%\t\t\t7\t\t\t35\t\t\t[0.8659, 0.7978, 0.7978, 0.7978, 0.8258]\n",
      " 81.93%\t\t\t 0.99%\t\t\t7\t\t\t40\t\t\t[0.8324, 0.8146, 0.8034, 0.8258, 0.8202]\n",
      " 81.37%\t\t\t 3.29%\t\t\t7\t\t\t45\t\t\t[0.8324, 0.8258, 0.7584, 0.8539, 0.7978]\n",
      " 82.38%\t\t\t 2.37%\t\t\t8\t\t\t10\t\t\t[0.8156, 0.7865, 0.8315, 0.8596, 0.8258]\n",
      " 82.05%\t\t\t 2.76%\t\t\t8\t\t\t15\t\t\t[0.7821, 0.8146, 0.8034, 0.8596, 0.8427]\n",
      " 82.04%\t\t\t 2.11%\t\t\t8\t\t\t20\t\t\t[0.8045, 0.8258, 0.8596, 0.809, 0.8034]\n",
      " 81.37%\t\t\t 1.93%\t\t\t8\t\t\t25\t\t\t[0.7933, 0.8146, 0.8483, 0.8146, 0.7978]\n",
      " 81.03%\t\t\t 3.30%\t\t\t8\t\t\t30\t\t\t[0.8324, 0.7472, 0.8371, 0.8258, 0.809]\n",
      " 81.48%\t\t\t 2.59%\t\t\t8\t\t\t35\t\t\t[0.8547, 0.8315, 0.7809, 0.809, 0.7978]\n",
      " 80.58%\t\t\t 3.73%\t\t\t8\t\t\t40\t\t\t[0.8715, 0.7865, 0.8034, 0.7584, 0.809]\n",
      " 81.59%\t\t\t 2.16%\t\t\t8\t\t\t45\t\t\t[0.838, 0.8146, 0.7753, 0.8258, 0.8258]\n"
     ]
    }
   ],
   "source": [
    "print(f\"Acurácia média\\t\\tDesvio Padrão\\t\\tMax Depth\\t\\tEstimators\\t\\tResultados\")\n",
    "print('-'*130)\n",
    "for max_depth in range(3, 9):\n",
    "    for n_estimators in range(10, 50, 5):\n",
    "        accs = []\n",
    "        xgb_clf = XGBClassifier(max_depth=max_depth, n_estimators=n_estimators)\n",
    "\n",
    "        for train_index, test_index in skf.split(X, y):\n",
    "            X_train, X_test = X.iloc[train_index], X.iloc[test_index]\n",
    "            y_train, y_test = y.iloc[train_index], y.iloc[test_index]\n",
    "\n",
    "            xgb_clf.fit(X_train, y_train)\n",
    "            accs.append(xgb_clf.score(X_test, y_test))\n",
    "\n",
    "        accs = np.array(accs)\n",
    "\n",
    "        print(f\"{accs.mean() * 100: .2f}%\\t\\t\\t{accs.std() * 100: .2f}%\\t\\t\\t{max_depth}\\t\\t\\t{n_estimators}\\t\\t\\t{list(accs.round(4))}\")"
   ]
  },
  {
   "cell_type": "code",
   "execution_count": 371,
   "metadata": {},
   "outputs": [
    {
     "data": {
      "text/plain": [
       "0.8731762065095399"
      ]
     },
     "execution_count": 371,
     "metadata": {},
     "output_type": "execute_result"
    }
   ],
   "source": [
    "accs = []\n",
    "xgb_clf = XGBClassifier(max_depth=5, n_estimators=10)\n",
    "\n",
    "#X_train, X_valid, y_train, y_valid = train_test_split(X, y, test_size=0.25, random_state=42)\n",
    "\n",
    "xgb_clf.fit(X, y)\n",
    "xgb_clf.score(X, y)"
   ]
  },
  {
   "cell_type": "code",
   "execution_count": 376,
   "metadata": {},
   "outputs": [],
   "source": [
    "preds = xgb_clf.predict(X_test)\n",
    "\n",
    "final_preds = pd.DataFrame({'PassengerId': test_data.index, 'Survived': preds})\n",
    "final_preds\n",
    "\n",
    "final_preds.to_csv('./Submissions/sub15_XGB.csv', index=False)"
   ]
  },
  {
   "cell_type": "markdown",
   "metadata": {},
   "source": [
    "---"
   ]
  },
  {
   "cell_type": "code",
   "execution_count": 378,
   "metadata": {},
   "outputs": [
    {
     "name": "stdout",
     "output_type": "stream",
     "text": [
      "Acurácia média\t\tDesvio Padrão\t\tMax Depth\t\tEstimators\t\tResultados\n",
      "----------------------------------------------------------------------------------------------------------------------------------\n",
      " 74.07%\t\t\t 1.35%\t\t\t8\t\t\t1\t\t\t[0.743, 0.7416, 0.7247, 0.7303, 0.764]\n",
      " 79.68%\t\t\t 1.67%\t\t\t8\t\t\t51\t\t\t[0.8212, 0.7921, 0.8034, 0.7978, 0.7697]\n",
      " 81.04%\t\t\t 1.91%\t\t\t8\t\t\t101\t\t\t[0.7765, 0.8315, 0.8034, 0.8202, 0.8202]\n",
      " 80.47%\t\t\t 0.59%\t\t\t8\t\t\t151\t\t\t[0.8156, 0.8034, 0.8034, 0.8034, 0.7978]\n",
      " 79.57%\t\t\t 1.84%\t\t\t8\t\t\t201\t\t\t[0.7989, 0.8202, 0.764, 0.8034, 0.7921]\n",
      " 80.25%\t\t\t 1.97%\t\t\t8\t\t\t251\t\t\t[0.8156, 0.8146, 0.8146, 0.8034, 0.764]\n",
      " 81.25%\t\t\t 1.98%\t\t\t8\t\t\t301\t\t\t[0.8324, 0.8146, 0.8258, 0.7753, 0.8146]\n",
      " 79.69%\t\t\t 1.92%\t\t\t8\t\t\t351\t\t\t[0.7933, 0.809, 0.8258, 0.7865, 0.7697]\n",
      " 80.13%\t\t\t 2.34%\t\t\t8\t\t\t401\t\t\t[0.7989, 0.7921, 0.8315, 0.8202, 0.764]\n",
      " 80.81%\t\t\t 1.99%\t\t\t8\t\t\t451\t\t\t[0.8101, 0.8202, 0.7921, 0.8371, 0.7809]\n"
     ]
    }
   ],
   "source": [
    "from sklearn.ensemble import RandomForestClassifier\n",
    "\n",
    "print(f\"Acurácia média\\t\\tDesvio Padrão\\t\\tMax Depth\\t\\tEstimators\\t\\tResultados\")\n",
    "print('-'*130)\n",
    "\n",
    "for n_estimators in range(1, 500, 50):\n",
    "    accs = []\n",
    "    rf_clf = RandomForestClassifier(n_estimators=n_estimators)\n",
    "\n",
    "    for train_index, test_index in skf.split(X, y):\n",
    "        X_train, X_test = X.iloc[train_index], X.iloc[test_index]\n",
    "        y_train, y_test = y.iloc[train_index], y.iloc[test_index]\n",
    "\n",
    "        rf_clf.fit(X_train, y_train)\n",
    "        accs.append(rf_clf.score(X_test, y_test))\n",
    "\n",
    "    accs = np.array(accs)\n",
    "\n",
    "    print(f\"{accs.mean() * 100: .2f}%\\t\\t\\t{accs.std() * 100: .2f}%\\t\\t\\t{max_depth}\\t\\t\\t{n_estimators}\\t\\t\\t{list(accs.round(4))}\")"
   ]
  }
 ],
 "metadata": {
  "kernelspec": {
   "display_name": "Python 3",
   "language": "python",
   "name": "python3"
  },
  "language_info": {
   "codemirror_mode": {
    "name": "ipython",
    "version": 3
   },
   "file_extension": ".py",
   "mimetype": "text/x-python",
   "name": "python",
   "nbconvert_exporter": "python",
   "pygments_lexer": "ipython3",
   "version": "3.7.7"
  }
 },
 "nbformat": 4,
 "nbformat_minor": 4
}
