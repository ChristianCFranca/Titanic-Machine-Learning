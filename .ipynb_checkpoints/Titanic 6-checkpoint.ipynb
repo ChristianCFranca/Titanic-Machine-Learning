{
 "cells": [
  {
   "cell_type": "markdown",
   "metadata": {},
   "source": [
    "# Exploratory Data Analysis\n",
    "\n",
    "Neste notebook é realizada a parte de EDA juntamente com o treinamento de modelos para a predição dos passageiros que sobreviveram.\n",
    "\n",
    "Inicialmente são importadas todas as dependências necessárias."
   ]
  },
  {
   "cell_type": "code",
   "execution_count": 1,
   "metadata": {},
   "outputs": [],
   "source": [
    "import pandas as pd\n",
    "import matplotlib.pyplot as plt\n",
    "import seaborn as sns\n",
    "import numpy as np\n",
    "sns.set()"
   ]
  },
  {
   "cell_type": "markdown",
   "metadata": {},
   "source": [
    "Utilizando o `pandas`, carregamos então o dataset dos passageiros do Titanic."
   ]
  },
  {
   "cell_type": "code",
   "execution_count": 2,
   "metadata": {},
   "outputs": [
    {
     "name": "stdout",
     "output_type": "stream",
     "text": [
      "(891, 11)\n"
     ]
    },
    {
     "data": {
      "text/html": [
       "<div>\n",
       "<style scoped>\n",
       "    .dataframe tbody tr th:only-of-type {\n",
       "        vertical-align: middle;\n",
       "    }\n",
       "\n",
       "    .dataframe tbody tr th {\n",
       "        vertical-align: top;\n",
       "    }\n",
       "\n",
       "    .dataframe thead th {\n",
       "        text-align: right;\n",
       "    }\n",
       "</style>\n",
       "<table border=\"1\" class=\"dataframe\">\n",
       "  <thead>\n",
       "    <tr style=\"text-align: right;\">\n",
       "      <th></th>\n",
       "      <th>Survived</th>\n",
       "      <th>Pclass</th>\n",
       "      <th>Name</th>\n",
       "      <th>Sex</th>\n",
       "      <th>Age</th>\n",
       "      <th>SibSp</th>\n",
       "      <th>Parch</th>\n",
       "      <th>Ticket</th>\n",
       "      <th>Fare</th>\n",
       "      <th>Cabin</th>\n",
       "      <th>Embarked</th>\n",
       "    </tr>\n",
       "    <tr>\n",
       "      <th>PassengerId</th>\n",
       "      <th></th>\n",
       "      <th></th>\n",
       "      <th></th>\n",
       "      <th></th>\n",
       "      <th></th>\n",
       "      <th></th>\n",
       "      <th></th>\n",
       "      <th></th>\n",
       "      <th></th>\n",
       "      <th></th>\n",
       "      <th></th>\n",
       "    </tr>\n",
       "  </thead>\n",
       "  <tbody>\n",
       "    <tr>\n",
       "      <th>1</th>\n",
       "      <td>0</td>\n",
       "      <td>3</td>\n",
       "      <td>Braund, Mr. Owen Harris</td>\n",
       "      <td>male</td>\n",
       "      <td>22.0</td>\n",
       "      <td>1</td>\n",
       "      <td>0</td>\n",
       "      <td>A/5 21171</td>\n",
       "      <td>7.2500</td>\n",
       "      <td>NaN</td>\n",
       "      <td>S</td>\n",
       "    </tr>\n",
       "    <tr>\n",
       "      <th>2</th>\n",
       "      <td>1</td>\n",
       "      <td>1</td>\n",
       "      <td>Cumings, Mrs. John Bradley (Florence Briggs Th...</td>\n",
       "      <td>female</td>\n",
       "      <td>38.0</td>\n",
       "      <td>1</td>\n",
       "      <td>0</td>\n",
       "      <td>PC 17599</td>\n",
       "      <td>71.2833</td>\n",
       "      <td>C85</td>\n",
       "      <td>C</td>\n",
       "    </tr>\n",
       "    <tr>\n",
       "      <th>3</th>\n",
       "      <td>1</td>\n",
       "      <td>3</td>\n",
       "      <td>Heikkinen, Miss. Laina</td>\n",
       "      <td>female</td>\n",
       "      <td>26.0</td>\n",
       "      <td>0</td>\n",
       "      <td>0</td>\n",
       "      <td>STON/O2. 3101282</td>\n",
       "      <td>7.9250</td>\n",
       "      <td>NaN</td>\n",
       "      <td>S</td>\n",
       "    </tr>\n",
       "    <tr>\n",
       "      <th>4</th>\n",
       "      <td>1</td>\n",
       "      <td>1</td>\n",
       "      <td>Futrelle, Mrs. Jacques Heath (Lily May Peel)</td>\n",
       "      <td>female</td>\n",
       "      <td>35.0</td>\n",
       "      <td>1</td>\n",
       "      <td>0</td>\n",
       "      <td>113803</td>\n",
       "      <td>53.1000</td>\n",
       "      <td>C123</td>\n",
       "      <td>S</td>\n",
       "    </tr>\n",
       "    <tr>\n",
       "      <th>5</th>\n",
       "      <td>0</td>\n",
       "      <td>3</td>\n",
       "      <td>Allen, Mr. William Henry</td>\n",
       "      <td>male</td>\n",
       "      <td>35.0</td>\n",
       "      <td>0</td>\n",
       "      <td>0</td>\n",
       "      <td>373450</td>\n",
       "      <td>8.0500</td>\n",
       "      <td>NaN</td>\n",
       "      <td>S</td>\n",
       "    </tr>\n",
       "  </tbody>\n",
       "</table>\n",
       "</div>"
      ],
      "text/plain": [
       "             Survived  Pclass  \\\n",
       "PassengerId                     \n",
       "1                   0       3   \n",
       "2                   1       1   \n",
       "3                   1       3   \n",
       "4                   1       1   \n",
       "5                   0       3   \n",
       "\n",
       "                                                          Name     Sex   Age  \\\n",
       "PassengerId                                                                    \n",
       "1                                      Braund, Mr. Owen Harris    male  22.0   \n",
       "2            Cumings, Mrs. John Bradley (Florence Briggs Th...  female  38.0   \n",
       "3                                       Heikkinen, Miss. Laina  female  26.0   \n",
       "4                 Futrelle, Mrs. Jacques Heath (Lily May Peel)  female  35.0   \n",
       "5                                     Allen, Mr. William Henry    male  35.0   \n",
       "\n",
       "             SibSp  Parch            Ticket     Fare Cabin Embarked  \n",
       "PassengerId                                                          \n",
       "1                1      0         A/5 21171   7.2500   NaN        S  \n",
       "2                1      0          PC 17599  71.2833   C85        C  \n",
       "3                0      0  STON/O2. 3101282   7.9250   NaN        S  \n",
       "4                1      0            113803  53.1000  C123        S  \n",
       "5                0      0            373450   8.0500   NaN        S  "
      ]
     },
     "execution_count": 2,
     "metadata": {},
     "output_type": "execute_result"
    }
   ],
   "source": [
    "train_data = pd.read_csv('train.csv', index_col='PassengerId')\n",
    "print(train_data.shape)\n",
    "train_data.head()"
   ]
  },
  {
   "cell_type": "markdown",
   "metadata": {},
   "source": [
    "Carregamos também o dataset de teste que será utilizado para realizar uma submissão futura."
   ]
  },
  {
   "cell_type": "code",
   "execution_count": 3,
   "metadata": {},
   "outputs": [
    {
     "name": "stdout",
     "output_type": "stream",
     "text": [
      "(418, 10)\n"
     ]
    },
    {
     "data": {
      "text/html": [
       "<div>\n",
       "<style scoped>\n",
       "    .dataframe tbody tr th:only-of-type {\n",
       "        vertical-align: middle;\n",
       "    }\n",
       "\n",
       "    .dataframe tbody tr th {\n",
       "        vertical-align: top;\n",
       "    }\n",
       "\n",
       "    .dataframe thead th {\n",
       "        text-align: right;\n",
       "    }\n",
       "</style>\n",
       "<table border=\"1\" class=\"dataframe\">\n",
       "  <thead>\n",
       "    <tr style=\"text-align: right;\">\n",
       "      <th></th>\n",
       "      <th>Pclass</th>\n",
       "      <th>Name</th>\n",
       "      <th>Sex</th>\n",
       "      <th>Age</th>\n",
       "      <th>SibSp</th>\n",
       "      <th>Parch</th>\n",
       "      <th>Ticket</th>\n",
       "      <th>Fare</th>\n",
       "      <th>Cabin</th>\n",
       "      <th>Embarked</th>\n",
       "    </tr>\n",
       "    <tr>\n",
       "      <th>PassengerId</th>\n",
       "      <th></th>\n",
       "      <th></th>\n",
       "      <th></th>\n",
       "      <th></th>\n",
       "      <th></th>\n",
       "      <th></th>\n",
       "      <th></th>\n",
       "      <th></th>\n",
       "      <th></th>\n",
       "      <th></th>\n",
       "    </tr>\n",
       "  </thead>\n",
       "  <tbody>\n",
       "    <tr>\n",
       "      <th>892</th>\n",
       "      <td>3</td>\n",
       "      <td>Kelly, Mr. James</td>\n",
       "      <td>male</td>\n",
       "      <td>34.5</td>\n",
       "      <td>0</td>\n",
       "      <td>0</td>\n",
       "      <td>330911</td>\n",
       "      <td>7.8292</td>\n",
       "      <td>NaN</td>\n",
       "      <td>Q</td>\n",
       "    </tr>\n",
       "    <tr>\n",
       "      <th>893</th>\n",
       "      <td>3</td>\n",
       "      <td>Wilkes, Mrs. James (Ellen Needs)</td>\n",
       "      <td>female</td>\n",
       "      <td>47.0</td>\n",
       "      <td>1</td>\n",
       "      <td>0</td>\n",
       "      <td>363272</td>\n",
       "      <td>7.0000</td>\n",
       "      <td>NaN</td>\n",
       "      <td>S</td>\n",
       "    </tr>\n",
       "    <tr>\n",
       "      <th>894</th>\n",
       "      <td>2</td>\n",
       "      <td>Myles, Mr. Thomas Francis</td>\n",
       "      <td>male</td>\n",
       "      <td>62.0</td>\n",
       "      <td>0</td>\n",
       "      <td>0</td>\n",
       "      <td>240276</td>\n",
       "      <td>9.6875</td>\n",
       "      <td>NaN</td>\n",
       "      <td>Q</td>\n",
       "    </tr>\n",
       "    <tr>\n",
       "      <th>895</th>\n",
       "      <td>3</td>\n",
       "      <td>Wirz, Mr. Albert</td>\n",
       "      <td>male</td>\n",
       "      <td>27.0</td>\n",
       "      <td>0</td>\n",
       "      <td>0</td>\n",
       "      <td>315154</td>\n",
       "      <td>8.6625</td>\n",
       "      <td>NaN</td>\n",
       "      <td>S</td>\n",
       "    </tr>\n",
       "    <tr>\n",
       "      <th>896</th>\n",
       "      <td>3</td>\n",
       "      <td>Hirvonen, Mrs. Alexander (Helga E Lindqvist)</td>\n",
       "      <td>female</td>\n",
       "      <td>22.0</td>\n",
       "      <td>1</td>\n",
       "      <td>1</td>\n",
       "      <td>3101298</td>\n",
       "      <td>12.2875</td>\n",
       "      <td>NaN</td>\n",
       "      <td>S</td>\n",
       "    </tr>\n",
       "  </tbody>\n",
       "</table>\n",
       "</div>"
      ],
      "text/plain": [
       "             Pclass                                          Name     Sex  \\\n",
       "PassengerId                                                                 \n",
       "892               3                              Kelly, Mr. James    male   \n",
       "893               3              Wilkes, Mrs. James (Ellen Needs)  female   \n",
       "894               2                     Myles, Mr. Thomas Francis    male   \n",
       "895               3                              Wirz, Mr. Albert    male   \n",
       "896               3  Hirvonen, Mrs. Alexander (Helga E Lindqvist)  female   \n",
       "\n",
       "              Age  SibSp  Parch   Ticket     Fare Cabin Embarked  \n",
       "PassengerId                                                       \n",
       "892          34.5      0      0   330911   7.8292   NaN        Q  \n",
       "893          47.0      1      0   363272   7.0000   NaN        S  \n",
       "894          62.0      0      0   240276   9.6875   NaN        Q  \n",
       "895          27.0      0      0   315154   8.6625   NaN        S  \n",
       "896          22.0      1      1  3101298  12.2875   NaN        S  "
      ]
     },
     "execution_count": 3,
     "metadata": {},
     "output_type": "execute_result"
    }
   ],
   "source": [
    "test_data = pd.read_csv('test.csv', index_col='PassengerId')\n",
    "print(test_data.shape)\n",
    "test_data.head()"
   ]
  },
  {
   "cell_type": "markdown",
   "metadata": {},
   "source": [
    "### First things first..."
   ]
  },
  {
   "cell_type": "markdown",
   "metadata": {},
   "source": [
    "Filtramos por test_data para não pegarmos a coluna de 'Survived' uma vez que não a utilizaremos de início."
   ]
  },
  {
   "cell_type": "code",
   "execution_count": 4,
   "metadata": {},
   "outputs": [
    {
     "data": {
      "text/plain": [
       "(['Pclass', 'Age', 'SibSp', 'Parch', 'Fare'],\n",
       " ['Name', 'Sex', 'Ticket', 'Cabin', 'Embarked'])"
      ]
     },
     "execution_count": 4,
     "metadata": {},
     "output_type": "execute_result"
    }
   ],
   "source": [
    "numerics_columns = list(test_data.select_dtypes(include=['float', 'float32', 'float64', 'int64', 'bool']).columns)\n",
    "categoric_columns = list(test_data.select_dtypes(include=['object']).columns)\n",
    "\n",
    "numerics_columns, categoric_columns"
   ]
  },
  {
   "cell_type": "markdown",
   "metadata": {},
   "source": [
    "Perfeito!"
   ]
  },
  {
   "cell_type": "markdown",
   "metadata": {},
   "source": [
    "# Corrigindo NANs\n",
    "\n",
    "Uma parte vital no tratamento de dados é tratar os dados faltantes (Not a Number)."
   ]
  },
  {
   "cell_type": "markdown",
   "metadata": {},
   "source": [
    "## NANs: categóricos"
   ]
  },
  {
   "cell_type": "markdown",
   "metadata": {},
   "source": [
    "### 'Cabin'"
   ]
  },
  {
   "cell_type": "code",
   "execution_count": 17,
   "metadata": {},
   "outputs": [
    {
     "data": {
      "text/plain": [
       "(Name          0\n",
       " Sex           0\n",
       " Ticket        0\n",
       " Cabin       687\n",
       " Embarked      2\n",
       " dtype: int64,\n",
       " Name          0\n",
       " Sex           0\n",
       " Ticket        0\n",
       " Cabin       327\n",
       " Embarked      0\n",
       " dtype: int64)"
      ]
     },
     "execution_count": 17,
     "metadata": {},
     "output_type": "execute_result"
    }
   ],
   "source": [
    "train_data[categoric_columns].isna().sum(), test_data[categoric_columns].isna().sum()"
   ]
  },
  {
   "cell_type": "markdown",
   "metadata": {},
   "source": [
    "Encontramos um problema aqui. Tanto para o treinamento quanto para o teste não temos muita informação a respeito das cabines em que certos passageiros estavam."
   ]
  },
  {
   "cell_type": "code",
   "execution_count": 18,
   "metadata": {},
   "outputs": [
    {
     "data": {
      "text/plain": [
       "(Name         0.000000\n",
       " Sex          0.000000\n",
       " Ticket       0.000000\n",
       " Cabin       77.104377\n",
       " Embarked     0.224467\n",
       " dtype: float64,\n",
       " Name         0.000000\n",
       " Sex          0.000000\n",
       " Ticket       0.000000\n",
       " Cabin       78.229665\n",
       " Embarked     0.000000\n",
       " dtype: float64)"
      ]
     },
     "execution_count": 18,
     "metadata": {},
     "output_type": "execute_result"
    }
   ],
   "source": [
    "train_data[categoric_columns].isna().sum() / train_data[categoric_columns].isna().count() * 100, test_data[categoric_columns].isna().sum() / test_data[categoric_columns].isna().count() * 100"
   ]
  },
  {
   "cell_type": "markdown",
   "metadata": {},
   "source": [
    "Se Pegarmos a coluna 'Cabin', vemos que mais de $75\\%$ dela está faltando. Isso é um buraco enorme, mas não quer dizer que não possamos aproveitar algo.\n",
    "\n",
    "Considerando que os decks eram nomeados em ordem alfabética do deck superior ao inferior, ele agrega muita informação por si só na sobrevivência, mas vamos confirmar isso. Primeiro iremos substituir a cabine pela letra correspondente e para os valores faltantes vamos criar a cabine 'M' de missing."
   ]
  },
  {
   "cell_type": "code",
   "execution_count": 19,
   "metadata": {},
   "outputs": [
    {
     "data": {
      "text/html": [
       "<div>\n",
       "<style scoped>\n",
       "    .dataframe tbody tr th:only-of-type {\n",
       "        vertical-align: middle;\n",
       "    }\n",
       "\n",
       "    .dataframe tbody tr th {\n",
       "        vertical-align: top;\n",
       "    }\n",
       "\n",
       "    .dataframe thead th {\n",
       "        text-align: right;\n",
       "    }\n",
       "</style>\n",
       "<table border=\"1\" class=\"dataframe\">\n",
       "  <thead>\n",
       "    <tr style=\"text-align: right;\">\n",
       "      <th></th>\n",
       "      <th>Name</th>\n",
       "      <th>Sex</th>\n",
       "      <th>Ticket</th>\n",
       "      <th>Cabin</th>\n",
       "      <th>Embarked</th>\n",
       "    </tr>\n",
       "    <tr>\n",
       "      <th>PassengerId</th>\n",
       "      <th></th>\n",
       "      <th></th>\n",
       "      <th></th>\n",
       "      <th></th>\n",
       "      <th></th>\n",
       "    </tr>\n",
       "  </thead>\n",
       "  <tbody>\n",
       "    <tr>\n",
       "      <th>1</th>\n",
       "      <td>Braund, Mr. Owen Harris</td>\n",
       "      <td>male</td>\n",
       "      <td>A/5 21171</td>\n",
       "      <td>M</td>\n",
       "      <td>S</td>\n",
       "    </tr>\n",
       "    <tr>\n",
       "      <th>2</th>\n",
       "      <td>Cumings, Mrs. John Bradley (Florence Briggs Th...</td>\n",
       "      <td>female</td>\n",
       "      <td>PC 17599</td>\n",
       "      <td>C</td>\n",
       "      <td>C</td>\n",
       "    </tr>\n",
       "    <tr>\n",
       "      <th>3</th>\n",
       "      <td>Heikkinen, Miss. Laina</td>\n",
       "      <td>female</td>\n",
       "      <td>STON/O2. 3101282</td>\n",
       "      <td>M</td>\n",
       "      <td>S</td>\n",
       "    </tr>\n",
       "    <tr>\n",
       "      <th>4</th>\n",
       "      <td>Futrelle, Mrs. Jacques Heath (Lily May Peel)</td>\n",
       "      <td>female</td>\n",
       "      <td>113803</td>\n",
       "      <td>C</td>\n",
       "      <td>S</td>\n",
       "    </tr>\n",
       "    <tr>\n",
       "      <th>5</th>\n",
       "      <td>Allen, Mr. William Henry</td>\n",
       "      <td>male</td>\n",
       "      <td>373450</td>\n",
       "      <td>M</td>\n",
       "      <td>S</td>\n",
       "    </tr>\n",
       "  </tbody>\n",
       "</table>\n",
       "</div>"
      ],
      "text/plain": [
       "                                                          Name     Sex  \\\n",
       "PassengerId                                                              \n",
       "1                                      Braund, Mr. Owen Harris    male   \n",
       "2            Cumings, Mrs. John Bradley (Florence Briggs Th...  female   \n",
       "3                                       Heikkinen, Miss. Laina  female   \n",
       "4                 Futrelle, Mrs. Jacques Heath (Lily May Peel)  female   \n",
       "5                                     Allen, Mr. William Henry    male   \n",
       "\n",
       "                       Ticket Cabin Embarked  \n",
       "PassengerId                                   \n",
       "1                   A/5 21171     M        S  \n",
       "2                    PC 17599     C        C  \n",
       "3            STON/O2. 3101282     M        S  \n",
       "4                      113803     C        S  \n",
       "5                      373450     M        S  "
      ]
     },
     "execution_count": 19,
     "metadata": {},
     "output_type": "execute_result"
    }
   ],
   "source": [
    "train_data['Cabin'] = train_data['Cabin'].apply(lambda x: str(x).split()[0][0] if str(x)[0] != 'n' else 'M')\n",
    "test_data['Cabin'] = test_data['Cabin'].apply(lambda x: str(x).split()[0][0] if str(x)[0] != 'n' else 'M')\n",
    "\n",
    "train_data[categoric_columns].head()"
   ]
  },
  {
   "cell_type": "markdown",
   "metadata": {},
   "source": [
    "Vamos agora observar como as cabines estão distribuídas pela classe do passageiro."
   ]
  },
  {
   "cell_type": "code",
   "execution_count": 20,
   "metadata": {},
   "outputs": [
    {
     "data": {
      "image/png": "[encoded data removed]",
      "text/plain": [
       "<Figure size 1224x432 with 1 Axes>"
      ]
     },
     "metadata": {},
     "output_type": "display_data"
    }
   ],
   "source": [
    "plt.figure(figsize=(17,6))\n",
    "\n",
    "aux_train_data = train_data.sort_values(by='Cabin')\n",
    "sns.countplot(x=aux_train_data['Cabin'], hue=aux_train_data['Pclass'])\n",
    "plt.ylim(0, 50)\n",
    "plt.show()"
   ]
  },
  {
   "cell_type": "markdown",
   "metadata": {},
   "source": [
    "Fica evidente que as cabines com as letras iniciais do alfabeto estavam destinadas ao passageiros de mais alta classe do navio."
   ]
  },
  {
   "cell_type": "code",
   "execution_count": 21,
   "metadata": {},
   "outputs": [
    {
     "data": {
      "image/png": "[encoded data removed]",
      "text/plain": [
       "<Figure size 1512x432 with 1 Axes>"
      ]
     },
     "metadata": {},
     "output_type": "display_data"
    }
   ],
   "source": [
    "plt.figure(figsize=(21,6))\n",
    "\n",
    "aux_train_data = train_data.sort_values(by='Cabin')\n",
    "sns.barplot(x=aux_train_data['Cabin'], y=aux_train_data['Survived'], hue=aux_train_data['Pclass'])\n",
    "plt.yticks(np.arange(0,1.2,0.1))\n",
    "plt.show()"
   ]
  },
  {
   "cell_type": "markdown",
   "metadata": {},
   "source": [
    "As cabines A, B e C só continham passageiros classe 1, a cabine D contém passageiros classe 1 e 2, a cabine E contém passageiros das classes 1, 2 e 3, a cabine F contém passageiros de classe 2 e 3, a cabine G contém apenas passageiros classe 3 e a cabine T contém apenas 1 passageiro classe 1. A cabine M contém todos os tipos (a faltante)."
   ]
  },
  {
   "cell_type": "code",
   "execution_count": 29,
   "metadata": {},
   "outputs": [
    {
     "data": {
      "image/png": "[encoded data removed]",
      "text/plain": [
       "<Figure size 1224x432 with 1 Axes>"
      ]
     },
     "metadata": {},
     "output_type": "display_data"
    }
   ],
   "source": [
    "plt.figure(figsize=(17,6))\n",
    "\n",
    "aux_train_data = train_data.sort_values(by='Cabin')\n",
    "sns.countplot(x=aux_train_data['Survived'].map({0: \"Não Sobreviveu\", 1: \"Sobreviveu\"}), hue=aux_train_data['Pclass'])\n",
    "plt.ylim(0, 400)\n",
    "plt.show()"
   ]
  },
  {
   "cell_type": "markdown",
   "metadata": {},
   "source": [
    "Fica evidente também que mais passageiros da classe 3 morreram do que sobreviveram. Podemos ver também que a maioria da classe 1 sobreviveu, logo, a cabine é um importante preditor.\n",
    "\n",
    "Temos um membro em uma cabine de nome \"T\", que provavelmente foi colocado de maneira incorreta."
   ]
  },
  {
   "cell_type": "code",
   "execution_count": 22,
   "metadata": {},
   "outputs": [
    {
     "data": {
      "text/html": [
       "<div>\n",
       "<style scoped>\n",
       "    .dataframe tbody tr th:only-of-type {\n",
       "        vertical-align: middle;\n",
       "    }\n",
       "\n",
       "    .dataframe tbody tr th {\n",
       "        vertical-align: top;\n",
       "    }\n",
       "\n",
       "    .dataframe thead th {\n",
       "        text-align: right;\n",
       "    }\n",
       "</style>\n",
       "<table border=\"1\" class=\"dataframe\">\n",
       "  <thead>\n",
       "    <tr style=\"text-align: right;\">\n",
       "      <th></th>\n",
       "      <th>Survived</th>\n",
       "      <th>Pclass</th>\n",
       "      <th>Name</th>\n",
       "      <th>Sex</th>\n",
       "      <th>Age</th>\n",
       "      <th>SibSp</th>\n",
       "      <th>Parch</th>\n",
       "      <th>Ticket</th>\n",
       "      <th>Fare</th>\n",
       "      <th>Cabin</th>\n",
       "      <th>Embarked</th>\n",
       "    </tr>\n",
       "    <tr>\n",
       "      <th>PassengerId</th>\n",
       "      <th></th>\n",
       "      <th></th>\n",
       "      <th></th>\n",
       "      <th></th>\n",
       "      <th></th>\n",
       "      <th></th>\n",
       "      <th></th>\n",
       "      <th></th>\n",
       "      <th></th>\n",
       "      <th></th>\n",
       "      <th></th>\n",
       "    </tr>\n",
       "  </thead>\n",
       "  <tbody>\n",
       "    <tr>\n",
       "      <th>340</th>\n",
       "      <td>0</td>\n",
       "      <td>1</td>\n",
       "      <td>Blackwell, Mr. Stephen Weart</td>\n",
       "      <td>male</td>\n",
       "      <td>45.0</td>\n",
       "      <td>0</td>\n",
       "      <td>0</td>\n",
       "      <td>113784</td>\n",
       "      <td>35.5</td>\n",
       "      <td>T</td>\n",
       "      <td>S</td>\n",
       "    </tr>\n",
       "  </tbody>\n",
       "</table>\n",
       "</div>"
      ],
      "text/plain": [
       "             Survived  Pclass                          Name   Sex   Age  \\\n",
       "PassengerId                                                               \n",
       "340                 0       1  Blackwell, Mr. Stephen Weart  male  45.0   \n",
       "\n",
       "             SibSp  Parch  Ticket  Fare Cabin Embarked  \n",
       "PassengerId                                             \n",
       "340              0      0  113784  35.5     T        S  "
      ]
     },
     "execution_count": 22,
     "metadata": {},
     "output_type": "execute_result"
    }
   ],
   "source": [
    "train_data[train_data['Cabin'] == 'T']"
   ]
  },
  {
   "cell_type": "markdown",
   "metadata": {},
   "source": [
    "Vamos colocá-lo na cabine 'A' por ser classe 1 e ter a maior probabilidade de sobreviver."
   ]
  },
  {
   "cell_type": "code",
   "execution_count": 23,
   "metadata": {},
   "outputs": [],
   "source": [
    "train_data.loc[340, 'Cabin'] = 'A'"
   ]
  },
  {
   "cell_type": "markdown",
   "metadata": {},
   "source": [
    "Feito! \n",
    "\n",
    "Para um agrupamento lógico, podemos agrupar AB e C em um único grupo por terem apenas passageiros de classe 1.\n",
    "\n",
    "D e E podem formar outro grupo por tanto terem uma quantidade equivalente de passageiros de uma mesma classe quanto ter uma probabilide de sobrevivência similar.\n",
    "\n",
    "F e G poodemos agrupar pelos mesmos motivos, deixando M como o último grupo."
   ]
  },
  {
   "cell_type": "code",
   "execution_count": 25,
   "metadata": {},
   "outputs": [
    {
     "data": {
      "text/plain": [
       "M      687\n",
       "ABC    122\n",
       "DE      65\n",
       "FG      17\n",
       "Name: Cabin, dtype: int64"
      ]
     },
     "execution_count": 25,
     "metadata": {},
     "output_type": "execute_result"
    }
   ],
   "source": [
    "train_data['Cabin'] = train_data['Cabin'].replace(['A', 'B', 'C'], 'ABC')\n",
    "train_data['Cabin'] = train_data['Cabin'].replace(['D', 'E'], 'DE')\n",
    "train_data['Cabin'] = train_data['Cabin'].replace(['F', 'G'], 'FG')\n",
    "\n",
    "test_data['Cabin'] = test_data['Cabin'].replace(['A', 'B', 'C'], 'ABC')\n",
    "test_data['Cabin'] = test_data['Cabin'].replace(['D', 'E'], 'DE')\n",
    "test_data['Cabin'] = test_data['Cabin'].replace(['F', 'G'], 'FG')\n",
    "\n",
    "train_data['Cabin'].value_counts()"
   ]
  },
  {
   "cell_type": "markdown",
   "metadata": {},
   "source": [
    "Perfeito!"
   ]
  },
  {
   "cell_type": "markdown",
   "metadata": {},
   "source": [
    "### 'Embarked'"
   ]
  },
  {
   "cell_type": "code",
   "execution_count": 26,
   "metadata": {},
   "outputs": [
    {
     "data": {
      "text/plain": [
       "(Name        0\n",
       " Sex         0\n",
       " Ticket      0\n",
       " Cabin       0\n",
       " Embarked    2\n",
       " dtype: int64,\n",
       " Name        0\n",
       " Sex         0\n",
       " Ticket      0\n",
       " Cabin       0\n",
       " Embarked    0\n",
       " dtype: int64)"
      ]
     },
     "execution_count": 26,
     "metadata": {},
     "output_type": "execute_result"
    }
   ],
   "source": [
    "train_data[categoric_columns].isna().sum(), test_data[categoric_columns].isna().sum()"
   ]
  },
  {
   "cell_type": "markdown",
   "metadata": {},
   "source": [
    "Só está faltando no arquivo de treinamento"
   ]
  },
  {
   "cell_type": "code",
   "execution_count": 27,
   "metadata": {},
   "outputs": [
    {
     "data": {
      "image/png": "[encoded data removed]",
      "text/plain": [
       "<Figure size 1584x432 with 4 Axes>"
      ]
     },
     "metadata": {},
     "output_type": "display_data"
    }
   ],
   "source": [
    "fig, axes = plt.subplots(1, 4, figsize=(22,6))\n",
    "sns.countplot(x=train_data['Embarked'], hue=train_data['Survived'].map({0: \"Died\", 1: \"Survived\"}), ax=axes[0])\n",
    "sns.countplot(x=train_data['Embarked'], hue=train_data['Pclass'], ax=axes[1])\n",
    "sns.countplot(x=train_data['Embarked'], hue=train_data['Sex'], ax=axes[2])\n",
    "sns.countplot(x=train_data['Sex'], hue=train_data['Survived'].map({0: \"Died\", 1: \"Survived\"}), ax=axes[3])\n",
    "for i in range(4):\n",
    "    axes[i].set_xlabel('')\n",
    "plt.show()"
   ]
  },
  {
   "cell_type": "markdown",
   "metadata": {},
   "source": [
    "Com essa informação, olhamos agora quais foram esses dois passageiros que estão com NaN em 'Embarked'."
   ]
  },
  {
   "cell_type": "code",
   "execution_count": 28,
   "metadata": {},
   "outputs": [
    {
     "data": {
      "text/plain": [
       "PassengerId\n",
       "62     NaN\n",
       "830    NaN\n",
       "Name: Embarked, dtype: object"
      ]
     },
     "execution_count": 28,
     "metadata": {},
     "output_type": "execute_result"
    }
   ],
   "source": [
    "train_data['Embarked'][train_data['Embarked'].isna()]"
   ]
  },
  {
   "cell_type": "markdown",
   "metadata": {},
   "source": [
    "Passageiros `62` e `830`."
   ]
  },
  {
   "cell_type": "code",
   "execution_count": 29,
   "metadata": {},
   "outputs": [
    {
     "data": {
      "text/html": [
       "<div>\n",
       "<style scoped>\n",
       "    .dataframe tbody tr th:only-of-type {\n",
       "        vertical-align: middle;\n",
       "    }\n",
       "\n",
       "    .dataframe tbody tr th {\n",
       "        vertical-align: top;\n",
       "    }\n",
       "\n",
       "    .dataframe thead th {\n",
       "        text-align: right;\n",
       "    }\n",
       "</style>\n",
       "<table border=\"1\" class=\"dataframe\">\n",
       "  <thead>\n",
       "    <tr style=\"text-align: right;\">\n",
       "      <th></th>\n",
       "      <th>Survived</th>\n",
       "      <th>Pclass</th>\n",
       "      <th>Name</th>\n",
       "      <th>Sex</th>\n",
       "      <th>Age</th>\n",
       "      <th>SibSp</th>\n",
       "      <th>Parch</th>\n",
       "      <th>Ticket</th>\n",
       "      <th>Fare</th>\n",
       "      <th>Cabin</th>\n",
       "      <th>Embarked</th>\n",
       "    </tr>\n",
       "    <tr>\n",
       "      <th>PassengerId</th>\n",
       "      <th></th>\n",
       "      <th></th>\n",
       "      <th></th>\n",
       "      <th></th>\n",
       "      <th></th>\n",
       "      <th></th>\n",
       "      <th></th>\n",
       "      <th></th>\n",
       "      <th></th>\n",
       "      <th></th>\n",
       "      <th></th>\n",
       "    </tr>\n",
       "  </thead>\n",
       "  <tbody>\n",
       "    <tr>\n",
       "      <th>62</th>\n",
       "      <td>1</td>\n",
       "      <td>1</td>\n",
       "      <td>Icard, Miss. Amelie</td>\n",
       "      <td>female</td>\n",
       "      <td>38.0</td>\n",
       "      <td>0</td>\n",
       "      <td>0</td>\n",
       "      <td>113572</td>\n",
       "      <td>80.0</td>\n",
       "      <td>ABC</td>\n",
       "      <td>NaN</td>\n",
       "    </tr>\n",
       "    <tr>\n",
       "      <th>830</th>\n",
       "      <td>1</td>\n",
       "      <td>1</td>\n",
       "      <td>Stone, Mrs. George Nelson (Martha Evelyn)</td>\n",
       "      <td>female</td>\n",
       "      <td>62.0</td>\n",
       "      <td>0</td>\n",
       "      <td>0</td>\n",
       "      <td>113572</td>\n",
       "      <td>80.0</td>\n",
       "      <td>ABC</td>\n",
       "      <td>NaN</td>\n",
       "    </tr>\n",
       "  </tbody>\n",
       "</table>\n",
       "</div>"
      ],
      "text/plain": [
       "             Survived  Pclass                                       Name  \\\n",
       "PassengerId                                                                \n",
       "62                  1       1                        Icard, Miss. Amelie   \n",
       "830                 1       1  Stone, Mrs. George Nelson (Martha Evelyn)   \n",
       "\n",
       "                Sex   Age  SibSp  Parch  Ticket  Fare Cabin Embarked  \n",
       "PassengerId                                                           \n",
       "62           female  38.0      0      0  113572  80.0   ABC      NaN  \n",
       "830          female  62.0      0      0  113572  80.0   ABC      NaN  "
      ]
     },
     "execution_count": 29,
     "metadata": {},
     "output_type": "execute_result"
    }
   ],
   "source": [
    "train_data.loc[[62,830]]"
   ]
  },
  {
   "cell_type": "markdown",
   "metadata": {},
   "source": [
    "Ambas as passageiras sobreviveram! Sabemos que ambas eram da classe 1, logo, é bem provável que subiram ou em 'S' ou em 'C'."
   ]
  },
  {
   "cell_type": "markdown",
   "metadata": {},
   "source": [
    "Não causará impactos enormes caso sejam erroneamente alocadas. Dito isto, ambas serão colocadas em 'S'"
   ]
  },
  {
   "cell_type": "code",
   "execution_count": 30,
   "metadata": {},
   "outputs": [],
   "source": [
    "train_data.loc[62, 'Embarked'] = 'S'\n",
    "train_data.loc[830, 'Embarked'] = 'S'"
   ]
  },
  {
   "cell_type": "code",
   "execution_count": 31,
   "metadata": {},
   "outputs": [
    {
     "data": {
      "text/plain": [
       "(Name        0\n",
       " Sex         0\n",
       " Ticket      0\n",
       " Cabin       0\n",
       " Embarked    0\n",
       " dtype: int64,\n",
       " Name        0\n",
       " Sex         0\n",
       " Ticket      0\n",
       " Cabin       0\n",
       " Embarked    0\n",
       " dtype: int64)"
      ]
     },
     "execution_count": 31,
     "metadata": {},
     "output_type": "execute_result"
    }
   ],
   "source": [
    "train_data[categoric_columns].isna().sum(), test_data[categoric_columns].isna().sum()"
   ]
  },
  {
   "cell_type": "markdown",
   "metadata": {},
   "source": [
    "Resolvido!"
   ]
  },
  {
   "cell_type": "markdown",
   "metadata": {},
   "source": [
    "## NANs: numéricos"
   ]
  },
  {
   "cell_type": "markdown",
   "metadata": {},
   "source": [
    "### 'Age'"
   ]
  },
  {
   "cell_type": "code",
   "execution_count": 32,
   "metadata": {},
   "outputs": [
    {
     "data": {
      "text/plain": [
       "(Pclass      0\n",
       " Age       177\n",
       " SibSp       0\n",
       " Parch       0\n",
       " Fare        0\n",
       " dtype: int64,\n",
       " Pclass     0\n",
       " Age       86\n",
       " SibSp      0\n",
       " Parch      0\n",
       " Fare       1\n",
       " dtype: int64)"
      ]
     },
     "execution_count": 32,
     "metadata": {},
     "output_type": "execute_result"
    }
   ],
   "source": [
    "train_data[numerics_columns].isna().sum(), test_data[numerics_columns].isna().sum()"
   ]
  },
  {
   "cell_type": "markdown",
   "metadata": {},
   "source": [
    "Existem NaNs na coluna `Age` nos 2 arquivos e na coluna `Fare` apenas no arquivo de teste."
   ]
  },
  {
   "cell_type": "markdown",
   "metadata": {},
   "source": [
    "Embora substituir a idade pela média geral seja uma boa alternativa, talvez não seja a melhor. Vamos olhar a distribuição de idade para as pessoas que sobreviveram e morreram."
   ]
  },
  {
   "cell_type": "code",
   "execution_count": 40,
   "metadata": {},
   "outputs": [
    {
     "data": {
      "image/png": "[encoded data removed]",
      "text/plain": [
       "<Figure size 864x864 with 2 Axes>"
      ]
     },
     "metadata": {},
     "output_type": "display_data"
    }
   ],
   "source": [
    "fig, ax = plt.subplots(2, 1, figsize=(12,12))\n",
    "sns.distplot(train_data['Age'][train_data['Survived'] == 1], label='Survived', ax=ax[0])\n",
    "sns.distplot(train_data['Age'][train_data['Survived'] == 0], label='Died', ax=ax[0])\n",
    "\n",
    "sns.countplot(x=train_data['Survived'].map({0: 'Died', 1: 'Survived'}), hue=train_data['Pclass'], ax=ax[1])\n",
    "#ax.set_xticks(np.arange(-10,100,10))\n",
    "plt.legend()\n",
    "plt.show()"
   ]
  },
  {
   "cell_type": "markdown",
   "metadata": {},
   "source": [
    "A região da esquerda do primeiro gráfico indica claramente que pessoas mais jovens tem uma alta probabilidade de sobreviver. Quer dizer que se colocarmos a idade média em uma pessoa que era mais jovem ou mais velha, podemos estar impactando negativamente nossas predições. Não apenas isso, como a classe que você pertence também impacta claramente, como observado no segundo gráfico.\n",
    "- Classe 1: A maioria sobreviveu\n",
    "- Classe 2: Mais ou menos a metade sobreviveu\n",
    "- Classe 3: A maioria esmagadora morreu\n",
    "\n",
    "Vamos então pegar a média da idade por classe por título. O título pode estar fortemente relacionado com a idade."
   ]
  },
  {
   "cell_type": "code",
   "execution_count": 44,
   "metadata": {},
   "outputs": [
    {
     "name": "stdout",
     "output_type": "stream",
     "text": [
      "Master mean:  5.306666666666667\n",
      "2.2588888888888885\n",
      "5.350833333333334\n",
      "Miss mean: 30.0\n",
      "22.241935483870968\n",
      "16.186567164179106\n"
     ]
    },
    {
     "data": {
      "image/png": "[encoded data removed]",
      "text/plain": [
       "<Figure size 864x1080 with 3 Axes>"
      ]
     },
     "metadata": {},
     "output_type": "display_data"
    }
   ],
   "source": [
    "aux_train_data = train_data.copy()\n",
    "aux_test_data = test_data.copy()\n",
    "\n",
    "# aux_train_data['Name'] contém agora apenas o nome da família do passageiro, e não mais seu nome completo.\n",
    "aux_train_data['Name'] = train_data['Name'].apply(lambda x: x.split()[1])\n",
    "aux_test_data['Name'] = test_data['Name'].apply(lambda x: x.split()[1])\n",
    "\n",
    "fig, ax = plt.subplots(3, 1, figsize=(12,15))\n",
    "\n",
    "\n",
    "sns.distplot(aux_train_data['Age'][(aux_train_data['Name'] == 'Master.') & (aux_train_data['Pclass'] == 1)], label='Master. P1', kde=False, ax=ax[0])\n",
    "sns.distplot(aux_train_data['Age'][(aux_train_data['Name'] == 'Miss.') & (aux_train_data['Pclass'] == 1)], label='Miss. P1', kde=False, ax=ax[0])\n",
    "\n",
    "sns.distplot(aux_train_data['Age'][(aux_train_data['Name'] == 'Master.') & (aux_train_data['Pclass'] == 2)], label='Master. P2', kde=False, ax=ax[1])\n",
    "sns.distplot(aux_train_data['Age'][(aux_train_data['Name'] == 'Miss.') & (aux_train_data['Pclass'] == 2)], label='Miss. P2', kde=False, ax=ax[1])\n",
    "\n",
    "sns.distplot(aux_train_data['Age'][(aux_train_data['Name'] == 'Master.') & (aux_train_data['Pclass'] == 3)], label='Master. P3', kde=False, ax=ax[2])\n",
    "sns.distplot(aux_train_data['Age'][(aux_train_data['Name'] == 'Miss.') & (aux_train_data['Pclass'] == 3)], label='Miss. P3', kde=False, ax=ax[2])\n",
    "ax[0].legend()\n",
    "ax[1].legend()\n",
    "ax[2].legend()\n",
    "\n",
    "ax[0].set_xticks(np.arange(-10,100,10))\n",
    "ax[1].set_xticks(np.arange(-10,100,10))\n",
    "ax[1].set_xticks(np.arange(-10,100,10))\n",
    "print(\"Master mean: \", aux_train_data['Age'][(aux_train_data['Name'] == 'Master.') & (aux_train_data['Pclass'] == 1)].mean())\n",
    "print(aux_train_data['Age'][(aux_train_data['Name'] == 'Master.') & (aux_train_data['Pclass'] == 2)].mean())\n",
    "print(aux_train_data['Age'][(aux_train_data['Name'] == 'Master.') & (aux_train_data['Pclass'] == 3)].mean())\n",
    "\n",
    "print(\"Miss mean:\", aux_train_data['Age'][(aux_train_data['Name'] == 'Miss.') & (aux_train_data['Pclass'] == 1)].mean())\n",
    "print(aux_train_data['Age'][(aux_train_data['Name'] == 'Miss.') & (aux_train_data['Pclass'] == 2)].mean())\n",
    "print(aux_train_data['Age'][(aux_train_data['Name'] == 'Miss.') & (aux_train_data['Pclass'] == 3)].mean())\n",
    "\n",
    "plt.show()"
   ]
  },
  {
   "cell_type": "markdown",
   "metadata": {},
   "source": [
    "Jovens tendem a sobreviver mais, especialmente crianças de 0 a 5 anos."
   ]
  },
  {
   "cell_type": "code",
   "execution_count": 45,
   "metadata": {},
   "outputs": [],
   "source": [
    "refer_names = aux_train_data.groupby(by='Name').size().sort_values(ascending=False)\n",
    "r_refer_names = list(refer_names.index[refer_names > 10])\n",
    "p_class = [1, 2, 3]"
   ]
  },
  {
   "cell_type": "code",
   "execution_count": 46,
   "metadata": {},
   "outputs": [
    {
     "name": "stdout",
     "output_type": "stream",
     "text": [
      "NANs antes treino:  177\n",
      "NANs antes teste:  86\n",
      "\n",
      "NANs antes treino:  3\n",
      "NANs antes teste:  2\n",
      "\n",
      "NANs antes treino:  0\n",
      "NANs antes teste:  0\n"
     ]
    }
   ],
   "source": [
    "print(\"NANs antes treino: \", train_data['Age'].isna().sum())\n",
    "print(\"NANs antes teste: \", test_data['Age'].isna().sum())\n",
    "\n",
    "for name in r_refer_names:\n",
    "    for pclass in p_class:\n",
    "        \n",
    "        mean = train_data['Age'][(aux_train_data['Name'] == name) & \n",
    "                                 (train_data['Pclass'] == pclass)].mean()\n",
    "        \n",
    "        train_data.loc[(aux_train_data['Name'] == name) & \n",
    "                       (aux_train_data['Pclass'] == pclass), 'Age'] = mean\n",
    "\n",
    "        \n",
    "        mean = test_data['Age'][(aux_test_data['Name'] == name) & \n",
    "                                (test_data['Pclass'] == pclass)].mean()\n",
    "        \n",
    "        test_data.loc[(aux_test_data['Name'] == name) & \n",
    "                      (aux_test_data['Pclass'] == pclass), 'Age'] = mean\n",
    "        \n",
    "        \n",
    "print(\"\\nNANs antes treino: \", train_data['Age'].isna().sum())\n",
    "print(\"NANs antes teste: \", test_data['Age'].isna().sum())\n",
    "\n",
    "train_data['Age'] = train_data['Age'].fillna(value=train_data['Age'].mean())\n",
    "test_data['Age'] = test_data['Age'].fillna(value=test_data['Age'].mean())\n",
    "\n",
    "print(\"\\nNANs antes treino: \", train_data['Age'].isna().sum())\n",
    "print(\"NANs antes teste: \", test_data['Age'].isna().sum())"
   ]
  },
  {
   "cell_type": "code",
   "execution_count": 47,
   "metadata": {},
   "outputs": [
    {
     "data": {
      "text/plain": [
       "(Pclass    0\n",
       " Age       0\n",
       " SibSp     0\n",
       " Parch     0\n",
       " Fare      0\n",
       " dtype: int64,\n",
       " Pclass    0\n",
       " Age       0\n",
       " SibSp     0\n",
       " Parch     0\n",
       " Fare      1\n",
       " dtype: int64)"
      ]
     },
     "execution_count": 47,
     "metadata": {},
     "output_type": "execute_result"
    }
   ],
   "source": [
    "train_data[numerics_columns].isna().sum(), test_data[numerics_columns].isna().sum()"
   ]
  },
  {
   "cell_type": "markdown",
   "metadata": {},
   "source": [
    "Feito!"
   ]
  },
  {
   "cell_type": "markdown",
   "metadata": {},
   "source": [
    "### 'Fare'"
   ]
  },
  {
   "cell_type": "code",
   "execution_count": 48,
   "metadata": {},
   "outputs": [
    {
     "data": {
      "text/plain": [
       "PassengerId\n",
       "1044   NaN\n",
       "Name: Fare, dtype: float64"
      ]
     },
     "execution_count": 48,
     "metadata": {},
     "output_type": "execute_result"
    }
   ],
   "source": [
    "test_data['Fare'][test_data['Fare'].isna()]"
   ]
  },
  {
   "cell_type": "markdown",
   "metadata": {},
   "source": [
    "Temos apenas 1 passageiro cuja passagem não está documentada: passageiro 1044. Vejamos..."
   ]
  },
  {
   "cell_type": "code",
   "execution_count": 49,
   "metadata": {},
   "outputs": [
    {
     "data": {
      "text/html": [
       "<div>\n",
       "<style scoped>\n",
       "    .dataframe tbody tr th:only-of-type {\n",
       "        vertical-align: middle;\n",
       "    }\n",
       "\n",
       "    .dataframe tbody tr th {\n",
       "        vertical-align: top;\n",
       "    }\n",
       "\n",
       "    .dataframe thead th {\n",
       "        text-align: right;\n",
       "    }\n",
       "</style>\n",
       "<table border=\"1\" class=\"dataframe\">\n",
       "  <thead>\n",
       "    <tr style=\"text-align: right;\">\n",
       "      <th></th>\n",
       "      <th>Pclass</th>\n",
       "      <th>Name</th>\n",
       "      <th>Sex</th>\n",
       "      <th>Age</th>\n",
       "      <th>SibSp</th>\n",
       "      <th>Parch</th>\n",
       "      <th>Ticket</th>\n",
       "      <th>Fare</th>\n",
       "      <th>Cabin</th>\n",
       "      <th>Embarked</th>\n",
       "    </tr>\n",
       "    <tr>\n",
       "      <th>PassengerId</th>\n",
       "      <th></th>\n",
       "      <th></th>\n",
       "      <th></th>\n",
       "      <th></th>\n",
       "      <th></th>\n",
       "      <th></th>\n",
       "      <th></th>\n",
       "      <th></th>\n",
       "      <th></th>\n",
       "      <th></th>\n",
       "    </tr>\n",
       "  </thead>\n",
       "  <tbody>\n",
       "    <tr>\n",
       "      <th>1044</th>\n",
       "      <td>3</td>\n",
       "      <td>Storey, Mr. Thomas</td>\n",
       "      <td>male</td>\n",
       "      <td>27.05</td>\n",
       "      <td>0</td>\n",
       "      <td>0</td>\n",
       "      <td>3701</td>\n",
       "      <td>NaN</td>\n",
       "      <td>M</td>\n",
       "      <td>S</td>\n",
       "    </tr>\n",
       "  </tbody>\n",
       "</table>\n",
       "</div>"
      ],
      "text/plain": [
       "             Pclass                Name   Sex    Age  SibSp  Parch Ticket  \\\n",
       "PassengerId                                                                 \n",
       "1044              3  Storey, Mr. Thomas  male  27.05      0      0   3701   \n",
       "\n",
       "             Fare Cabin Embarked  \n",
       "PassengerId                       \n",
       "1044          NaN     M        S  "
      ]
     },
     "execution_count": 49,
     "metadata": {},
     "output_type": "execute_result"
    }
   ],
   "source": [
    "test_data.loc[[1044]]"
   ]
  },
  {
   "cell_type": "markdown",
   "metadata": {},
   "source": [
    "Bom, temos informações a respeito de sua classe, seu sexo, sua idade e onde ele embarcou. Vamos ver os dados e tentar achar a melhor solução para seu Fare."
   ]
  },
  {
   "cell_type": "code",
   "execution_count": 50,
   "metadata": {},
   "outputs": [
    {
     "data": {
      "image/png": "[encoded data removed]",
      "text/plain": [
       "<Figure size 864x504 with 1 Axes>"
      ]
     },
     "metadata": {},
     "output_type": "display_data"
    }
   ],
   "source": [
    "fig, ax = plt.subplots(1, 1, figsize=(12,7))\n",
    "sns.kdeplot(test_data['Fare'][(test_data['Sex'] == 'male') & (test_data['Pclass'] == 3)], label='Male / Class 3 / Age > 30', shade=True, ax=ax)\n",
    "#ax.set_xticks(np.arange(-40,100,10))\n",
    "#ax.set_xlim(-40,100)\n",
    "plt.legend()\n",
    "plt.show()"
   ]
  },
  {
   "cell_type": "code",
   "execution_count": 51,
   "metadata": {},
   "outputs": [
    {
     "data": {
      "text/html": [
       "<div>\n",
       "<style scoped>\n",
       "    .dataframe tbody tr th:only-of-type {\n",
       "        vertical-align: middle;\n",
       "    }\n",
       "\n",
       "    .dataframe tbody tr th {\n",
       "        vertical-align: top;\n",
       "    }\n",
       "\n",
       "    .dataframe thead th {\n",
       "        text-align: right;\n",
       "    }\n",
       "</style>\n",
       "<table border=\"1\" class=\"dataframe\">\n",
       "  <thead>\n",
       "    <tr style=\"text-align: right;\">\n",
       "      <th></th>\n",
       "      <th>Pclass</th>\n",
       "      <th>Name</th>\n",
       "      <th>Sex</th>\n",
       "      <th>Age</th>\n",
       "      <th>SibSp</th>\n",
       "      <th>Parch</th>\n",
       "      <th>Ticket</th>\n",
       "      <th>Fare</th>\n",
       "      <th>Cabin</th>\n",
       "      <th>Embarked</th>\n",
       "    </tr>\n",
       "    <tr>\n",
       "      <th>PassengerId</th>\n",
       "      <th></th>\n",
       "      <th></th>\n",
       "      <th></th>\n",
       "      <th></th>\n",
       "      <th></th>\n",
       "      <th></th>\n",
       "      <th></th>\n",
       "      <th></th>\n",
       "      <th></th>\n",
       "      <th></th>\n",
       "    </tr>\n",
       "  </thead>\n",
       "  <tbody>\n",
       "    <tr>\n",
       "      <th>1152</th>\n",
       "      <td>3</td>\n",
       "      <td>de Messemaeker, Mr. Guillaume Joseph</td>\n",
       "      <td>male</td>\n",
       "      <td>36.5</td>\n",
       "      <td>1</td>\n",
       "      <td>0</td>\n",
       "      <td>345572</td>\n",
       "      <td>17.4</td>\n",
       "      <td>M</td>\n",
       "      <td>S</td>\n",
       "    </tr>\n",
       "  </tbody>\n",
       "</table>\n",
       "</div>"
      ],
      "text/plain": [
       "             Pclass                                  Name   Sex   Age  SibSp  \\\n",
       "PassengerId                                                                    \n",
       "1152              3  de Messemaeker, Mr. Guillaume Joseph  male  36.5      1   \n",
       "\n",
       "             Parch  Ticket  Fare Cabin Embarked  \n",
       "PassengerId                                      \n",
       "1152             0  345572  17.4     M        S  "
      ]
     },
     "execution_count": 51,
     "metadata": {},
     "output_type": "execute_result"
    }
   ],
   "source": [
    "test_data[(test_data['Sex'] == 'male') & (test_data['Pclass'] == 3) & (test_data['Age'] > 35)]"
   ]
  },
  {
   "cell_type": "markdown",
   "metadata": {},
   "source": [
    "Obsevamos que o preço da passagem para 1 única pessoa da classe 3 sem levar parentes ou irmãos / cônjugues é em torno de 7.85.\n",
    "Logo, vamos atribuir este valor a ele e seguir a vida."
   ]
  },
  {
   "cell_type": "code",
   "execution_count": 52,
   "metadata": {},
   "outputs": [],
   "source": [
    "test_data.loc[1044, 'Fare'] = 7.8500"
   ]
  },
  {
   "cell_type": "code",
   "execution_count": 53,
   "metadata": {},
   "outputs": [
    {
     "data": {
      "text/plain": [
       "Pclass    0\n",
       "Age       0\n",
       "SibSp     0\n",
       "Parch     0\n",
       "Fare      0\n",
       "dtype: int64"
      ]
     },
     "execution_count": 53,
     "metadata": {},
     "output_type": "execute_result"
    }
   ],
   "source": [
    "test_data[numerics_columns].isna().sum()"
   ]
  },
  {
   "cell_type": "markdown",
   "metadata": {},
   "source": [
    "Resolvido!"
   ]
  },
  {
   "cell_type": "markdown",
   "metadata": {},
   "source": [
    "# Encoding Categorical Data"
   ]
  },
  {
   "cell_type": "markdown",
   "metadata": {},
   "source": [
    "Vamos ver agora quais features podemos criar a partir dos dados existentes e corretamente preenchidos."
   ]
  },
  {
   "cell_type": "code",
   "execution_count": 74,
   "metadata": {},
   "outputs": [
    {
     "data": {
      "text/html": [
       "<div>\n",
       "<style scoped>\n",
       "    .dataframe tbody tr th:only-of-type {\n",
       "        vertical-align: middle;\n",
       "    }\n",
       "\n",
       "    .dataframe tbody tr th {\n",
       "        vertical-align: top;\n",
       "    }\n",
       "\n",
       "    .dataframe thead th {\n",
       "        text-align: right;\n",
       "    }\n",
       "</style>\n",
       "<table border=\"1\" class=\"dataframe\">\n",
       "  <thead>\n",
       "    <tr style=\"text-align: right;\">\n",
       "      <th></th>\n",
       "      <th>Survived</th>\n",
       "      <th>Pclass</th>\n",
       "      <th>Name</th>\n",
       "      <th>Sex</th>\n",
       "      <th>Age</th>\n",
       "      <th>SibSp</th>\n",
       "      <th>Parch</th>\n",
       "      <th>Ticket</th>\n",
       "      <th>Fare</th>\n",
       "      <th>Cabin</th>\n",
       "      <th>Embarked</th>\n",
       "      <th>Family Size</th>\n",
       "    </tr>\n",
       "    <tr>\n",
       "      <th>PassengerId</th>\n",
       "      <th></th>\n",
       "      <th></th>\n",
       "      <th></th>\n",
       "      <th></th>\n",
       "      <th></th>\n",
       "      <th></th>\n",
       "      <th></th>\n",
       "      <th></th>\n",
       "      <th></th>\n",
       "      <th></th>\n",
       "      <th></th>\n",
       "      <th></th>\n",
       "    </tr>\n",
       "  </thead>\n",
       "  <tbody>\n",
       "    <tr>\n",
       "      <th>1</th>\n",
       "      <td>0</td>\n",
       "      <td>3</td>\n",
       "      <td>Braund, Mr. Owen Harris</td>\n",
       "      <td>male</td>\n",
       "      <td>28.646119</td>\n",
       "      <td>1</td>\n",
       "      <td>0</td>\n",
       "      <td>A/5 21171</td>\n",
       "      <td>7.2500</td>\n",
       "      <td>M</td>\n",
       "      <td>S</td>\n",
       "      <td>1</td>\n",
       "    </tr>\n",
       "    <tr>\n",
       "      <th>2</th>\n",
       "      <td>1</td>\n",
       "      <td>1</td>\n",
       "      <td>Cumings, Mrs. John Bradley (Florence Briggs Th...</td>\n",
       "      <td>female</td>\n",
       "      <td>41.606061</td>\n",
       "      <td>1</td>\n",
       "      <td>0</td>\n",
       "      <td>PC 17599</td>\n",
       "      <td>71.2833</td>\n",
       "      <td>ABC</td>\n",
       "      <td>C</td>\n",
       "      <td>1</td>\n",
       "    </tr>\n",
       "    <tr>\n",
       "      <th>3</th>\n",
       "      <td>1</td>\n",
       "      <td>3</td>\n",
       "      <td>Heikkinen, Miss. Laina</td>\n",
       "      <td>female</td>\n",
       "      <td>16.186567</td>\n",
       "      <td>0</td>\n",
       "      <td>0</td>\n",
       "      <td>STON/O2. 3101282</td>\n",
       "      <td>7.9250</td>\n",
       "      <td>M</td>\n",
       "      <td>S</td>\n",
       "      <td>0</td>\n",
       "    </tr>\n",
       "    <tr>\n",
       "      <th>4</th>\n",
       "      <td>1</td>\n",
       "      <td>1</td>\n",
       "      <td>Futrelle, Mrs. Jacques Heath (Lily May Peel)</td>\n",
       "      <td>female</td>\n",
       "      <td>41.606061</td>\n",
       "      <td>1</td>\n",
       "      <td>0</td>\n",
       "      <td>113803</td>\n",
       "      <td>53.1000</td>\n",
       "      <td>ABC</td>\n",
       "      <td>S</td>\n",
       "      <td>1</td>\n",
       "    </tr>\n",
       "    <tr>\n",
       "      <th>5</th>\n",
       "      <td>0</td>\n",
       "      <td>3</td>\n",
       "      <td>Allen, Mr. William Henry</td>\n",
       "      <td>male</td>\n",
       "      <td>28.646119</td>\n",
       "      <td>0</td>\n",
       "      <td>0</td>\n",
       "      <td>373450</td>\n",
       "      <td>8.0500</td>\n",
       "      <td>M</td>\n",
       "      <td>S</td>\n",
       "      <td>0</td>\n",
       "    </tr>\n",
       "  </tbody>\n",
       "</table>\n",
       "</div>"
      ],
      "text/plain": [
       "             Survived  Pclass  \\\n",
       "PassengerId                     \n",
       "1                   0       3   \n",
       "2                   1       1   \n",
       "3                   1       3   \n",
       "4                   1       1   \n",
       "5                   0       3   \n",
       "\n",
       "                                                          Name     Sex  \\\n",
       "PassengerId                                                              \n",
       "1                                      Braund, Mr. Owen Harris    male   \n",
       "2            Cumings, Mrs. John Bradley (Florence Briggs Th...  female   \n",
       "3                                       Heikkinen, Miss. Laina  female   \n",
       "4                 Futrelle, Mrs. Jacques Heath (Lily May Peel)  female   \n",
       "5                                     Allen, Mr. William Henry    male   \n",
       "\n",
       "                   Age  SibSp  Parch            Ticket     Fare Cabin  \\\n",
       "PassengerId                                                             \n",
       "1            28.646119      1      0         A/5 21171   7.2500     M   \n",
       "2            41.606061      1      0          PC 17599  71.2833   ABC   \n",
       "3            16.186567      0      0  STON/O2. 3101282   7.9250     M   \n",
       "4            41.606061      1      0            113803  53.1000   ABC   \n",
       "5            28.646119      0      0            373450   8.0500     M   \n",
       "\n",
       "            Embarked Family Size  \n",
       "PassengerId                       \n",
       "1                  S           1  \n",
       "2                  C           1  \n",
       "3                  S           0  \n",
       "4                  S           1  \n",
       "5                  S           0  "
      ]
     },
     "execution_count": 74,
     "metadata": {},
     "output_type": "execute_result"
    }
   ],
   "source": [
    "train_data.head()"
   ]
  },
  {
   "cell_type": "markdown",
   "metadata": {},
   "source": [
    "Podemos criar uma variável categórica a partir de uma variável numérica, no caso, as colunas 'SibSp' e 'Parch'. A união delas será uma variável Family Size. Vamos fazer isso e ver essa relação com a sobrevivência."
   ]
  },
  {
   "cell_type": "code",
   "execution_count": 75,
   "metadata": {},
   "outputs": [
    {
     "data": {
      "text/plain": [
       "<matplotlib.axes._subplots.AxesSubplot at 0x21653ce7a08>"
      ]
     },
     "execution_count": 75,
     "metadata": {},
     "output_type": "execute_result"
    },
    {
     "data": {
      "image/png": "[encoded data removed]",
      "text/plain": [
       "<Figure size 864x504 with 1 Axes>"
      ]
     },
     "metadata": {},
     "output_type": "display_data"
    }
   ],
   "source": [
    "train_data['Family Size'] = train_data['SibSp'] + train_data['Parch']\n",
    "test_data['Family Size'] = test_data['SibSp'] + test_data['Parch']\n",
    "\n",
    "plt.figure(figsize=(12,7))\n",
    "sns.barplot(x=train_data['Family Size'], y=train_data['Survived'])"
   ]
  },
  {
   "cell_type": "markdown",
   "metadata": {},
   "source": [
    "Temos que a taxa de sobrevivência tem uma relação com o tamanho da família. Vamos agrupar da seguinte forma:\n",
    "- Tamanho 0 : Alone\n",
    "- Tamanho 1, 2 e 3 : Small\n",
    "- Tamanho 4 e 5 : Medium\n",
    "- Tamanho maior em diante : Large\n",
    "\n",
    "Uma divisão assim fica melhor, considerando que podem ter famílias no dataset de teste de tamanhos diferentes."
   ]
  },
  {
   "cell_type": "code",
   "execution_count": 76,
   "metadata": {},
   "outputs": [
    {
     "data": {
      "text/html": [
       "<div>\n",
       "<style scoped>\n",
       "    .dataframe tbody tr th:only-of-type {\n",
       "        vertical-align: middle;\n",
       "    }\n",
       "\n",
       "    .dataframe tbody tr th {\n",
       "        vertical-align: top;\n",
       "    }\n",
       "\n",
       "    .dataframe thead th {\n",
       "        text-align: right;\n",
       "    }\n",
       "</style>\n",
       "<table border=\"1\" class=\"dataframe\">\n",
       "  <thead>\n",
       "    <tr style=\"text-align: right;\">\n",
       "      <th></th>\n",
       "      <th>Survived</th>\n",
       "      <th>Pclass</th>\n",
       "      <th>Name</th>\n",
       "      <th>Sex</th>\n",
       "      <th>Age</th>\n",
       "      <th>SibSp</th>\n",
       "      <th>Parch</th>\n",
       "      <th>Ticket</th>\n",
       "      <th>Fare</th>\n",
       "      <th>Cabin</th>\n",
       "      <th>Embarked</th>\n",
       "      <th>Family Size</th>\n",
       "    </tr>\n",
       "    <tr>\n",
       "      <th>PassengerId</th>\n",
       "      <th></th>\n",
       "      <th></th>\n",
       "      <th></th>\n",
       "      <th></th>\n",
       "      <th></th>\n",
       "      <th></th>\n",
       "      <th></th>\n",
       "      <th></th>\n",
       "      <th></th>\n",
       "      <th></th>\n",
       "      <th></th>\n",
       "      <th></th>\n",
       "    </tr>\n",
       "  </thead>\n",
       "  <tbody>\n",
       "    <tr>\n",
       "      <th>1</th>\n",
       "      <td>0</td>\n",
       "      <td>3</td>\n",
       "      <td>Braund, Mr. Owen Harris</td>\n",
       "      <td>male</td>\n",
       "      <td>28.646119</td>\n",
       "      <td>1</td>\n",
       "      <td>0</td>\n",
       "      <td>A/5 21171</td>\n",
       "      <td>7.2500</td>\n",
       "      <td>M</td>\n",
       "      <td>S</td>\n",
       "      <td>Small</td>\n",
       "    </tr>\n",
       "    <tr>\n",
       "      <th>2</th>\n",
       "      <td>1</td>\n",
       "      <td>1</td>\n",
       "      <td>Cumings, Mrs. John Bradley (Florence Briggs Th...</td>\n",
       "      <td>female</td>\n",
       "      <td>41.606061</td>\n",
       "      <td>1</td>\n",
       "      <td>0</td>\n",
       "      <td>PC 17599</td>\n",
       "      <td>71.2833</td>\n",
       "      <td>ABC</td>\n",
       "      <td>C</td>\n",
       "      <td>Small</td>\n",
       "    </tr>\n",
       "    <tr>\n",
       "      <th>3</th>\n",
       "      <td>1</td>\n",
       "      <td>3</td>\n",
       "      <td>Heikkinen, Miss. Laina</td>\n",
       "      <td>female</td>\n",
       "      <td>16.186567</td>\n",
       "      <td>0</td>\n",
       "      <td>0</td>\n",
       "      <td>STON/O2. 3101282</td>\n",
       "      <td>7.9250</td>\n",
       "      <td>M</td>\n",
       "      <td>S</td>\n",
       "      <td>Alone</td>\n",
       "    </tr>\n",
       "    <tr>\n",
       "      <th>4</th>\n",
       "      <td>1</td>\n",
       "      <td>1</td>\n",
       "      <td>Futrelle, Mrs. Jacques Heath (Lily May Peel)</td>\n",
       "      <td>female</td>\n",
       "      <td>41.606061</td>\n",
       "      <td>1</td>\n",
       "      <td>0</td>\n",
       "      <td>113803</td>\n",
       "      <td>53.1000</td>\n",
       "      <td>ABC</td>\n",
       "      <td>S</td>\n",
       "      <td>Small</td>\n",
       "    </tr>\n",
       "    <tr>\n",
       "      <th>5</th>\n",
       "      <td>0</td>\n",
       "      <td>3</td>\n",
       "      <td>Allen, Mr. William Henry</td>\n",
       "      <td>male</td>\n",
       "      <td>28.646119</td>\n",
       "      <td>0</td>\n",
       "      <td>0</td>\n",
       "      <td>373450</td>\n",
       "      <td>8.0500</td>\n",
       "      <td>M</td>\n",
       "      <td>S</td>\n",
       "      <td>Alone</td>\n",
       "    </tr>\n",
       "  </tbody>\n",
       "</table>\n",
       "</div>"
      ],
      "text/plain": [
       "             Survived  Pclass  \\\n",
       "PassengerId                     \n",
       "1                   0       3   \n",
       "2                   1       1   \n",
       "3                   1       3   \n",
       "4                   1       1   \n",
       "5                   0       3   \n",
       "\n",
       "                                                          Name     Sex  \\\n",
       "PassengerId                                                              \n",
       "1                                      Braund, Mr. Owen Harris    male   \n",
       "2            Cumings, Mrs. John Bradley (Florence Briggs Th...  female   \n",
       "3                                       Heikkinen, Miss. Laina  female   \n",
       "4                 Futrelle, Mrs. Jacques Heath (Lily May Peel)  female   \n",
       "5                                     Allen, Mr. William Henry    male   \n",
       "\n",
       "                   Age  SibSp  Parch            Ticket     Fare Cabin  \\\n",
       "PassengerId                                                             \n",
       "1            28.646119      1      0         A/5 21171   7.2500     M   \n",
       "2            41.606061      1      0          PC 17599  71.2833   ABC   \n",
       "3            16.186567      0      0  STON/O2. 3101282   7.9250     M   \n",
       "4            41.606061      1      0            113803  53.1000   ABC   \n",
       "5            28.646119      0      0            373450   8.0500     M   \n",
       "\n",
       "            Embarked Family Size  \n",
       "PassengerId                       \n",
       "1                  S       Small  \n",
       "2                  C       Small  \n",
       "3                  S       Alone  \n",
       "4                  S       Small  \n",
       "5                  S       Alone  "
      ]
     },
     "execution_count": 76,
     "metadata": {},
     "output_type": "execute_result"
    }
   ],
   "source": [
    "train_data.loc[(train_data['Family Size'] > 5), 'Family Size'] = 'Large'\n",
    "train_data['Family Size'] = train_data['Family Size'].replace([0], 'Alone')\n",
    "train_data['Family Size'] = train_data['Family Size'].replace([1, 2, 3], 'Small')\n",
    "train_data['Family Size'] = train_data['Family Size'].replace([4, 5], 'Medium')\n",
    "\n",
    "test_data.loc[(test_data['Family Size'] > 5), 'Family Size'] = 'Large'\n",
    "test_data['Family Size'] = test_data['Family Size'].replace([0], 'Alone')\n",
    "test_data['Family Size'] = test_data['Family Size'].replace([1, 2, 3], 'Small')\n",
    "test_data['Family Size'] = test_data['Family Size'].replace([4, 5], 'Medium')\n",
    "\n",
    "train_data.head()"
   ]
  },
  {
   "cell_type": "markdown",
   "metadata": {},
   "source": [
    "Feito!\n",
    "\n",
    "A coluna de Tickets pode nos dar uma informação importante também, relativo à sua frequência. Vamos filtrar melhor pelo tamaho dos agrupamentos de Tickets."
   ]
  },
  {
   "cell_type": "code",
   "execution_count": 88,
   "metadata": {},
   "outputs": [
    {
     "data": {
      "text/html": [
       "<div>\n",
       "<style scoped>\n",
       "    .dataframe tbody tr th:only-of-type {\n",
       "        vertical-align: middle;\n",
       "    }\n",
       "\n",
       "    .dataframe tbody tr th {\n",
       "        vertical-align: top;\n",
       "    }\n",
       "\n",
       "    .dataframe thead th {\n",
       "        text-align: right;\n",
       "    }\n",
       "</style>\n",
       "<table border=\"1\" class=\"dataframe\">\n",
       "  <thead>\n",
       "    <tr style=\"text-align: right;\">\n",
       "      <th></th>\n",
       "      <th>Survived</th>\n",
       "      <th>Pclass</th>\n",
       "      <th>Name</th>\n",
       "      <th>Sex</th>\n",
       "      <th>Age</th>\n",
       "      <th>SibSp</th>\n",
       "      <th>Parch</th>\n",
       "      <th>Ticket</th>\n",
       "      <th>Fare</th>\n",
       "      <th>Cabin</th>\n",
       "      <th>Embarked</th>\n",
       "      <th>Family Size</th>\n",
       "      <th>Ticket Frequency</th>\n",
       "    </tr>\n",
       "    <tr>\n",
       "      <th>PassengerId</th>\n",
       "      <th></th>\n",
       "      <th></th>\n",
       "      <th></th>\n",
       "      <th></th>\n",
       "      <th></th>\n",
       "      <th></th>\n",
       "      <th></th>\n",
       "      <th></th>\n",
       "      <th></th>\n",
       "      <th></th>\n",
       "      <th></th>\n",
       "      <th></th>\n",
       "      <th></th>\n",
       "    </tr>\n",
       "  </thead>\n",
       "  <tbody>\n",
       "    <tr>\n",
       "      <th>1</th>\n",
       "      <td>0</td>\n",
       "      <td>3</td>\n",
       "      <td>Braund, Mr. Owen Harris</td>\n",
       "      <td>male</td>\n",
       "      <td>28.646119</td>\n",
       "      <td>1</td>\n",
       "      <td>0</td>\n",
       "      <td>A/5 21171</td>\n",
       "      <td>7.2500</td>\n",
       "      <td>M</td>\n",
       "      <td>S</td>\n",
       "      <td>Small</td>\n",
       "      <td>1</td>\n",
       "    </tr>\n",
       "    <tr>\n",
       "      <th>2</th>\n",
       "      <td>1</td>\n",
       "      <td>1</td>\n",
       "      <td>Cumings, Mrs. John Bradley (Florence Briggs Th...</td>\n",
       "      <td>female</td>\n",
       "      <td>41.606061</td>\n",
       "      <td>1</td>\n",
       "      <td>0</td>\n",
       "      <td>PC 17599</td>\n",
       "      <td>71.2833</td>\n",
       "      <td>ABC</td>\n",
       "      <td>C</td>\n",
       "      <td>Small</td>\n",
       "      <td>1</td>\n",
       "    </tr>\n",
       "    <tr>\n",
       "      <th>3</th>\n",
       "      <td>1</td>\n",
       "      <td>3</td>\n",
       "      <td>Heikkinen, Miss. Laina</td>\n",
       "      <td>female</td>\n",
       "      <td>16.186567</td>\n",
       "      <td>0</td>\n",
       "      <td>0</td>\n",
       "      <td>STON/O2. 3101282</td>\n",
       "      <td>7.9250</td>\n",
       "      <td>M</td>\n",
       "      <td>S</td>\n",
       "      <td>Alone</td>\n",
       "      <td>1</td>\n",
       "    </tr>\n",
       "    <tr>\n",
       "      <th>4</th>\n",
       "      <td>1</td>\n",
       "      <td>1</td>\n",
       "      <td>Futrelle, Mrs. Jacques Heath (Lily May Peel)</td>\n",
       "      <td>female</td>\n",
       "      <td>41.606061</td>\n",
       "      <td>1</td>\n",
       "      <td>0</td>\n",
       "      <td>113803</td>\n",
       "      <td>53.1000</td>\n",
       "      <td>ABC</td>\n",
       "      <td>S</td>\n",
       "      <td>Small</td>\n",
       "      <td>2</td>\n",
       "    </tr>\n",
       "    <tr>\n",
       "      <th>5</th>\n",
       "      <td>0</td>\n",
       "      <td>3</td>\n",
       "      <td>Allen, Mr. William Henry</td>\n",
       "      <td>male</td>\n",
       "      <td>28.646119</td>\n",
       "      <td>0</td>\n",
       "      <td>0</td>\n",
       "      <td>373450</td>\n",
       "      <td>8.0500</td>\n",
       "      <td>M</td>\n",
       "      <td>S</td>\n",
       "      <td>Alone</td>\n",
       "      <td>1</td>\n",
       "    </tr>\n",
       "  </tbody>\n",
       "</table>\n",
       "</div>"
      ],
      "text/plain": [
       "             Survived  Pclass  \\\n",
       "PassengerId                     \n",
       "1                   0       3   \n",
       "2                   1       1   \n",
       "3                   1       3   \n",
       "4                   1       1   \n",
       "5                   0       3   \n",
       "\n",
       "                                                          Name     Sex  \\\n",
       "PassengerId                                                              \n",
       "1                                      Braund, Mr. Owen Harris    male   \n",
       "2            Cumings, Mrs. John Bradley (Florence Briggs Th...  female   \n",
       "3                                       Heikkinen, Miss. Laina  female   \n",
       "4                 Futrelle, Mrs. Jacques Heath (Lily May Peel)  female   \n",
       "5                                     Allen, Mr. William Henry    male   \n",
       "\n",
       "                   Age  SibSp  Parch            Ticket     Fare Cabin  \\\n",
       "PassengerId                                                             \n",
       "1            28.646119      1      0         A/5 21171   7.2500     M   \n",
       "2            41.606061      1      0          PC 17599  71.2833   ABC   \n",
       "3            16.186567      0      0  STON/O2. 3101282   7.9250     M   \n",
       "4            41.606061      1      0            113803  53.1000   ABC   \n",
       "5            28.646119      0      0            373450   8.0500     M   \n",
       "\n",
       "            Embarked Family Size  Ticket Frequency  \n",
       "PassengerId                                         \n",
       "1                  S       Small                 1  \n",
       "2                  C       Small                 1  \n",
       "3                  S       Alone                 1  \n",
       "4                  S       Small                 2  \n",
       "5                  S       Alone                 1  "
      ]
     },
     "execution_count": 88,
     "metadata": {},
     "output_type": "execute_result"
    }
   ],
   "source": [
    "from category_encoders import CountEncoder\n",
    "\n",
    "c_encoder = CountEncoder()\n",
    "\n",
    "train_data['Ticket Frequency'] = c_encoder.fit_transform(train_data['Ticket'])\n",
    "test_data['Ticket Frequency'] = c_encoder.fit_transform(test_data['Ticket'])\n",
    "\n",
    "train_data.head()"
   ]
  },
  {
   "cell_type": "markdown",
   "metadata": {},
   "source": [
    "Agora vamos ver a distribuição de sobrevivência por frequência do Ticket."
   ]
  },
  {
   "cell_type": "code",
   "execution_count": 90,
   "metadata": {},
   "outputs": [
    {
     "data": {
      "text/plain": [
       "<matplotlib.axes._subplots.AxesSubplot at 0x21659826bc8>"
      ]
     },
     "execution_count": 90,
     "metadata": {},
     "output_type": "execute_result"
    },
    {
     "data": {
      "image/png": "[encoded data removed]",
      "text/plain": [
       "<Figure size 864x504 with 1 Axes>"
      ]
     },
     "metadata": {},
     "output_type": "display_data"
    }
   ],
   "source": [
    "plt.figure(figsize=(12,7))\n",
    "sns.countplot(x=train_data['Ticket Frequency'], hue=train_data['Survived'])"
   ]
  },
  {
   "cell_type": "markdown",
   "metadata": {},
   "source": [
    "Vemos que a frequência do ticket é um fator relevante para a predição de sobrevivência.\n",
    "\n",
    "- Frequência única do Ticket teve um numero absoluto de mortes bem mais alto do que de sobrevivência.\n",
    "- Frequência dupla já tem um número maior de sobrevivência.\n",
    "- Frequência tripla tem o maior relativo.\n",
    "- A partir de 5 as coisas não são mais tão boas.\n",
    "\n",
    "Embora o padrão seja similar, há algumas diferenças, diferenças essas decorrentes do fato de que os grupos de viagem não constituíam apenas membros de família. Poderiam ser amigos, conhecidos, funcionários das famílias, etc."
   ]
  },
  {
   "cell_type": "markdown",
   "metadata": {},
   "source": [
    "Vamos agora retirar as colunas de não interesse e deixar apenas o necessário para os One Hot Encoding."
   ]
  },
  {
   "cell_type": "code",
   "execution_count": 91,
   "metadata": {},
   "outputs": [
    {
     "data": {
      "text/html": [
       "<div>\n",
       "<style scoped>\n",
       "    .dataframe tbody tr th:only-of-type {\n",
       "        vertical-align: middle;\n",
       "    }\n",
       "\n",
       "    .dataframe tbody tr th {\n",
       "        vertical-align: top;\n",
       "    }\n",
       "\n",
       "    .dataframe thead th {\n",
       "        text-align: right;\n",
       "    }\n",
       "</style>\n",
       "<table border=\"1\" class=\"dataframe\">\n",
       "  <thead>\n",
       "    <tr style=\"text-align: right;\">\n",
       "      <th></th>\n",
       "      <th>Survived</th>\n",
       "      <th>Pclass</th>\n",
       "      <th>Name</th>\n",
       "      <th>Sex</th>\n",
       "      <th>Age</th>\n",
       "      <th>SibSp</th>\n",
       "      <th>Parch</th>\n",
       "      <th>Ticket</th>\n",
       "      <th>Fare</th>\n",
       "      <th>Cabin</th>\n",
       "      <th>Embarked</th>\n",
       "      <th>Family Size</th>\n",
       "      <th>Ticket Frequency</th>\n",
       "    </tr>\n",
       "    <tr>\n",
       "      <th>PassengerId</th>\n",
       "      <th></th>\n",
       "      <th></th>\n",
       "      <th></th>\n",
       "      <th></th>\n",
       "      <th></th>\n",
       "      <th></th>\n",
       "      <th></th>\n",
       "      <th></th>\n",
       "      <th></th>\n",
       "      <th></th>\n",
       "      <th></th>\n",
       "      <th></th>\n",
       "      <th></th>\n",
       "    </tr>\n",
       "  </thead>\n",
       "  <tbody>\n",
       "    <tr>\n",
       "      <th>1</th>\n",
       "      <td>0</td>\n",
       "      <td>3</td>\n",
       "      <td>Braund, Mr. Owen Harris</td>\n",
       "      <td>male</td>\n",
       "      <td>28.646119</td>\n",
       "      <td>1</td>\n",
       "      <td>0</td>\n",
       "      <td>A/5 21171</td>\n",
       "      <td>7.2500</td>\n",
       "      <td>M</td>\n",
       "      <td>S</td>\n",
       "      <td>Small</td>\n",
       "      <td>1</td>\n",
       "    </tr>\n",
       "    <tr>\n",
       "      <th>2</th>\n",
       "      <td>1</td>\n",
       "      <td>1</td>\n",
       "      <td>Cumings, Mrs. John Bradley (Florence Briggs Th...</td>\n",
       "      <td>female</td>\n",
       "      <td>41.606061</td>\n",
       "      <td>1</td>\n",
       "      <td>0</td>\n",
       "      <td>PC 17599</td>\n",
       "      <td>71.2833</td>\n",
       "      <td>ABC</td>\n",
       "      <td>C</td>\n",
       "      <td>Small</td>\n",
       "      <td>1</td>\n",
       "    </tr>\n",
       "    <tr>\n",
       "      <th>3</th>\n",
       "      <td>1</td>\n",
       "      <td>3</td>\n",
       "      <td>Heikkinen, Miss. Laina</td>\n",
       "      <td>female</td>\n",
       "      <td>16.186567</td>\n",
       "      <td>0</td>\n",
       "      <td>0</td>\n",
       "      <td>STON/O2. 3101282</td>\n",
       "      <td>7.9250</td>\n",
       "      <td>M</td>\n",
       "      <td>S</td>\n",
       "      <td>Alone</td>\n",
       "      <td>1</td>\n",
       "    </tr>\n",
       "    <tr>\n",
       "      <th>4</th>\n",
       "      <td>1</td>\n",
       "      <td>1</td>\n",
       "      <td>Futrelle, Mrs. Jacques Heath (Lily May Peel)</td>\n",
       "      <td>female</td>\n",
       "      <td>41.606061</td>\n",
       "      <td>1</td>\n",
       "      <td>0</td>\n",
       "      <td>113803</td>\n",
       "      <td>53.1000</td>\n",
       "      <td>ABC</td>\n",
       "      <td>S</td>\n",
       "      <td>Small</td>\n",
       "      <td>2</td>\n",
       "    </tr>\n",
       "    <tr>\n",
       "      <th>5</th>\n",
       "      <td>0</td>\n",
       "      <td>3</td>\n",
       "      <td>Allen, Mr. William Henry</td>\n",
       "      <td>male</td>\n",
       "      <td>28.646119</td>\n",
       "      <td>0</td>\n",
       "      <td>0</td>\n",
       "      <td>373450</td>\n",
       "      <td>8.0500</td>\n",
       "      <td>M</td>\n",
       "      <td>S</td>\n",
       "      <td>Alone</td>\n",
       "      <td>1</td>\n",
       "    </tr>\n",
       "  </tbody>\n",
       "</table>\n",
       "</div>"
      ],
      "text/plain": [
       "             Survived  Pclass  \\\n",
       "PassengerId                     \n",
       "1                   0       3   \n",
       "2                   1       1   \n",
       "3                   1       3   \n",
       "4                   1       1   \n",
       "5                   0       3   \n",
       "\n",
       "                                                          Name     Sex  \\\n",
       "PassengerId                                                              \n",
       "1                                      Braund, Mr. Owen Harris    male   \n",
       "2            Cumings, Mrs. John Bradley (Florence Briggs Th...  female   \n",
       "3                                       Heikkinen, Miss. Laina  female   \n",
       "4                 Futrelle, Mrs. Jacques Heath (Lily May Peel)  female   \n",
       "5                                     Allen, Mr. William Henry    male   \n",
       "\n",
       "                   Age  SibSp  Parch            Ticket     Fare Cabin  \\\n",
       "PassengerId                                                             \n",
       "1            28.646119      1      0         A/5 21171   7.2500     M   \n",
       "2            41.606061      1      0          PC 17599  71.2833   ABC   \n",
       "3            16.186567      0      0  STON/O2. 3101282   7.9250     M   \n",
       "4            41.606061      1      0            113803  53.1000   ABC   \n",
       "5            28.646119      0      0            373450   8.0500     M   \n",
       "\n",
       "            Embarked Family Size  Ticket Frequency  \n",
       "PassengerId                                         \n",
       "1                  S       Small                 1  \n",
       "2                  C       Small                 1  \n",
       "3                  S       Alone                 1  \n",
       "4                  S       Small                 2  \n",
       "5                  S       Alone                 1  "
      ]
     },
     "execution_count": 91,
     "metadata": {},
     "output_type": "execute_result"
    }
   ],
   "source": [
    "train_data.head()"
   ]
  },
  {
   "cell_type": "code",
   "execution_count": 93,
   "metadata": {},
   "outputs": [
    {
     "data": {
      "text/html": [
       "<div>\n",
       "<style scoped>\n",
       "    .dataframe tbody tr th:only-of-type {\n",
       "        vertical-align: middle;\n",
       "    }\n",
       "\n",
       "    .dataframe tbody tr th {\n",
       "        vertical-align: top;\n",
       "    }\n",
       "\n",
       "    .dataframe thead th {\n",
       "        text-align: right;\n",
       "    }\n",
       "</style>\n",
       "<table border=\"1\" class=\"dataframe\">\n",
       "  <thead>\n",
       "    <tr style=\"text-align: right;\">\n",
       "      <th></th>\n",
       "      <th>Pclass</th>\n",
       "      <th>Sex</th>\n",
       "      <th>Age</th>\n",
       "      <th>Fare</th>\n",
       "      <th>Cabin</th>\n",
       "      <th>Embarked</th>\n",
       "      <th>Family Size</th>\n",
       "      <th>Ticket Frequency</th>\n",
       "    </tr>\n",
       "    <tr>\n",
       "      <th>PassengerId</th>\n",
       "      <th></th>\n",
       "      <th></th>\n",
       "      <th></th>\n",
       "      <th></th>\n",
       "      <th></th>\n",
       "      <th></th>\n",
       "      <th></th>\n",
       "      <th></th>\n",
       "    </tr>\n",
       "  </thead>\n",
       "  <tbody>\n",
       "    <tr>\n",
       "      <th>1</th>\n",
       "      <td>3</td>\n",
       "      <td>male</td>\n",
       "      <td>28.646119</td>\n",
       "      <td>7.2500</td>\n",
       "      <td>M</td>\n",
       "      <td>S</td>\n",
       "      <td>Small</td>\n",
       "      <td>1</td>\n",
       "    </tr>\n",
       "    <tr>\n",
       "      <th>2</th>\n",
       "      <td>1</td>\n",
       "      <td>female</td>\n",
       "      <td>41.606061</td>\n",
       "      <td>71.2833</td>\n",
       "      <td>ABC</td>\n",
       "      <td>C</td>\n",
       "      <td>Small</td>\n",
       "      <td>1</td>\n",
       "    </tr>\n",
       "    <tr>\n",
       "      <th>3</th>\n",
       "      <td>3</td>\n",
       "      <td>female</td>\n",
       "      <td>16.186567</td>\n",
       "      <td>7.9250</td>\n",
       "      <td>M</td>\n",
       "      <td>S</td>\n",
       "      <td>Alone</td>\n",
       "      <td>1</td>\n",
       "    </tr>\n",
       "    <tr>\n",
       "      <th>4</th>\n",
       "      <td>1</td>\n",
       "      <td>female</td>\n",
       "      <td>41.606061</td>\n",
       "      <td>53.1000</td>\n",
       "      <td>ABC</td>\n",
       "      <td>S</td>\n",
       "      <td>Small</td>\n",
       "      <td>2</td>\n",
       "    </tr>\n",
       "    <tr>\n",
       "      <th>5</th>\n",
       "      <td>3</td>\n",
       "      <td>male</td>\n",
       "      <td>28.646119</td>\n",
       "      <td>8.0500</td>\n",
       "      <td>M</td>\n",
       "      <td>S</td>\n",
       "      <td>Alone</td>\n",
       "      <td>1</td>\n",
       "    </tr>\n",
       "  </tbody>\n",
       "</table>\n",
       "</div>"
      ],
      "text/plain": [
       "             Pclass     Sex        Age     Fare Cabin Embarked Family Size  \\\n",
       "PassengerId                                                                  \n",
       "1                 3    male  28.646119   7.2500     M        S       Small   \n",
       "2                 1  female  41.606061  71.2833   ABC        C       Small   \n",
       "3                 3  female  16.186567   7.9250     M        S       Alone   \n",
       "4                 1  female  41.606061  53.1000   ABC        S       Small   \n",
       "5                 3    male  28.646119   8.0500     M        S       Alone   \n",
       "\n",
       "             Ticket Frequency  \n",
       "PassengerId                    \n",
       "1                           1  \n",
       "2                           1  \n",
       "3                           1  \n",
       "4                           2  \n",
       "5                           1  "
      ]
     },
     "execution_count": 93,
     "metadata": {},
     "output_type": "execute_result"
    }
   ],
   "source": [
    "all_X_c = train_data.drop(['Survived'], axis=1).append(test_data).copy()\n",
    "all_X_c.drop(['Name',\n",
    "              'Ticket', \n",
    "              'SibSp', \n",
    "              'Parch'\n",
    "             ], axis=1, inplace=True)\n",
    "all_X_c.head()"
   ]
  },
  {
   "cell_type": "code",
   "execution_count": 206,
   "metadata": {},
   "outputs": [
    {
     "data": {
      "text/html": [
       "<div>\n",
       "<style scoped>\n",
       "    .dataframe tbody tr th:only-of-type {\n",
       "        vertical-align: middle;\n",
       "    }\n",
       "\n",
       "    .dataframe tbody tr th {\n",
       "        vertical-align: top;\n",
       "    }\n",
       "\n",
       "    .dataframe thead th {\n",
       "        text-align: right;\n",
       "    }\n",
       "</style>\n",
       "<table border=\"1\" class=\"dataframe\">\n",
       "  <thead>\n",
       "    <tr style=\"text-align: right;\">\n",
       "      <th></th>\n",
       "      <th>Pclass</th>\n",
       "      <th>Age</th>\n",
       "      <th>Fare</th>\n",
       "      <th>Ticket Frequency</th>\n",
       "      <th>Sex_female</th>\n",
       "      <th>Sex_male</th>\n",
       "      <th>Cabin_ABC</th>\n",
       "      <th>Cabin_DE</th>\n",
       "      <th>Cabin_FG</th>\n",
       "      <th>Cabin_M</th>\n",
       "      <th>Embarked_C</th>\n",
       "      <th>Embarked_Q</th>\n",
       "      <th>Embarked_S</th>\n",
       "      <th>Family Size_Alone</th>\n",
       "      <th>Family Size_Large</th>\n",
       "      <th>Family Size_Medium</th>\n",
       "      <th>Family Size_Small</th>\n",
       "    </tr>\n",
       "    <tr>\n",
       "      <th>PassengerId</th>\n",
       "      <th></th>\n",
       "      <th></th>\n",
       "      <th></th>\n",
       "      <th></th>\n",
       "      <th></th>\n",
       "      <th></th>\n",
       "      <th></th>\n",
       "      <th></th>\n",
       "      <th></th>\n",
       "      <th></th>\n",
       "      <th></th>\n",
       "      <th></th>\n",
       "      <th></th>\n",
       "      <th></th>\n",
       "      <th></th>\n",
       "      <th></th>\n",
       "      <th></th>\n",
       "    </tr>\n",
       "  </thead>\n",
       "  <tbody>\n",
       "    <tr>\n",
       "      <th>1</th>\n",
       "      <td>3</td>\n",
       "      <td>28.646119</td>\n",
       "      <td>7.2500</td>\n",
       "      <td>1</td>\n",
       "      <td>0</td>\n",
       "      <td>1</td>\n",
       "      <td>0</td>\n",
       "      <td>0</td>\n",
       "      <td>0</td>\n",
       "      <td>1</td>\n",
       "      <td>0</td>\n",
       "      <td>0</td>\n",
       "      <td>1</td>\n",
       "      <td>0</td>\n",
       "      <td>0</td>\n",
       "      <td>0</td>\n",
       "      <td>1</td>\n",
       "    </tr>\n",
       "    <tr>\n",
       "      <th>2</th>\n",
       "      <td>1</td>\n",
       "      <td>41.606061</td>\n",
       "      <td>71.2833</td>\n",
       "      <td>1</td>\n",
       "      <td>1</td>\n",
       "      <td>0</td>\n",
       "      <td>1</td>\n",
       "      <td>0</td>\n",
       "      <td>0</td>\n",
       "      <td>0</td>\n",
       "      <td>1</td>\n",
       "      <td>0</td>\n",
       "      <td>0</td>\n",
       "      <td>0</td>\n",
       "      <td>0</td>\n",
       "      <td>0</td>\n",
       "      <td>1</td>\n",
       "    </tr>\n",
       "    <tr>\n",
       "      <th>3</th>\n",
       "      <td>3</td>\n",
       "      <td>16.186567</td>\n",
       "      <td>7.9250</td>\n",
       "      <td>1</td>\n",
       "      <td>1</td>\n",
       "      <td>0</td>\n",
       "      <td>0</td>\n",
       "      <td>0</td>\n",
       "      <td>0</td>\n",
       "      <td>1</td>\n",
       "      <td>0</td>\n",
       "      <td>0</td>\n",
       "      <td>1</td>\n",
       "      <td>1</td>\n",
       "      <td>0</td>\n",
       "      <td>0</td>\n",
       "      <td>0</td>\n",
       "    </tr>\n",
       "    <tr>\n",
       "      <th>4</th>\n",
       "      <td>1</td>\n",
       "      <td>41.606061</td>\n",
       "      <td>53.1000</td>\n",
       "      <td>2</td>\n",
       "      <td>1</td>\n",
       "      <td>0</td>\n",
       "      <td>1</td>\n",
       "      <td>0</td>\n",
       "      <td>0</td>\n",
       "      <td>0</td>\n",
       "      <td>0</td>\n",
       "      <td>0</td>\n",
       "      <td>1</td>\n",
       "      <td>0</td>\n",
       "      <td>0</td>\n",
       "      <td>0</td>\n",
       "      <td>1</td>\n",
       "    </tr>\n",
       "    <tr>\n",
       "      <th>5</th>\n",
       "      <td>3</td>\n",
       "      <td>28.646119</td>\n",
       "      <td>8.0500</td>\n",
       "      <td>1</td>\n",
       "      <td>0</td>\n",
       "      <td>1</td>\n",
       "      <td>0</td>\n",
       "      <td>0</td>\n",
       "      <td>0</td>\n",
       "      <td>1</td>\n",
       "      <td>0</td>\n",
       "      <td>0</td>\n",
       "      <td>1</td>\n",
       "      <td>1</td>\n",
       "      <td>0</td>\n",
       "      <td>0</td>\n",
       "      <td>0</td>\n",
       "    </tr>\n",
       "  </tbody>\n",
       "</table>\n",
       "</div>"
      ],
      "text/plain": [
       "             Pclass        Age     Fare  Ticket Frequency  Sex_female  \\\n",
       "PassengerId                                                             \n",
       "1                 3  28.646119   7.2500                 1           0   \n",
       "2                 1  41.606061  71.2833                 1           1   \n",
       "3                 3  16.186567   7.9250                 1           1   \n",
       "4                 1  41.606061  53.1000                 2           1   \n",
       "5                 3  28.646119   8.0500                 1           0   \n",
       "\n",
       "             Sex_male  Cabin_ABC  Cabin_DE  Cabin_FG  Cabin_M  Embarked_C  \\\n",
       "PassengerId                                                                 \n",
       "1                   1          0         0         0        1           0   \n",
       "2                   0          1         0         0        0           1   \n",
       "3                   0          0         0         0        1           0   \n",
       "4                   0          1         0         0        0           0   \n",
       "5                   1          0         0         0        1           0   \n",
       "\n",
       "             Embarked_Q  Embarked_S  Family Size_Alone  Family Size_Large  \\\n",
       "PassengerId                                                                 \n",
       "1                     0           1                  0                  0   \n",
       "2                     0           0                  0                  0   \n",
       "3                     0           1                  1                  0   \n",
       "4                     0           1                  0                  0   \n",
       "5                     0           1                  1                  0   \n",
       "\n",
       "             Family Size_Medium  Family Size_Small  \n",
       "PassengerId                                         \n",
       "1                             0                  1  \n",
       "2                             0                  1  \n",
       "3                             0                  0  \n",
       "4                             0                  1  \n",
       "5                             0                  0  "
      ]
     },
     "execution_count": 206,
     "metadata": {},
     "output_type": "execute_result"
    }
   ],
   "source": [
    "all_X = pd.get_dummies(all_X_c, \n",
    "#                       drop_first=True\n",
    "                      )\n",
    "all_X.head()"
   ]
  },
  {
   "cell_type": "code",
   "execution_count": 207,
   "metadata": {},
   "outputs": [
    {
     "data": {
      "text/plain": [
       "(Index(['Pclass', 'Age', 'Fare', 'Ticket Frequency', 'Sex_female', 'Sex_male',\n",
       "        'Cabin_ABC', 'Cabin_DE', 'Cabin_FG', 'Cabin_M', 'Embarked_C',\n",
       "        'Embarked_Q', 'Embarked_S', 'Family Size_Alone', 'Family Size_Large',\n",
       "        'Family Size_Medium', 'Family Size_Small'],\n",
       "       dtype='object'),\n",
       " 17)"
      ]
     },
     "execution_count": 207,
     "metadata": {},
     "output_type": "execute_result"
    }
   ],
   "source": [
    "all_X.columns, len(all_X.columns)"
   ]
  },
  {
   "cell_type": "markdown",
   "metadata": {},
   "source": [
    "X colunas. Esse é a nossa quantidade final de features por hora.\n",
    "\n",
    "Precisamos agora separar novamente o teste e o treinamento."
   ]
  },
  {
   "cell_type": "code",
   "execution_count": 208,
   "metadata": {},
   "outputs": [
    {
     "data": {
      "text/html": [
       "<div>\n",
       "<style scoped>\n",
       "    .dataframe tbody tr th:only-of-type {\n",
       "        vertical-align: middle;\n",
       "    }\n",
       "\n",
       "    .dataframe tbody tr th {\n",
       "        vertical-align: top;\n",
       "    }\n",
       "\n",
       "    .dataframe thead th {\n",
       "        text-align: right;\n",
       "    }\n",
       "</style>\n",
       "<table border=\"1\" class=\"dataframe\">\n",
       "  <thead>\n",
       "    <tr style=\"text-align: right;\">\n",
       "      <th></th>\n",
       "      <th>Pclass</th>\n",
       "      <th>Age</th>\n",
       "      <th>Fare</th>\n",
       "      <th>Ticket Frequency</th>\n",
       "      <th>Sex_female</th>\n",
       "      <th>Sex_male</th>\n",
       "      <th>Cabin_ABC</th>\n",
       "      <th>Cabin_DE</th>\n",
       "      <th>Cabin_FG</th>\n",
       "      <th>Cabin_M</th>\n",
       "      <th>Embarked_C</th>\n",
       "      <th>Embarked_Q</th>\n",
       "      <th>Embarked_S</th>\n",
       "      <th>Family Size_Alone</th>\n",
       "      <th>Family Size_Large</th>\n",
       "      <th>Family Size_Medium</th>\n",
       "      <th>Family Size_Small</th>\n",
       "      <th>Survived</th>\n",
       "    </tr>\n",
       "    <tr>\n",
       "      <th>PassengerId</th>\n",
       "      <th></th>\n",
       "      <th></th>\n",
       "      <th></th>\n",
       "      <th></th>\n",
       "      <th></th>\n",
       "      <th></th>\n",
       "      <th></th>\n",
       "      <th></th>\n",
       "      <th></th>\n",
       "      <th></th>\n",
       "      <th></th>\n",
       "      <th></th>\n",
       "      <th></th>\n",
       "      <th></th>\n",
       "      <th></th>\n",
       "      <th></th>\n",
       "      <th></th>\n",
       "      <th></th>\n",
       "    </tr>\n",
       "  </thead>\n",
       "  <tbody>\n",
       "    <tr>\n",
       "      <th>1</th>\n",
       "      <td>3</td>\n",
       "      <td>28.646119</td>\n",
       "      <td>7.2500</td>\n",
       "      <td>1</td>\n",
       "      <td>0</td>\n",
       "      <td>1</td>\n",
       "      <td>0</td>\n",
       "      <td>0</td>\n",
       "      <td>0</td>\n",
       "      <td>1</td>\n",
       "      <td>0</td>\n",
       "      <td>0</td>\n",
       "      <td>1</td>\n",
       "      <td>0</td>\n",
       "      <td>0</td>\n",
       "      <td>0</td>\n",
       "      <td>1</td>\n",
       "      <td>0</td>\n",
       "    </tr>\n",
       "    <tr>\n",
       "      <th>2</th>\n",
       "      <td>1</td>\n",
       "      <td>41.606061</td>\n",
       "      <td>71.2833</td>\n",
       "      <td>1</td>\n",
       "      <td>1</td>\n",
       "      <td>0</td>\n",
       "      <td>1</td>\n",
       "      <td>0</td>\n",
       "      <td>0</td>\n",
       "      <td>0</td>\n",
       "      <td>1</td>\n",
       "      <td>0</td>\n",
       "      <td>0</td>\n",
       "      <td>0</td>\n",
       "      <td>0</td>\n",
       "      <td>0</td>\n",
       "      <td>1</td>\n",
       "      <td>1</td>\n",
       "    </tr>\n",
       "    <tr>\n",
       "      <th>3</th>\n",
       "      <td>3</td>\n",
       "      <td>16.186567</td>\n",
       "      <td>7.9250</td>\n",
       "      <td>1</td>\n",
       "      <td>1</td>\n",
       "      <td>0</td>\n",
       "      <td>0</td>\n",
       "      <td>0</td>\n",
       "      <td>0</td>\n",
       "      <td>1</td>\n",
       "      <td>0</td>\n",
       "      <td>0</td>\n",
       "      <td>1</td>\n",
       "      <td>1</td>\n",
       "      <td>0</td>\n",
       "      <td>0</td>\n",
       "      <td>0</td>\n",
       "      <td>1</td>\n",
       "    </tr>\n",
       "    <tr>\n",
       "      <th>4</th>\n",
       "      <td>1</td>\n",
       "      <td>41.606061</td>\n",
       "      <td>53.1000</td>\n",
       "      <td>2</td>\n",
       "      <td>1</td>\n",
       "      <td>0</td>\n",
       "      <td>1</td>\n",
       "      <td>0</td>\n",
       "      <td>0</td>\n",
       "      <td>0</td>\n",
       "      <td>0</td>\n",
       "      <td>0</td>\n",
       "      <td>1</td>\n",
       "      <td>0</td>\n",
       "      <td>0</td>\n",
       "      <td>0</td>\n",
       "      <td>1</td>\n",
       "      <td>1</td>\n",
       "    </tr>\n",
       "    <tr>\n",
       "      <th>5</th>\n",
       "      <td>3</td>\n",
       "      <td>28.646119</td>\n",
       "      <td>8.0500</td>\n",
       "      <td>1</td>\n",
       "      <td>0</td>\n",
       "      <td>1</td>\n",
       "      <td>0</td>\n",
       "      <td>0</td>\n",
       "      <td>0</td>\n",
       "      <td>1</td>\n",
       "      <td>0</td>\n",
       "      <td>0</td>\n",
       "      <td>1</td>\n",
       "      <td>1</td>\n",
       "      <td>0</td>\n",
       "      <td>0</td>\n",
       "      <td>0</td>\n",
       "      <td>0</td>\n",
       "    </tr>\n",
       "  </tbody>\n",
       "</table>\n",
       "</div>"
      ],
      "text/plain": [
       "             Pclass        Age     Fare  Ticket Frequency  Sex_female  \\\n",
       "PassengerId                                                             \n",
       "1                 3  28.646119   7.2500                 1           0   \n",
       "2                 1  41.606061  71.2833                 1           1   \n",
       "3                 3  16.186567   7.9250                 1           1   \n",
       "4                 1  41.606061  53.1000                 2           1   \n",
       "5                 3  28.646119   8.0500                 1           0   \n",
       "\n",
       "             Sex_male  Cabin_ABC  Cabin_DE  Cabin_FG  Cabin_M  Embarked_C  \\\n",
       "PassengerId                                                                 \n",
       "1                   1          0         0         0        1           0   \n",
       "2                   0          1         0         0        0           1   \n",
       "3                   0          0         0         0        1           0   \n",
       "4                   0          1         0         0        0           0   \n",
       "5                   1          0         0         0        1           0   \n",
       "\n",
       "             Embarked_Q  Embarked_S  Family Size_Alone  Family Size_Large  \\\n",
       "PassengerId                                                                 \n",
       "1                     0           1                  0                  0   \n",
       "2                     0           0                  0                  0   \n",
       "3                     0           1                  1                  0   \n",
       "4                     0           1                  0                  0   \n",
       "5                     0           1                  1                  0   \n",
       "\n",
       "             Family Size_Medium  Family Size_Small  Survived  \n",
       "PassengerId                                                   \n",
       "1                             0                  1         0  \n",
       "2                             0                  1         1  \n",
       "3                             0                  0         1  \n",
       "4                             0                  1         1  \n",
       "5                             0                  0         0  "
      ]
     },
     "execution_count": 208,
     "metadata": {},
     "output_type": "execute_result"
    }
   ],
   "source": [
    "train_data_final = all_X.iloc[:891,:].copy()\n",
    "train_data_final['Survived'] = train_data['Survived']\n",
    "\n",
    "test_data_final = all_X.iloc[891:,:].copy()\n",
    "\n",
    "train_data_final.head()"
   ]
  },
  {
   "cell_type": "code",
   "execution_count": 209,
   "metadata": {},
   "outputs": [
    {
     "data": {
      "text/html": [
       "<div>\n",
       "<style scoped>\n",
       "    .dataframe tbody tr th:only-of-type {\n",
       "        vertical-align: middle;\n",
       "    }\n",
       "\n",
       "    .dataframe tbody tr th {\n",
       "        vertical-align: top;\n",
       "    }\n",
       "\n",
       "    .dataframe thead th {\n",
       "        text-align: right;\n",
       "    }\n",
       "</style>\n",
       "<table border=\"1\" class=\"dataframe\">\n",
       "  <thead>\n",
       "    <tr style=\"text-align: right;\">\n",
       "      <th></th>\n",
       "      <th>Pclass</th>\n",
       "      <th>Age</th>\n",
       "      <th>Fare</th>\n",
       "      <th>Ticket Frequency</th>\n",
       "      <th>Sex_female</th>\n",
       "      <th>Sex_male</th>\n",
       "      <th>Cabin_ABC</th>\n",
       "      <th>Cabin_DE</th>\n",
       "      <th>Cabin_FG</th>\n",
       "      <th>Cabin_M</th>\n",
       "      <th>Embarked_C</th>\n",
       "      <th>Embarked_Q</th>\n",
       "      <th>Embarked_S</th>\n",
       "      <th>Family Size_Alone</th>\n",
       "      <th>Family Size_Large</th>\n",
       "      <th>Family Size_Medium</th>\n",
       "      <th>Family Size_Small</th>\n",
       "    </tr>\n",
       "    <tr>\n",
       "      <th>PassengerId</th>\n",
       "      <th></th>\n",
       "      <th></th>\n",
       "      <th></th>\n",
       "      <th></th>\n",
       "      <th></th>\n",
       "      <th></th>\n",
       "      <th></th>\n",
       "      <th></th>\n",
       "      <th></th>\n",
       "      <th></th>\n",
       "      <th></th>\n",
       "      <th></th>\n",
       "      <th></th>\n",
       "      <th></th>\n",
       "      <th></th>\n",
       "      <th></th>\n",
       "      <th></th>\n",
       "    </tr>\n",
       "  </thead>\n",
       "  <tbody>\n",
       "    <tr>\n",
       "      <th>892</th>\n",
       "      <td>3</td>\n",
       "      <td>27.050000</td>\n",
       "      <td>7.8292</td>\n",
       "      <td>1</td>\n",
       "      <td>0</td>\n",
       "      <td>1</td>\n",
       "      <td>0</td>\n",
       "      <td>0</td>\n",
       "      <td>0</td>\n",
       "      <td>1</td>\n",
       "      <td>0</td>\n",
       "      <td>1</td>\n",
       "      <td>0</td>\n",
       "      <td>1</td>\n",
       "      <td>0</td>\n",
       "      <td>0</td>\n",
       "      <td>0</td>\n",
       "    </tr>\n",
       "    <tr>\n",
       "      <th>893</th>\n",
       "      <td>3</td>\n",
       "      <td>28.866667</td>\n",
       "      <td>7.0000</td>\n",
       "      <td>1</td>\n",
       "      <td>1</td>\n",
       "      <td>0</td>\n",
       "      <td>0</td>\n",
       "      <td>0</td>\n",
       "      <td>0</td>\n",
       "      <td>1</td>\n",
       "      <td>0</td>\n",
       "      <td>0</td>\n",
       "      <td>1</td>\n",
       "      <td>0</td>\n",
       "      <td>0</td>\n",
       "      <td>0</td>\n",
       "      <td>1</td>\n",
       "    </tr>\n",
       "    <tr>\n",
       "      <th>894</th>\n",
       "      <td>2</td>\n",
       "      <td>31.764151</td>\n",
       "      <td>9.6875</td>\n",
       "      <td>1</td>\n",
       "      <td>0</td>\n",
       "      <td>1</td>\n",
       "      <td>0</td>\n",
       "      <td>0</td>\n",
       "      <td>0</td>\n",
       "      <td>1</td>\n",
       "      <td>0</td>\n",
       "      <td>1</td>\n",
       "      <td>0</td>\n",
       "      <td>1</td>\n",
       "      <td>0</td>\n",
       "      <td>0</td>\n",
       "      <td>0</td>\n",
       "    </tr>\n",
       "    <tr>\n",
       "      <th>895</th>\n",
       "      <td>3</td>\n",
       "      <td>27.050000</td>\n",
       "      <td>8.6625</td>\n",
       "      <td>1</td>\n",
       "      <td>0</td>\n",
       "      <td>1</td>\n",
       "      <td>0</td>\n",
       "      <td>0</td>\n",
       "      <td>0</td>\n",
       "      <td>1</td>\n",
       "      <td>0</td>\n",
       "      <td>0</td>\n",
       "      <td>1</td>\n",
       "      <td>1</td>\n",
       "      <td>0</td>\n",
       "      <td>0</td>\n",
       "      <td>0</td>\n",
       "    </tr>\n",
       "    <tr>\n",
       "      <th>896</th>\n",
       "      <td>3</td>\n",
       "      <td>28.866667</td>\n",
       "      <td>12.2875</td>\n",
       "      <td>1</td>\n",
       "      <td>1</td>\n",
       "      <td>0</td>\n",
       "      <td>0</td>\n",
       "      <td>0</td>\n",
       "      <td>0</td>\n",
       "      <td>1</td>\n",
       "      <td>0</td>\n",
       "      <td>0</td>\n",
       "      <td>1</td>\n",
       "      <td>0</td>\n",
       "      <td>0</td>\n",
       "      <td>0</td>\n",
       "      <td>1</td>\n",
       "    </tr>\n",
       "  </tbody>\n",
       "</table>\n",
       "</div>"
      ],
      "text/plain": [
       "             Pclass        Age     Fare  Ticket Frequency  Sex_female  \\\n",
       "PassengerId                                                             \n",
       "892               3  27.050000   7.8292                 1           0   \n",
       "893               3  28.866667   7.0000                 1           1   \n",
       "894               2  31.764151   9.6875                 1           0   \n",
       "895               3  27.050000   8.6625                 1           0   \n",
       "896               3  28.866667  12.2875                 1           1   \n",
       "\n",
       "             Sex_male  Cabin_ABC  Cabin_DE  Cabin_FG  Cabin_M  Embarked_C  \\\n",
       "PassengerId                                                                 \n",
       "892                 1          0         0         0        1           0   \n",
       "893                 0          0         0         0        1           0   \n",
       "894                 1          0         0         0        1           0   \n",
       "895                 1          0         0         0        1           0   \n",
       "896                 0          0         0         0        1           0   \n",
       "\n",
       "             Embarked_Q  Embarked_S  Family Size_Alone  Family Size_Large  \\\n",
       "PassengerId                                                                 \n",
       "892                   1           0                  1                  0   \n",
       "893                   0           1                  0                  0   \n",
       "894                   1           0                  1                  0   \n",
       "895                   0           1                  1                  0   \n",
       "896                   0           1                  0                  0   \n",
       "\n",
       "             Family Size_Medium  Family Size_Small  \n",
       "PassengerId                                         \n",
       "892                           0                  0  \n",
       "893                           0                  1  \n",
       "894                           0                  0  \n",
       "895                           0                  0  \n",
       "896                           0                  1  "
      ]
     },
     "execution_count": 209,
     "metadata": {},
     "output_type": "execute_result"
    }
   ],
   "source": [
    "test_data_final.head()"
   ]
  },
  {
   "cell_type": "markdown",
   "metadata": {},
   "source": [
    "Está tudo pronto!"
   ]
  },
  {
   "cell_type": "markdown",
   "metadata": {},
   "source": [
    "# Train Test Split"
   ]
  },
  {
   "cell_type": "markdown",
   "metadata": {},
   "source": [
    "Com o nosso dataset completo e corrigido, podemos agora separá-lo em treino e teste"
   ]
  },
  {
   "cell_type": "code",
   "execution_count": 210,
   "metadata": {},
   "outputs": [],
   "source": [
    "from sklearn.model_selection import train_test_split\n",
    "\n",
    "y = train_data_final['Survived']\n",
    "X = train_data_final.drop('Survived', axis=1)\n",
    "\n",
    "X_train, X_valid, y_train, y_valid = train_test_split(X, y, random_state=42, train_size=0.8)"
   ]
  },
  {
   "cell_type": "markdown",
   "metadata": {},
   "source": [
    "# Normalization"
   ]
  },
  {
   "cell_type": "markdown",
   "metadata": {},
   "source": [
    "A normalização não é necessária para os modelos de RandomForest, mas para o caso de uma SVM e uma Rede Neural é interessante, então por segurança vamos normalizar."
   ]
  },
  {
   "cell_type": "code",
   "execution_count": 229,
   "metadata": {},
   "outputs": [
    {
     "data": {
      "text/html": [
       "<div>\n",
       "<style scoped>\n",
       "    .dataframe tbody tr th:only-of-type {\n",
       "        vertical-align: middle;\n",
       "    }\n",
       "\n",
       "    .dataframe tbody tr th {\n",
       "        vertical-align: top;\n",
       "    }\n",
       "\n",
       "    .dataframe thead th {\n",
       "        text-align: right;\n",
       "    }\n",
       "</style>\n",
       "<table border=\"1\" class=\"dataframe\">\n",
       "  <thead>\n",
       "    <tr style=\"text-align: right;\">\n",
       "      <th></th>\n",
       "      <th>Pclass</th>\n",
       "      <th>Age</th>\n",
       "      <th>Fare</th>\n",
       "      <th>Ticket Frequency</th>\n",
       "      <th>Sex_female</th>\n",
       "      <th>Sex_male</th>\n",
       "      <th>Cabin_ABC</th>\n",
       "      <th>Cabin_DE</th>\n",
       "      <th>Cabin_FG</th>\n",
       "      <th>Cabin_M</th>\n",
       "      <th>Embarked_C</th>\n",
       "      <th>Embarked_Q</th>\n",
       "      <th>Embarked_S</th>\n",
       "      <th>Family Size_Alone</th>\n",
       "      <th>Family Size_Large</th>\n",
       "      <th>Family Size_Medium</th>\n",
       "      <th>Family Size_Small</th>\n",
       "    </tr>\n",
       "    <tr>\n",
       "      <th>PassengerId</th>\n",
       "      <th></th>\n",
       "      <th></th>\n",
       "      <th></th>\n",
       "      <th></th>\n",
       "      <th></th>\n",
       "      <th></th>\n",
       "      <th></th>\n",
       "      <th></th>\n",
       "      <th></th>\n",
       "      <th></th>\n",
       "      <th></th>\n",
       "      <th></th>\n",
       "      <th></th>\n",
       "      <th></th>\n",
       "      <th></th>\n",
       "      <th></th>\n",
       "      <th></th>\n",
       "    </tr>\n",
       "  </thead>\n",
       "  <tbody>\n",
       "    <tr>\n",
       "      <th>332</th>\n",
       "      <td>-1.613002</td>\n",
       "      <td>1.292775</td>\n",
       "      <td>-0.078628</td>\n",
       "      <td>-0.591396</td>\n",
       "      <td>-0.723801</td>\n",
       "      <td>0.723801</td>\n",
       "      <td>2.457846</td>\n",
       "      <td>-0.253347</td>\n",
       "      <td>-0.146597</td>\n",
       "      <td>-1.863626</td>\n",
       "      <td>-0.461138</td>\n",
       "      <td>-0.303142</td>\n",
       "      <td>0.592073</td>\n",
       "      <td>0.811632</td>\n",
       "      <td>-0.182578</td>\n",
       "      <td>-0.202184</td>\n",
       "      <td>-0.694733</td>\n",
       "    </tr>\n",
       "    <tr>\n",
       "      <th>734</th>\n",
       "      <td>-0.400270</td>\n",
       "      <td>0.368545</td>\n",
       "      <td>-0.376880</td>\n",
       "      <td>-0.591396</td>\n",
       "      <td>-0.723801</td>\n",
       "      <td>0.723801</td>\n",
       "      <td>-0.406289</td>\n",
       "      <td>-0.253347</td>\n",
       "      <td>-0.146597</td>\n",
       "      <td>0.535835</td>\n",
       "      <td>-0.461138</td>\n",
       "      <td>-0.303142</td>\n",
       "      <td>0.592073</td>\n",
       "      <td>0.811632</td>\n",
       "      <td>-0.182578</td>\n",
       "      <td>-0.202184</td>\n",
       "      <td>-0.694733</td>\n",
       "    </tr>\n",
       "    <tr>\n",
       "      <th>383</th>\n",
       "      <td>0.812463</td>\n",
       "      <td>-0.068552</td>\n",
       "      <td>-0.474533</td>\n",
       "      <td>-0.591396</td>\n",
       "      <td>-0.723801</td>\n",
       "      <td>0.723801</td>\n",
       "      <td>-0.406289</td>\n",
       "      <td>-0.253347</td>\n",
       "      <td>-0.146597</td>\n",
       "      <td>0.535835</td>\n",
       "      <td>-0.461138</td>\n",
       "      <td>-0.303142</td>\n",
       "      <td>0.592073</td>\n",
       "      <td>0.811632</td>\n",
       "      <td>-0.182578</td>\n",
       "      <td>-0.202184</td>\n",
       "      <td>-0.694733</td>\n",
       "    </tr>\n",
       "    <tr>\n",
       "      <th>705</th>\n",
       "      <td>0.812463</td>\n",
       "      <td>-0.068552</td>\n",
       "      <td>-0.475896</td>\n",
       "      <td>-0.591396</td>\n",
       "      <td>-0.723801</td>\n",
       "      <td>0.723801</td>\n",
       "      <td>-0.406289</td>\n",
       "      <td>-0.253347</td>\n",
       "      <td>-0.146597</td>\n",
       "      <td>0.535835</td>\n",
       "      <td>-0.461138</td>\n",
       "      <td>-0.303142</td>\n",
       "      <td>0.592073</td>\n",
       "      <td>-1.230354</td>\n",
       "      <td>-0.182578</td>\n",
       "      <td>-0.202184</td>\n",
       "      <td>1.437379</td>\n",
       "    </tr>\n",
       "    <tr>\n",
       "      <th>814</th>\n",
       "      <td>0.812463</td>\n",
       "      <td>-1.374963</td>\n",
       "      <td>-0.025232</td>\n",
       "      <td>3.727314</td>\n",
       "      <td>1.379654</td>\n",
       "      <td>-1.379654</td>\n",
       "      <td>-0.406289</td>\n",
       "      <td>-0.253347</td>\n",
       "      <td>-0.146597</td>\n",
       "      <td>0.535835</td>\n",
       "      <td>-0.461138</td>\n",
       "      <td>-0.303142</td>\n",
       "      <td>0.592073</td>\n",
       "      <td>-1.230354</td>\n",
       "      <td>5.469410</td>\n",
       "      <td>-0.202184</td>\n",
       "      <td>-0.694733</td>\n",
       "    </tr>\n",
       "    <tr>\n",
       "      <th>119</th>\n",
       "      <td>-1.613002</td>\n",
       "      <td>1.292775</td>\n",
       "      <td>4.135780</td>\n",
       "      <td>0.128389</td>\n",
       "      <td>-0.723801</td>\n",
       "      <td>0.723801</td>\n",
       "      <td>2.457846</td>\n",
       "      <td>-0.253347</td>\n",
       "      <td>-0.146597</td>\n",
       "      <td>-1.863626</td>\n",
       "      <td>2.165503</td>\n",
       "      <td>-0.303142</td>\n",
       "      <td>-1.686608</td>\n",
       "      <td>-1.230354</td>\n",
       "      <td>-0.182578</td>\n",
       "      <td>-0.202184</td>\n",
       "      <td>1.437379</td>\n",
       "    </tr>\n",
       "    <tr>\n",
       "      <th>537</th>\n",
       "      <td>-1.613002</td>\n",
       "      <td>1.646189</td>\n",
       "      <td>-0.116150</td>\n",
       "      <td>-0.591396</td>\n",
       "      <td>-0.723801</td>\n",
       "      <td>0.723801</td>\n",
       "      <td>2.457846</td>\n",
       "      <td>-0.253347</td>\n",
       "      <td>-0.146597</td>\n",
       "      <td>-1.863626</td>\n",
       "      <td>-0.461138</td>\n",
       "      <td>-0.303142</td>\n",
       "      <td>0.592073</td>\n",
       "      <td>0.811632</td>\n",
       "      <td>-0.182578</td>\n",
       "      <td>-0.202184</td>\n",
       "      <td>-0.694733</td>\n",
       "    </tr>\n",
       "    <tr>\n",
       "      <th>362</th>\n",
       "      <td>-0.400270</td>\n",
       "      <td>-0.031446</td>\n",
       "      <td>-0.093622</td>\n",
       "      <td>-0.591396</td>\n",
       "      <td>-0.723801</td>\n",
       "      <td>0.723801</td>\n",
       "      <td>-0.406289</td>\n",
       "      <td>-0.253347</td>\n",
       "      <td>-0.146597</td>\n",
       "      <td>0.535835</td>\n",
       "      <td>2.165503</td>\n",
       "      <td>-0.303142</td>\n",
       "      <td>-1.686608</td>\n",
       "      <td>-1.230354</td>\n",
       "      <td>-0.182578</td>\n",
       "      <td>-0.202184</td>\n",
       "      <td>1.437379</td>\n",
       "    </tr>\n",
       "    <tr>\n",
       "      <th>30</th>\n",
       "      <td>0.812463</td>\n",
       "      <td>-0.068552</td>\n",
       "      <td>-0.475095</td>\n",
       "      <td>-0.591396</td>\n",
       "      <td>-0.723801</td>\n",
       "      <td>0.723801</td>\n",
       "      <td>-0.406289</td>\n",
       "      <td>-0.253347</td>\n",
       "      <td>-0.146597</td>\n",
       "      <td>0.535835</td>\n",
       "      <td>-0.461138</td>\n",
       "      <td>-0.303142</td>\n",
       "      <td>0.592073</td>\n",
       "      <td>0.811632</td>\n",
       "      <td>-0.182578</td>\n",
       "      <td>-0.202184</td>\n",
       "      <td>-0.694733</td>\n",
       "    </tr>\n",
       "    <tr>\n",
       "      <th>56</th>\n",
       "      <td>-1.613002</td>\n",
       "      <td>1.292775</td>\n",
       "      <td>0.056066</td>\n",
       "      <td>-0.591396</td>\n",
       "      <td>-0.723801</td>\n",
       "      <td>0.723801</td>\n",
       "      <td>2.457846</td>\n",
       "      <td>-0.253347</td>\n",
       "      <td>-0.146597</td>\n",
       "      <td>-1.863626</td>\n",
       "      <td>-0.461138</td>\n",
       "      <td>-0.303142</td>\n",
       "      <td>0.592073</td>\n",
       "      <td>0.811632</td>\n",
       "      <td>-0.182578</td>\n",
       "      <td>-0.202184</td>\n",
       "      <td>-0.694733</td>\n",
       "    </tr>\n",
       "  </tbody>\n",
       "</table>\n",
       "</div>"
      ],
      "text/plain": [
       "               Pclass       Age      Fare  Ticket Frequency  Sex_female  \\\n",
       "PassengerId                                                               \n",
       "332         -1.613002  1.292775 -0.078628         -0.591396   -0.723801   \n",
       "734         -0.400270  0.368545 -0.376880         -0.591396   -0.723801   \n",
       "383          0.812463 -0.068552 -0.474533         -0.591396   -0.723801   \n",
       "705          0.812463 -0.068552 -0.475896         -0.591396   -0.723801   \n",
       "814          0.812463 -1.374963 -0.025232          3.727314    1.379654   \n",
       "119         -1.613002  1.292775  4.135780          0.128389   -0.723801   \n",
       "537         -1.613002  1.646189 -0.116150         -0.591396   -0.723801   \n",
       "362         -0.400270 -0.031446 -0.093622         -0.591396   -0.723801   \n",
       "30           0.812463 -0.068552 -0.475095         -0.591396   -0.723801   \n",
       "56          -1.613002  1.292775  0.056066         -0.591396   -0.723801   \n",
       "\n",
       "             Sex_male  Cabin_ABC  Cabin_DE  Cabin_FG   Cabin_M  Embarked_C  \\\n",
       "PassengerId                                                                  \n",
       "332          0.723801   2.457846 -0.253347 -0.146597 -1.863626   -0.461138   \n",
       "734          0.723801  -0.406289 -0.253347 -0.146597  0.535835   -0.461138   \n",
       "383          0.723801  -0.406289 -0.253347 -0.146597  0.535835   -0.461138   \n",
       "705          0.723801  -0.406289 -0.253347 -0.146597  0.535835   -0.461138   \n",
       "814         -1.379654  -0.406289 -0.253347 -0.146597  0.535835   -0.461138   \n",
       "119          0.723801   2.457846 -0.253347 -0.146597 -1.863626    2.165503   \n",
       "537          0.723801   2.457846 -0.253347 -0.146597 -1.863626   -0.461138   \n",
       "362          0.723801  -0.406289 -0.253347 -0.146597  0.535835    2.165503   \n",
       "30           0.723801  -0.406289 -0.253347 -0.146597  0.535835   -0.461138   \n",
       "56           0.723801   2.457846 -0.253347 -0.146597 -1.863626   -0.461138   \n",
       "\n",
       "             Embarked_Q  Embarked_S  Family Size_Alone  Family Size_Large  \\\n",
       "PassengerId                                                                 \n",
       "332           -0.303142    0.592073           0.811632          -0.182578   \n",
       "734           -0.303142    0.592073           0.811632          -0.182578   \n",
       "383           -0.303142    0.592073           0.811632          -0.182578   \n",
       "705           -0.303142    0.592073          -1.230354          -0.182578   \n",
       "814           -0.303142    0.592073          -1.230354           5.469410   \n",
       "119           -0.303142   -1.686608          -1.230354          -0.182578   \n",
       "537           -0.303142    0.592073           0.811632          -0.182578   \n",
       "362           -0.303142   -1.686608          -1.230354          -0.182578   \n",
       "30            -0.303142    0.592073           0.811632          -0.182578   \n",
       "56            -0.303142    0.592073           0.811632          -0.182578   \n",
       "\n",
       "             Family Size_Medium  Family Size_Small  \n",
       "PassengerId                                         \n",
       "332                   -0.202184          -0.694733  \n",
       "734                   -0.202184          -0.694733  \n",
       "383                   -0.202184          -0.694733  \n",
       "705                   -0.202184           1.437379  \n",
       "814                   -0.202184          -0.694733  \n",
       "119                   -0.202184           1.437379  \n",
       "537                   -0.202184          -0.694733  \n",
       "362                   -0.202184           1.437379  \n",
       "30                    -0.202184          -0.694733  \n",
       "56                    -0.202184          -0.694733  "
      ]
     },
     "execution_count": 229,
     "metadata": {},
     "output_type": "execute_result"
    }
   ],
   "source": [
    "method = 2\n",
    "\n",
    "if method == 1:\n",
    "    X_train_norm = (X_train - X_train.min()) / (X_train.max() - X_train.min()) \n",
    "    X_valid_norm = (X_valid - X_valid.min()) / (X_valid.max() - X_valid.min()) \n",
    "    X_test_norm = (test_data_final - test_data_final.min()) / (test_data_final.max() - test_data_final.min()) \n",
    "\n",
    "if method == 2:\n",
    "    X_train_norm = (X_train - X_train.mean()) / X_train.std()\n",
    "    X_valid_norm = (X_valid - X_valid.mean()) / X_valid.std()\n",
    "    X_test_norm = (test_data_final - test_data_final.mean()) / test_data_final.std()\n",
    "\n",
    "\n",
    "# Essa correção é necessária pois podem ter colunas totalmente nulas ou na validação ou no teste\n",
    "X_train_norm = X_train_norm.fillna(value=0.0, axis=1)\n",
    "X_valid_norm = X_valid_norm.fillna(value=0.0, axis=1)\n",
    "X_test_norm = X_test_norm.fillna(value=0.0, axis=1)\n",
    "\n",
    "X_train_norm.head(10)"
   ]
  },
  {
   "cell_type": "markdown",
   "metadata": {},
   "source": [
    "# Modelos que serão utilizados\n",
    "Os modelos a serem treinados serão os seguintes:\n",
    "- Logistic Regressor\n",
    "- RandomForest\n",
    "- XGBoost\n",
    "- SVM\n",
    "- Rede Neural com Dropout"
   ]
  },
  {
   "cell_type": "markdown",
   "metadata": {},
   "source": [
    "### Random Forest"
   ]
  },
  {
   "cell_type": "code",
   "execution_count": 230,
   "metadata": {},
   "outputs": [],
   "source": [
    "from sklearn.ensemble import RandomForestClassifier"
   ]
  },
  {
   "cell_type": "code",
   "execution_count": 231,
   "metadata": {},
   "outputs": [
    {
     "name": "stdout",
     "output_type": "stream",
     "text": [
      "Accuracy of RandomForest for n = 50: 0.7877\n",
      "Accuracy of RandomForest for n = 100: 0.7877\n",
      "Accuracy of RandomForest for n = 150: 0.7877\n",
      "Accuracy of RandomForest for n = 200: 0.7877\n",
      "Accuracy of RandomForest for n = 250: 0.7877\n",
      "Accuracy of RandomForest for n = 300: 0.7877\n",
      "Accuracy of RandomForest for n = 350: 0.7933\n",
      "Accuracy of RandomForest for n = 400: 0.7877\n",
      "Accuracy of RandomForest for n = 450: 0.7821\n",
      "Accuracy of RandomForest for n = 500: 0.7877\n",
      "Accuracy of RandomForest for n = 550: 0.7821\n",
      "Accuracy of RandomForest for n = 600: 0.7821\n",
      "Accuracy of RandomForest for n = 650: 0.7877\n",
      "Accuracy of RandomForest for n = 700: 0.7877\n",
      "Accuracy of RandomForest for n = 750: 0.7821\n",
      "Accuracy of RandomForest for n = 800: 0.7877\n",
      "Accuracy of RandomForest for n = 850: 0.7877\n",
      "Accuracy of RandomForest for n = 900: 0.7933\n",
      "Accuracy of RandomForest for n = 950: 0.7933\n",
      "Accuracy of RandomForest for n = 1000: 0.7933\n"
     ]
    }
   ],
   "source": [
    "for n_estimators in range(50,1050,50):\n",
    "    rf_classifier = RandomForestClassifier(n_estimators=n_estimators)\n",
    "    rf_classifier.fit(X_train_norm, y_train)\n",
    "    results = rf_classifier.predict(X_valid_norm) == np.array(y_valid)\n",
    "    accuracy_randomforest = results.sum() / len(results)\n",
    "    print(\"Accuracy of RandomForest for n = {}: {:.4f}\".format(n_estimators, accuracy_randomforest))"
   ]
  },
  {
   "cell_type": "code",
   "execution_count": 232,
   "metadata": {},
   "outputs": [
    {
     "data": {
      "text/plain": [
       "RandomForestClassifier(bootstrap=True, ccp_alpha=0.0, class_weight=None,\n",
       "                       criterion='gini', max_depth=None, max_features='auto',\n",
       "                       max_leaf_nodes=None, max_samples=None,\n",
       "                       min_impurity_decrease=0.0, min_impurity_split=None,\n",
       "                       min_samples_leaf=1, min_samples_split=2,\n",
       "                       min_weight_fraction_leaf=0.0, n_estimators=650,\n",
       "                       n_jobs=None, oob_score=False, random_state=None,\n",
       "                       verbose=0, warm_start=False)"
      ]
     },
     "execution_count": 232,
     "metadata": {},
     "output_type": "execute_result"
    }
   ],
   "source": [
    "rf_classifier = RandomForestClassifier(n_estimators=650)\n",
    "rf_classifier.fit(X_train_norm, y_train)"
   ]
  },
  {
   "cell_type": "code",
   "execution_count": 233,
   "metadata": {},
   "outputs": [
    {
     "name": "stdout",
     "output_type": "stream",
     "text": [
      "Accuracy of RandomForest: 0.7877\n"
     ]
    }
   ],
   "source": [
    "results = rf_classifier.predict(X_valid_norm) == np.array(y_valid)\n",
    "accuracy_randomforest = results.sum() / len(results)\n",
    "print(\"Accuracy of RandomForest: {:.4f}\".format(accuracy_randomforest))"
   ]
  },
  {
   "cell_type": "code",
   "execution_count": 234,
   "metadata": {},
   "outputs": [
    {
     "name": "stdout",
     "output_type": "stream",
     "text": [
      "Piores colunas : ['Cabin_FG', 'Embarked_Q', 'Family Size_Large']\n"
     ]
    },
    {
     "data": {
      "image/png": "[encoded data removed]",
      "text/plain": [
       "<Figure size 1152x648 with 1 Axes>"
      ]
     },
     "metadata": {},
     "output_type": "display_data"
    }
   ],
   "source": [
    "importances = rf_classifier.feature_importances_\n",
    "\n",
    "plt.figure(figsize=(16,9))\n",
    "g = sns.barplot(x=X_train_norm.columns, y=importances)\n",
    "#plt.xlabel(size=10)\n",
    "plt.xticks(rotation=60, fontsize=13)\n",
    "\n",
    "offset = 0.35\n",
    "for i, value in enumerate(importances):\n",
    "    g.text(i-offset, value+1e-3, \"{:.4f}\".format(value))\n",
    "\n",
    "worst_columns = list(X_train_norm.columns[importances < 0.0092])\n",
    "print(\"Piores colunas :\", worst_columns)\n",
    "plt.show()"
   ]
  },
  {
   "cell_type": "markdown",
   "metadata": {},
   "source": [
    "### Logistic Regressor"
   ]
  },
  {
   "cell_type": "code",
   "execution_count": 235,
   "metadata": {},
   "outputs": [],
   "source": [
    "from sklearn.linear_model import LogisticRegression"
   ]
  },
  {
   "cell_type": "code",
   "execution_count": 236,
   "metadata": {},
   "outputs": [
    {
     "data": {
      "text/plain": [
       "LogisticRegression(C=2.0, class_weight=None, dual=False, fit_intercept=True,\n",
       "                   intercept_scaling=1, l1_ratio=None, max_iter=100,\n",
       "                   multi_class='auto', n_jobs=None, penalty='l2',\n",
       "                   random_state=None, solver='lbfgs', tol=0.0001, verbose=0,\n",
       "                   warm_start=False)"
      ]
     },
     "execution_count": 236,
     "metadata": {},
     "output_type": "execute_result"
    }
   ],
   "source": [
    "lr_classifier = LogisticRegression(C=2.0)\n",
    "lr_classifier.fit(X_train_norm, y_train)"
   ]
  },
  {
   "cell_type": "code",
   "execution_count": 237,
   "metadata": {},
   "outputs": [
    {
     "name": "stdout",
     "output_type": "stream",
     "text": [
      "Accuracy of lr_classifier: 0.8268\n"
     ]
    }
   ],
   "source": [
    "results = lr_classifier.predict(X_valid_norm) == np.array(y_valid)\n",
    "accuracy_logistic = results.sum() / len(results)\n",
    "print(\"Accuracy of lr_classifier: {:.4f}\".format(accuracy_logistic))"
   ]
  },
  {
   "cell_type": "markdown",
   "metadata": {},
   "source": [
    "### XGBoost"
   ]
  },
  {
   "cell_type": "code",
   "execution_count": 238,
   "metadata": {},
   "outputs": [],
   "source": [
    "from xgboost import XGBClassifier"
   ]
  },
  {
   "cell_type": "code",
   "execution_count": 239,
   "metadata": {},
   "outputs": [
    {
     "name": "stdout",
     "output_type": "stream",
     "text": [
      "[0]\tvalidation_0-error:0.17877\n",
      "Will train until validation_0-error hasn't improved in 5 rounds.\n",
      "[1]\tvalidation_0-error:0.17877\n",
      "[2]\tvalidation_0-error:0.18994\n",
      "[3]\tvalidation_0-error:0.19553\n",
      "[4]\tvalidation_0-error:0.19553\n",
      "[5]\tvalidation_0-error:0.19553\n",
      "Stopping. Best iteration:\n",
      "[0]\tvalidation_0-error:0.17877\n",
      "\n"
     ]
    },
    {
     "data": {
      "text/plain": [
       "XGBClassifier(base_score=0.5, booster=None, colsample_bylevel=1,\n",
       "              colsample_bynode=1, colsample_bytree=1, gamma=0, gpu_id=-1,\n",
       "              importance_type='gain', interaction_constraints=None,\n",
       "              learning_rate=0.3, max_delta_step=0, max_depth=6,\n",
       "              min_child_weight=1, missing=nan, monotone_constraints=None,\n",
       "              n_estimators=1000, n_jobs=0, num_parallel_tree=1,\n",
       "              objective='binary:logistic', random_state=0, reg_alpha=0,\n",
       "              reg_lambda=1, scale_pos_weight=1, subsample=1, tree_method=None,\n",
       "              validate_parameters=False, verbosity=None)"
      ]
     },
     "execution_count": 239,
     "metadata": {},
     "output_type": "execute_result"
    }
   ],
   "source": [
    "xgb_classifier = XGBClassifier(n_estimators=1000, max_depth=6, learning_rate=0.3)\n",
    "xgb_classifier.fit(X_train_norm, y_train, early_stopping_rounds=5, eval_set=[(X_valid_norm, y_valid)])"
   ]
  },
  {
   "cell_type": "code",
   "execution_count": 240,
   "metadata": {},
   "outputs": [
    {
     "name": "stdout",
     "output_type": "stream",
     "text": [
      "Accuracy of XGBoost Classifier: 0.8212\n"
     ]
    }
   ],
   "source": [
    "results = xgb_classifier.predict(X_valid_norm) == np.array(y_valid)\n",
    "accuracy_xgboost = results.sum() / len(results)\n",
    "print(\"Accuracy of XGBoost Classifier: {:.4f}\".format(accuracy_xgboost))"
   ]
  },
  {
   "cell_type": "markdown",
   "metadata": {},
   "source": [
    "### SVM"
   ]
  },
  {
   "cell_type": "code",
   "execution_count": 241,
   "metadata": {},
   "outputs": [],
   "source": [
    "from sklearn.svm import SVC"
   ]
  },
  {
   "cell_type": "code",
   "execution_count": 266,
   "metadata": {},
   "outputs": [
    {
     "data": {
      "text/plain": [
       "SVC(C=2.0, break_ties=False, cache_size=200, class_weight=None, coef0=0.0,\n",
       "    decision_function_shape='ovr', degree=3, gamma='scale', kernel='poly',\n",
       "    max_iter=-1, probability=False, random_state=None, shrinking=True,\n",
       "    tol=0.001, verbose=False)"
      ]
     },
     "execution_count": 266,
     "metadata": {},
     "output_type": "execute_result"
    }
   ],
   "source": [
    "svm_classifier = SVC(C=2.0, kernel='poly', degree=3, coef0=0.0)\n",
    "svm_classifier.fit(X_train_norm, y_train)"
   ]
  },
  {
   "cell_type": "code",
   "execution_count": 267,
   "metadata": {},
   "outputs": [
    {
     "name": "stdout",
     "output_type": "stream",
     "text": [
      "Accuracy of SVM Classifier: 0.8324\n"
     ]
    }
   ],
   "source": [
    "results = svm_classifier.predict(X_valid_norm) == np.array(y_valid)\n",
    "accuracy_svm = results.sum() / len(results)\n",
    "print(\"Accuracy of SVM Classifier: {:.4f}\".format(accuracy_svm))"
   ]
  },
  {
   "cell_type": "markdown",
   "metadata": {},
   "source": [
    "# Torch Dataset"
   ]
  },
  {
   "cell_type": "markdown",
   "metadata": {},
   "source": [
    "Precisamos agora criar nossos datasets e dataloaders para o treino, a validação e o teste utilizados no Pytorch."
   ]
  },
  {
   "cell_type": "code",
   "execution_count": 268,
   "metadata": {},
   "outputs": [],
   "source": [
    "import torch\n",
    "from torch.utils.data import DataLoader, TensorDataset"
   ]
  },
  {
   "cell_type": "markdown",
   "metadata": {},
   "source": [
    "### Teste"
   ]
  },
  {
   "cell_type": "markdown",
   "metadata": {},
   "source": [
    "O teste não precisa ser encapsulado em um dataset ou dataloader, haja vista que só será utilizado para predição final"
   ]
  },
  {
   "cell_type": "code",
   "execution_count": 269,
   "metadata": {},
   "outputs": [
    {
     "data": {
      "text/plain": [
       "torch.Size([418, 17])"
      ]
     },
     "execution_count": 269,
     "metadata": {},
     "output_type": "execute_result"
    }
   ],
   "source": [
    "test_dataset = torch.FloatTensor(X_test_norm.values)\n",
    "test_dataset.shape"
   ]
  },
  {
   "cell_type": "markdown",
   "metadata": {},
   "source": [
    "### Validação"
   ]
  },
  {
   "cell_type": "markdown",
   "metadata": {},
   "source": [
    "Aqui o batch_size pode ser do tamanho do próprio dataset, pois não será utilizado para treinamento, apenas para checagem da Loss."
   ]
  },
  {
   "cell_type": "code",
   "execution_count": 270,
   "metadata": {},
   "outputs": [],
   "source": [
    "valid_dataset = TensorDataset(torch.FloatTensor(X_valid_norm.values), torch.FloatTensor(y_valid.values))\n",
    "batch_size = len(valid_dataset)\n",
    "valid_dataloader = DataLoader(valid_dataset, batch_size=batch_size, shuffle=False)"
   ]
  },
  {
   "cell_type": "markdown",
   "metadata": {},
   "source": [
    "### Treino"
   ]
  },
  {
   "cell_type": "code",
   "execution_count": 278,
   "metadata": {},
   "outputs": [],
   "source": [
    "train_dataset = TensorDataset(torch.FloatTensor(X_train_norm.values), torch.FloatTensor(y_train.values))\n",
    "batch_size = len(train_dataset)\n",
    "train_dataloader = DataLoader(train_dataset, batch_size=batch_size, shuffle=True)"
   ]
  },
  {
   "cell_type": "markdown",
   "metadata": {},
   "source": [
    "# Definição da Arquitetura"
   ]
  },
  {
   "cell_type": "markdown",
   "metadata": {},
   "source": [
    "Vamos criar uma arquitetura complexa com camadas de Dropout para evitar overfitting."
   ]
  },
  {
   "cell_type": "code",
   "execution_count": 272,
   "metadata": {},
   "outputs": [],
   "source": [
    "import torch.nn as nn\n",
    "import torch.nn.functional as F\n",
    "\n",
    "class Ark(nn.Module):\n",
    "    \n",
    "    def __init__(self, in_features):\n",
    "        super().__init__()\n",
    "        self.fc1 = nn.Linear(in_features, 30)\n",
    "        self.fc2 = nn.Linear(30, 15)\n",
    "        self.fc3 = nn.Linear(15, 2)\n",
    "        self.drop = nn.Dropout(0.5)\n",
    "        \n",
    "    def forward(self, x):\n",
    "        x = self.drop(F.relu(self.fc1(x)))\n",
    "        x = self.drop(F.relu(self.fc2(x)))\n",
    "        x = self.fc3(x)\n",
    "        return x"
   ]
  },
  {
   "cell_type": "markdown",
   "metadata": {},
   "source": [
    "# Loop de treinamento e checagem"
   ]
  },
  {
   "cell_type": "markdown",
   "metadata": {},
   "source": [
    "Definimos então os loops de treinamento e checagem"
   ]
  },
  {
   "cell_type": "code",
   "execution_count": 273,
   "metadata": {},
   "outputs": [],
   "source": [
    "def check_acuracy(model, device):\n",
    "    model = model.to(device)\n",
    "    \n",
    "    correct = 0\n",
    "    total = 0\n",
    "    model.eval()\n",
    "    for features, labels in valid_dataloader:\n",
    "        features = features.to(device)\n",
    "        labels = labels.long().to(device)\n",
    "        \n",
    "        out = model(features)\n",
    "        truth_tensor = out.argmax(dim=1) == labels\n",
    "        correct += truth_tensor.sum().item()\n",
    "        total += len(truth_tensor)\n",
    "        \n",
    "    accuracy = correct / total\n",
    "    return accuracy, correct, total - correct"
   ]
  },
  {
   "cell_type": "code",
   "execution_count": 274,
   "metadata": {},
   "outputs": [],
   "source": [
    "def training_loop(n_epochs, model, optimizer, loss_fn, device, print_every=1, verbose=1):\n",
    "    loss_fn = loss_fn.to(device)\n",
    "    model = model.to(device)\n",
    "    \n",
    "    train_loss_list = []\n",
    "    val_loss_list = []\n",
    "    for epoch in range(1, n_epochs + 1):\n",
    "        \n",
    "        model.train()\n",
    "        train_loss = 0\n",
    "        for features, labels in train_dataloader:\n",
    "            features = features.to(device)\n",
    "            labels = labels.long().to(device)\n",
    "            \n",
    "            out = model(features)\n",
    "            loss = loss_fn(out, labels)\n",
    "            train_loss += loss.item()\n",
    "            optimizer.zero_grad()\n",
    "            loss.backward()\n",
    "            optimizer.step()\n",
    "            \n",
    "        model.eval()\n",
    "        val_loss = 0\n",
    "        with torch.no_grad():\n",
    "            for features, labels in valid_dataloader:\n",
    "                features = features.to(device)\n",
    "                labels = labels.long().to(device)\n",
    "\n",
    "                out = model(features)\n",
    "                val_loss += loss_fn(out, labels).item()    \n",
    "                \n",
    "        if (epoch % print_every == 0 or epoch == 1) and verbose == 1:\n",
    "            acc, correct, incorrect = check_acuracy(model, 'cuda:0')\n",
    "            print(\"Epoch {}/{} : Train Loss {:.5f} | Val Loss {:.5f} | Accuracy: {:.4f}\".format(epoch, n_epochs, train_loss, val_loss, acc))\n",
    "            if acc > 0.82:\n",
    "                print(\"DETECTADO SUCESSO APARENTE... FINALIZANDO\")\n",
    "                break\n",
    "            \n",
    "        train_loss_list.append(train_loss)\n",
    "        val_loss_list.append(val_loss)\n",
    "        \n",
    "    figs, axes = plt.subplots(1, 2, figsize=(19,7))\n",
    "    sns.lineplot(x=np.arange(0,len(train_loss_list)), y=train_loss_list, label='Train', ax=axes[0])\n",
    "    sns.lineplot(x=np.arange(0,len(val_loss_list)), y=val_loss_list, label='Test', color='darkorange', ax=axes[1])\n",
    "    axes[0].legend(fontsize=15)\n",
    "    axes[1].legend(fontsize=15)\n",
    "    plt.show()"
   ]
  },
  {
   "cell_type": "markdown",
   "metadata": {},
   "source": [
    "### Ark"
   ]
  },
  {
   "cell_type": "code",
   "execution_count": 283,
   "metadata": {},
   "outputs": [
    {
     "name": "stdout",
     "output_type": "stream",
     "text": [
      "Epoch 1/1000 : Train Loss 0.70777 | Val Loss 0.71187 | Accuracy: 0.5531\n",
      "Epoch 50/1000 : Train Loss 0.60110 | Val Loss 0.58780 | Accuracy: 0.6201\n",
      "Epoch 100/1000 : Train Loss 0.51704 | Val Loss 0.45652 | Accuracy: 0.7933\n",
      "Epoch 150/1000 : Train Loss 0.47619 | Val Loss 0.43438 | Accuracy: 0.7989\n",
      "Epoch 200/1000 : Train Loss 0.45005 | Val Loss 0.42753 | Accuracy: 0.7989\n",
      "Epoch 250/1000 : Train Loss 0.44439 | Val Loss 0.42551 | Accuracy: 0.7933\n",
      "Epoch 300/1000 : Train Loss 0.43391 | Val Loss 0.42362 | Accuracy: 0.7989\n",
      "Epoch 350/1000 : Train Loss 0.41405 | Val Loss 0.42157 | Accuracy: 0.8045\n",
      "Epoch 400/1000 : Train Loss 0.41503 | Val Loss 0.41972 | Accuracy: 0.7989\n",
      "Epoch 450/1000 : Train Loss 0.43598 | Val Loss 0.41833 | Accuracy: 0.8156\n",
      "Epoch 500/1000 : Train Loss 0.41901 | Val Loss 0.41788 | Accuracy: 0.8101\n",
      "Epoch 550/1000 : Train Loss 0.39661 | Val Loss 0.41582 | Accuracy: 0.8156\n",
      "Epoch 600/1000 : Train Loss 0.40477 | Val Loss 0.41610 | Accuracy: 0.8156\n",
      "Epoch 650/1000 : Train Loss 0.40758 | Val Loss 0.41346 | Accuracy: 0.8156\n",
      "Epoch 700/1000 : Train Loss 0.39771 | Val Loss 0.41453 | Accuracy: 0.8212\n",
      "DETECTADO SUCESSO APARENTE... FINALIZANDO\n"
     ]
    },
    {
     "data": {
      "image/png": "[encoded data removed]",
      "text/plain": [
       "<Figure size 1368x504 with 2 Axes>"
      ]
     },
     "metadata": {},
     "output_type": "display_data"
    }
   ],
   "source": [
    "pt_model = Ark(train_dataset[0][0].shape[0])\n",
    "optimizer = torch.optim.Adam(pt_model.parameters(), lr=0.001)\n",
    "loss_fn = nn.CrossEntropyLoss()\n",
    "\n",
    "training_loop(n_epochs=1000, \n",
    "              model=pt_model, \n",
    "              optimizer=optimizer, \n",
    "              loss_fn=loss_fn, \n",
    "              device='cuda:0', \n",
    "              print_every=50, \n",
    "              verbose=1)"
   ]
  },
  {
   "cell_type": "code",
   "execution_count": 284,
   "metadata": {},
   "outputs": [
    {
     "name": "stdout",
     "output_type": "stream",
     "text": [
      "|| Model1 stats || \n",
      "| Accuracy: 0.82123\n",
      "| Correct: 147\n",
      "| Incorrect: 32\n"
     ]
    }
   ],
   "source": [
    "accuracy_pytorch, correct, incorrect = check_acuracy(pt_model, 'cuda:0')\n",
    "print(\"|| Model1 stats || \\n| Accuracy: {:.5f}\\n| Correct: {}\\n| Incorrect: {}\".format(accuracy_pytorch, correct, incorrect))"
   ]
  },
  {
   "cell_type": "markdown",
   "metadata": {},
   "source": [
    "# Plotando resultados de todos os modelos"
   ]
  },
  {
   "cell_type": "code",
   "execution_count": 286,
   "metadata": {},
   "outputs": [
    {
     "data": {
      "text/html": [
       "<div>\n",
       "<style scoped>\n",
       "    .dataframe tbody tr th:only-of-type {\n",
       "        vertical-align: middle;\n",
       "    }\n",
       "\n",
       "    .dataframe tbody tr th {\n",
       "        vertical-align: top;\n",
       "    }\n",
       "\n",
       "    .dataframe thead th {\n",
       "        text-align: right;\n",
       "    }\n",
       "</style>\n",
       "<table border=\"1\" class=\"dataframe\">\n",
       "  <thead>\n",
       "    <tr style=\"text-align: right;\">\n",
       "      <th></th>\n",
       "      <th>Accuracy</th>\n",
       "    </tr>\n",
       "  </thead>\n",
       "  <tbody>\n",
       "    <tr>\n",
       "      <th>SVM</th>\n",
       "      <td>0.832402</td>\n",
       "    </tr>\n",
       "    <tr>\n",
       "      <th>Logistic Regressor</th>\n",
       "      <td>0.826816</td>\n",
       "    </tr>\n",
       "    <tr>\n",
       "      <th>XGBoost</th>\n",
       "      <td>0.821229</td>\n",
       "    </tr>\n",
       "    <tr>\n",
       "      <th>PyTorch</th>\n",
       "      <td>0.821229</td>\n",
       "    </tr>\n",
       "    <tr>\n",
       "      <th>RandomForest</th>\n",
       "      <td>0.787709</td>\n",
       "    </tr>\n",
       "  </tbody>\n",
       "</table>\n",
       "</div>"
      ],
      "text/plain": [
       "                    Accuracy\n",
       "SVM                 0.832402\n",
       "Logistic Regressor  0.826816\n",
       "XGBoost             0.821229\n",
       "PyTorch             0.821229\n",
       "RandomForest        0.787709"
      ]
     },
     "execution_count": 286,
     "metadata": {},
     "output_type": "execute_result"
    }
   ],
   "source": [
    "results = pd.DataFrame({\"Logistic Regressor\": [accuracy_logistic],\"SVM\": [accuracy_svm], \"RandomForest\": [accuracy_randomforest], \"XGBoost\": [accuracy_xgboost], \"PyTorch\": [accuracy_pytorch]}).transpose().rename(columns={0: \"Accuracy\"}).sort_values(['Accuracy'], ascending=False)\n",
    "results"
   ]
  },
  {
   "cell_type": "markdown",
   "metadata": {},
   "source": [
    "Vemos que, para o set de treinamento utilizado, temos uma performance melhor de algoritmos como o Logistic Regressor, o XGBoost e a SVM."
   ]
  },
  {
   "cell_type": "code",
   "execution_count": 287,
   "metadata": {},
   "outputs": [],
   "source": [
    "# for Logistic\n",
    "predictions_logistic = lr_classifier.predict(X_test_norm)\n",
    "\n",
    "# for RandomForest\n",
    "predictions_rf = rf_classifier.predict(X_test_norm)\n",
    "\n",
    "# for XGBoost\n",
    "predictions_xgb = xgb_classifier.predict(X_test_norm)\n",
    "\n",
    "# for SVM\n",
    "predictions_svm = svm_classifier.predict(X_test_norm)\n",
    "\n",
    "# for PyTorch\n",
    "predictions_pytorch = pt_model.cpu()(test_dataset).argmax(dim=1).detach().numpy()"
   ]
  },
  {
   "cell_type": "markdown",
   "metadata": {},
   "source": [
    "## Gerando a submissão final"
   ]
  },
  {
   "cell_type": "markdown",
   "metadata": {},
   "source": [
    "Neste caso irei submeter o resultado obtido pelo modelo de redes neurais, porém qualquer um aqui entregaria um bom resultado!"
   ]
  },
  {
   "cell_type": "code",
   "execution_count": 292,
   "metadata": {},
   "outputs": [
    {
     "data": {
      "text/html": [
       "<div>\n",
       "<style scoped>\n",
       "    .dataframe tbody tr th:only-of-type {\n",
       "        vertical-align: middle;\n",
       "    }\n",
       "\n",
       "    .dataframe tbody tr th {\n",
       "        vertical-align: top;\n",
       "    }\n",
       "\n",
       "    .dataframe thead th {\n",
       "        text-align: right;\n",
       "    }\n",
       "</style>\n",
       "<table border=\"1\" class=\"dataframe\">\n",
       "  <thead>\n",
       "    <tr style=\"text-align: right;\">\n",
       "      <th></th>\n",
       "      <th>PassengerId</th>\n",
       "      <th>Survived</th>\n",
       "    </tr>\n",
       "  </thead>\n",
       "  <tbody>\n",
       "    <tr>\n",
       "      <th>0</th>\n",
       "      <td>892</td>\n",
       "      <td>0</td>\n",
       "    </tr>\n",
       "    <tr>\n",
       "      <th>1</th>\n",
       "      <td>893</td>\n",
       "      <td>0</td>\n",
       "    </tr>\n",
       "    <tr>\n",
       "      <th>2</th>\n",
       "      <td>894</td>\n",
       "      <td>0</td>\n",
       "    </tr>\n",
       "    <tr>\n",
       "      <th>3</th>\n",
       "      <td>895</td>\n",
       "      <td>0</td>\n",
       "    </tr>\n",
       "    <tr>\n",
       "      <th>4</th>\n",
       "      <td>896</td>\n",
       "      <td>0</td>\n",
       "    </tr>\n",
       "    <tr>\n",
       "      <th>...</th>\n",
       "      <td>...</td>\n",
       "      <td>...</td>\n",
       "    </tr>\n",
       "    <tr>\n",
       "      <th>413</th>\n",
       "      <td>1305</td>\n",
       "      <td>0</td>\n",
       "    </tr>\n",
       "    <tr>\n",
       "      <th>414</th>\n",
       "      <td>1306</td>\n",
       "      <td>1</td>\n",
       "    </tr>\n",
       "    <tr>\n",
       "      <th>415</th>\n",
       "      <td>1307</td>\n",
       "      <td>0</td>\n",
       "    </tr>\n",
       "    <tr>\n",
       "      <th>416</th>\n",
       "      <td>1308</td>\n",
       "      <td>0</td>\n",
       "    </tr>\n",
       "    <tr>\n",
       "      <th>417</th>\n",
       "      <td>1309</td>\n",
       "      <td>1</td>\n",
       "    </tr>\n",
       "  </tbody>\n",
       "</table>\n",
       "<p>418 rows × 2 columns</p>\n",
       "</div>"
      ],
      "text/plain": [
       "     PassengerId  Survived\n",
       "0            892         0\n",
       "1            893         0\n",
       "2            894         0\n",
       "3            895         0\n",
       "4            896         0\n",
       "..           ...       ...\n",
       "413         1305         0\n",
       "414         1306         1\n",
       "415         1307         0\n",
       "416         1308         0\n",
       "417         1309         1\n",
       "\n",
       "[418 rows x 2 columns]"
      ]
     },
     "execution_count": 292,
     "metadata": {},
     "output_type": "execute_result"
    }
   ],
   "source": [
    "output = pd.DataFrame({'PassengerId': test_data.index, 'Survived': predictions_pytorch})\n",
    "name = 'submission9_pytorch_notebook6.csv'\n",
    "output.to_csv('./Submissions/' + name, index=False)\n",
    "output"
   ]
  },
  {
   "cell_type": "markdown",
   "metadata": {},
   "source": [
    "## Concluído"
   ]
  },
  {
   "cell_type": "markdown",
   "metadata": {},
   "source": [
    "Com isso conclui-se o processo de exploração e treinamento do desafio do Titanic."
   ]
  }
 ],
 "metadata": {
  "kernelspec": {
   "display_name": "Python 3",
   "language": "python",
   "name": "python3"
  },
  "language_info": {
   "codemirror_mode": {
    "name": "ipython",
    "version": 3
   },
   "file_extension": ".py",
   "mimetype": "text/x-python",
   "name": "python",
   "nbconvert_exporter": "python",
   "pygments_lexer": "ipython3",
   "version": "3.8.5"
  }
 },
 "nbformat": 4,
 "nbformat_minor": 4
}
